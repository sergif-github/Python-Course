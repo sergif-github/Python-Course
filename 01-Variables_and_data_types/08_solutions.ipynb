{
 "cells": [
  {
   "attachments": {},
   "cell_type": "markdown",
   "id": "b8d1c3ff",
   "metadata": {},
   "source": [
    "# Module 1: Variables and data types\n",
    "\n",
    "## Part 8: Solutions"
   ]
  },
  {
   "attachments": {},
   "cell_type": "markdown",
   "id": "94611874",
   "metadata": {
    "lines_to_next_cell": 2
   },
   "source": [
    "### Exercise 1\n",
    "Write a Python program that assigns a value of 5 to a variable x and prints its value."
   ]
  },
  {
   "cell_type": "code",
   "execution_count": null,
   "id": "e85b612b",
   "metadata": {},
   "outputs": [],
   "source": [
    "x = 5\n",
    "print(x)"
   ]
  },
  {
   "attachments": {},
   "cell_type": "markdown",
   "id": "849a8e20",
   "metadata": {
    "lines_to_next_cell": 2
   },
   "source": [
    "### Exercise 2\n",
    "Write a Python program that assigns the values 10, 20, and 30 to variables a, b, and c respectively, all in a single line.\n",
    "Print the values of a, b, and c."
   ]
  },
  {
   "cell_type": "code",
   "execution_count": null,
   "id": "4f9eb2f2",
   "metadata": {},
   "outputs": [],
   "source": [
    "a, b, c = 10, 20, 30\n",
    "print(a)\n",
    "print(b)\n",
    "print(c)"
   ]
  },
  {
   "attachments": {},
   "cell_type": "markdown",
   "id": "9ede90fe",
   "metadata": {
    "lines_to_next_cell": 2
   },
   "source": [
    "### Exercise 3\n",
    "Write a Python program that takes two numbers as input from the user and calculates their sum. Print the result."
   ]
  },
  {
   "cell_type": "code",
   "execution_count": null,
   "id": "8a4bdeac",
   "metadata": {},
   "outputs": [],
   "source": [
    "num1 = float(input(\"Enter the first number: \"))\n",
    "num2 = float(input(\"Enter the second number: \"))\n",
    "sum_result = num1 + num2\n",
    "print(\"The sum of\", num1, \"and\", num2, \"is\", sum_result)"
   ]
  },
  {
   "attachments": {},
   "cell_type": "markdown",
   "id": "f92465ea",
   "metadata": {
    "lines_to_next_cell": 2
   },
   "source": [
    "### Exercise 4\n",
    "Write a Python program that takes two numbers as input from the user and calculates their difference. Print the result."
   ]
  },
  {
   "cell_type": "code",
   "execution_count": null,
   "id": "8b37dba9",
   "metadata": {},
   "outputs": [],
   "source": [
    "num1 = float(input(\"Enter the first number: \"))\n",
    "num2 = float(input(\"Enter the second number: \"))\n",
    "diff_result = num1 - num2\n",
    "print(\"The difference between\", num1, \"and\", num2, \"is\", diff_result)"
   ]
  },
  {
   "attachments": {},
   "cell_type": "markdown",
   "id": "0a6d8c34",
   "metadata": {
    "lines_to_next_cell": 2
   },
   "source": [
    "### Exercise 5\n",
    "Write a Python program that takes two numbers as input from the user and calculates their product. Print the result."
   ]
  },
  {
   "cell_type": "code",
   "execution_count": null,
   "id": "cd6ac3cf",
   "metadata": {},
   "outputs": [],
   "source": [
    "num1 = float(input(\"Enter the first number: \"))\n",
    "num2 = float(input(\"Enter the second number: \"))\n",
    "product_result = num1 * num2\n",
    "print(\"The product of\", num1, \"and\", num2, \"is\", product_result)"
   ]
  },
  {
   "attachments": {},
   "cell_type": "markdown",
   "id": "45b89af0",
   "metadata": {
    "lines_to_next_cell": 2
   },
   "source": [
    "### Exercise 6\n",
    "Write a Python program that takes two numbers as input from the user and calculates their division. Print the result."
   ]
  },
  {
   "cell_type": "code",
   "execution_count": null,
   "id": "ebbc95d6",
   "metadata": {},
   "outputs": [],
   "source": [
    "num1 = float(input(\"Enter the first number: \"))\n",
    "num2 = float(input(\"Enter the second number: \"))\n",
    "division_result = num1 / num2\n",
    "print(\"The division of\", num1, \"and\", num2, \"is\", product_result)"
   ]
  },
  {
   "attachments": {},
   "cell_type": "markdown",
   "id": "f0b430d3",
   "metadata": {
    "lines_to_next_cell": 2
   },
   "source": [
    "### Exercise 7\n",
    "Write a Python program that prompts the user to enter their name and stores it in a variable called name. Print the value of name."
   ]
  },
  {
   "cell_type": "code",
   "execution_count": null,
   "id": "17d5c609",
   "metadata": {},
   "outputs": [],
   "source": [
    "name = input(\"Enter your name: \")\n",
    "print(name)"
   ]
  },
  {
   "attachments": {},
   "cell_type": "markdown",
   "id": "ff7cb1e1",
   "metadata": {
    "lines_to_next_cell": 2
   },
   "source": [
    "### Exercise 8\n",
    "Write a Python program that prompts the user to enter their first name and last name separately. Concatenate the two strings\n",
    "and print the full name."
   ]
  },
  {
   "cell_type": "code",
   "execution_count": null,
   "id": "85f10b88",
   "metadata": {},
   "outputs": [],
   "source": [
    "first_name = input(\"Enter your first name: \")\n",
    "last_name = input(\"Enter your last name: \")\n",
    "full_name = first_name + \" \" + last_name\n",
    "print(\"Full name:\", full_name)"
   ]
  },
  {
   "attachments": {},
   "cell_type": "markdown",
   "id": "5c7d80cf",
   "metadata": {
    "lines_to_next_cell": 2
   },
   "source": [
    "### Exercise 9\n",
    "Write a Python program that prompts the user to enter a sentence and calculates the length of the sentence. Print the length."
   ]
  },
  {
   "cell_type": "code",
   "execution_count": null,
   "id": "899d10ab",
   "metadata": {},
   "outputs": [],
   "source": [
    "sentence = input(\"Enter a sentence: \")\n",
    "length = len(sentence)\n",
    "print(\"Length:\", length)"
   ]
  },
  {
   "attachments": {},
   "cell_type": "markdown",
   "id": "8baae4ed",
   "metadata": {
    "lines_to_next_cell": 2
   },
   "source": [
    "### Exercise 10\n",
    "Write a Python program that prompts the user to enter a sentence and a word to search. Count the number of occurrences\n",
    "of the word in the sentence and print the count."
   ]
  },
  {
   "cell_type": "code",
   "execution_count": null,
   "id": "32f535c3",
   "metadata": {},
   "outputs": [],
   "source": [
    "sentence = input(\"Enter a sentence: \")\n",
    "word = input(\"Enter a word to search: \")\n",
    "count = sentence.count(word)\n",
    "print(\"Number of occurrences:\", count)"
   ]
  },
  {
   "attachments": {},
   "cell_type": "markdown",
   "id": "94faf88e",
   "metadata": {
    "lines_to_next_cell": 2
   },
   "source": [
    "### Exercise 11\n",
    "Write a Python program that prompts the user to enter a word and stores it in a variable called word. Access the first character\n",
    "of the word and print it."
   ]
  },
  {
   "cell_type": "code",
   "execution_count": null,
   "id": "bb2964dc",
   "metadata": {},
   "outputs": [],
   "source": [
    "word = input(\"Enter a word: \")\n",
    "first_character = word[0]\n",
    "print(\"First character:\", first_character)"
   ]
  },
  {
   "attachments": {},
   "cell_type": "markdown",
   "id": "2831a998",
   "metadata": {
    "lines_to_next_cell": 2
   },
   "source": [
    "### Exercise 12\n",
    "Write a Python program that prompts the user to enter a sentence and stores it in a variable called sentence. Use string slicing\n",
    "to print the first three characters of the sentence."
   ]
  },
  {
   "cell_type": "code",
   "execution_count": null,
   "id": "7d96c99e",
   "metadata": {},
   "outputs": [],
   "source": [
    "sentence = input(\"Enter a sentence: \")\n",
    "first_three_characters = sentence[:3]\n",
    "print(\"First three characters:\", first_three_characters)"
   ]
  },
  {
   "attachments": {},
   "cell_type": "markdown",
   "id": "0b12268c",
   "metadata": {
    "lines_to_next_cell": 2
   },
   "source": [
    "### Exercise 13\n",
    "Write a Python program that prompts the user to enter a word. Use string slicing to extract the first three characters,\n",
    "the last three characters, and a substring starting from the fourth character up to the end of the word. Print the extracted substrings."
   ]
  },
  {
   "cell_type": "code",
   "execution_count": null,
   "id": "265f5834",
   "metadata": {},
   "outputs": [],
   "source": [
    "word = input(\"Enter a word: \")\n",
    "first_three = word[:3]\n",
    "last_three = word[-3:]\n",
    "substring = word[3:]\n",
    "print(\"First three characters:\", first_three)\n",
    "print(\"Last three characters:\", last_three)\n",
    "print(\"Substring from the fourth character:\", substring)"
   ]
  },
  {
   "attachments": {},
   "cell_type": "markdown",
   "id": "871e61af",
   "metadata": {
    "lines_to_next_cell": 2
   },
   "source": [
    "### Exercise 14\n",
    "Write a Python program that prompts the user to enter a word. Reverse the word using string slicing and print the reversed word."
   ]
  },
  {
   "cell_type": "code",
   "execution_count": null,
   "id": "acabe2d2",
   "metadata": {},
   "outputs": [],
   "source": [
    "word = input(\"Enter a word: \")\n",
    "reversed_word = word[::-1]\n",
    "print(\"Reversed word:\", reversed_word)"
   ]
  },
  {
   "attachments": {},
   "cell_type": "markdown",
   "id": "448d34ba",
   "metadata": {
    "lines_to_next_cell": 2
   },
   "source": [
    "### Exercise 15\n",
    "Write a Python program that prompts the user to enter a word and stores it in a variable called word. Use the upper() method\n",
    "to convert the word to uppercase and print the result."
   ]
  },
  {
   "cell_type": "code",
   "execution_count": null,
   "id": "9ac2fc9c",
   "metadata": {},
   "outputs": [],
   "source": [
    "word = input(\"Enter a word: \")\n",
    "uppercased_word = word.upper()\n",
    "print(\"Uppercased word:\", uppercased_word)"
   ]
  },
  {
   "attachments": {},
   "cell_type": "markdown",
   "id": "6779b136",
   "metadata": {
    "lines_to_next_cell": 2
   },
   "source": [
    "### Exercise 16\n",
    "Write a Python program that prompts the user to enter a sentence. Convert the sentence to lowercase and print the result."
   ]
  },
  {
   "cell_type": "code",
   "execution_count": null,
   "id": "c6c9447a",
   "metadata": {},
   "outputs": [],
   "source": [
    "sentence = input(\"Enter a sentence: \")\n",
    "uppercase_sentence = sentence.lower()\n",
    "print(\"Uppercase sentence:\", uppercase_sentence)"
   ]
  },
  {
   "attachments": {},
   "cell_type": "markdown",
   "id": "2eead950",
   "metadata": {
    "lines_to_next_cell": 2
   },
   "source": [
    "### Exercise 17\n",
    "Write a Python program that prompts the user to enter a sentence. Split the sentence into a list of words using the split() method.\n",
    "Print the list of words."
   ]
  },
  {
   "cell_type": "code",
   "execution_count": null,
   "id": "e8a05916",
   "metadata": {},
   "outputs": [],
   "source": [
    "sentence = input(\"Enter a sentence: \")\n",
    "words = sentence.split()\n",
    "print(\"List of words:\", words)"
   ]
  },
  {
   "attachments": {},
   "cell_type": "markdown",
   "id": "933907c9",
   "metadata": {
    "lines_to_next_cell": 2
   },
   "source": [
    "### Exercise 18\n",
    "Write a Python program that defines two boolean variables is_raining and is_sunny. Print the values of the variables."
   ]
  },
  {
   "cell_type": "code",
   "execution_count": null,
   "id": "6e7175f5",
   "metadata": {},
   "outputs": [],
   "source": [
    "is_raining = True\n",
    "is_sunny = False\n",
    "print(\"Is it raining?\", is_raining)\n",
    "print(\"Is it sunny?\", is_sunny)"
   ]
  },
  {
   "attachments": {},
   "cell_type": "markdown",
   "id": "7d12ecca",
   "metadata": {
    "lines_to_next_cell": 2
   },
   "source": [
    "### Exercise 19\n",
    "Write a Python program that prompts the user to enter their age. Compare their age to a predefined adult age (e.g., 18) using\n",
    "the greater than operator (>). Print whether the user is an adult or not based on the comparison result."
   ]
  },
  {
   "cell_type": "code",
   "execution_count": null,
   "id": "ed95fcee",
   "metadata": {},
   "outputs": [],
   "source": [
    "age = int(input(\"Enter your age: \"))\n",
    "adult_age = 18\n",
    "is_adult = age > adult_age\n",
    "print(\"Is the user an adult?\", is_adult)"
   ]
  },
  {
   "attachments": {},
   "cell_type": "markdown",
   "id": "adb75bdd",
   "metadata": {
    "lines_to_next_cell": 2
   },
   "source": [
    "### Exercise 20\n",
    "Write a Python program that prompts the user to enter a number. Check if the number is a positive number greater than 10 using boolean\n",
    "comparison (>) and logical operators (and). Print the result of the check."
   ]
  },
  {
   "cell_type": "code",
   "execution_count": null,
   "id": "e3626807",
   "metadata": {},
   "outputs": [],
   "source": [
    "number = int(input(\"Enter a number: \"))\n",
    "is_positive_greater_than_10 = number > 10 and number > 0\n",
    "print(\"Is the number a positive number greater than 10?\", is_positive_greater_than_10)"
   ]
  },
  {
   "attachments": {},
   "cell_type": "markdown",
   "id": "b29780a2",
   "metadata": {
    "lines_to_next_cell": 2
   },
   "source": [
    "### Exercise 21\n",
    "Write a Python program that prompts the user to enter a number. Check if the number is divisible by both 2 and 3 using\n",
    "the logical AND operator (and). Print the result of the check."
   ]
  },
  {
   "cell_type": "code",
   "execution_count": null,
   "id": "adab727b",
   "metadata": {},
   "outputs": [],
   "source": [
    "number = int(input(\"Enter a number: \"))\n",
    "is_divisible = number % 2 == 0 and number % 3 == 0\n",
    "print(\"Is the number divisible by both 2 and 3?\", is_divisible)"
   ]
  },
  {
   "attachments": {},
   "cell_type": "markdown",
   "id": "7a8378fd",
   "metadata": {
    "lines_to_next_cell": 2
   },
   "source": [
    "### Exercise 22\n",
    "Write a Python program that defines three boolean variables: is_student, has_homework, and is_weekend. Assign appropriate values\n",
    "to these variables. Write a conditional statement using logical operators (and, or) to determine if the student has to do homework. Print the result."
   ]
  },
  {
   "cell_type": "code",
   "execution_count": null,
   "id": "3798c843",
   "metadata": {},
   "outputs": [],
   "source": [
    "is_student = True\n",
    "has_homework = True\n",
    "is_weekend = False\n",
    "should_do_homework = is_student and has_homework and not is_weekend\n",
    "print(\"Should the student do homework?\", should_do_homework)"
   ]
  },
  {
   "attachments": {},
   "cell_type": "markdown",
   "id": "a3661c6b",
   "metadata": {
    "lines_to_next_cell": 2
   },
   "source": [
    "### Exercise 23\n",
    "Write a Python program that prompts the user to enter an integer. Convert the integer to a string using the str() function and assign it to a variable.\n",
    "Print the type of the variable."
   ]
  },
  {
   "cell_type": "code",
   "execution_count": null,
   "id": "46909fb7",
   "metadata": {},
   "outputs": [],
   "source": [
    "integer_input = int(input(\"Enter an integer: \"))\n",
    "converted_string = str(integer_input)\n",
    "print(\"Converted string:\", converted_string)\n",
    "print(\"Type of converted string:\", type(converted_string))"
   ]
  },
  {
   "attachments": {},
   "cell_type": "markdown",
   "id": "21e72adc",
   "metadata": {
    "lines_to_next_cell": 2
   },
   "source": [
    "### Exercise 24\n",
    "Write a Python program that prompts the user to enter a string containing a number. Convert the string to an integer using the int() function\n",
    "and assign it to a variable. Print the type of the variable."
   ]
  },
  {
   "cell_type": "code",
   "execution_count": null,
   "id": "57e9acbf",
   "metadata": {},
   "outputs": [],
   "source": [
    "string_input = input(\"Enter a string containing a number: \")\n",
    "converted_integer = int(string_input)\n",
    "print(\"Converted integer:\", converted_integer)\n",
    "print(\"Type of converted integer:\", type(converted_integer))"
   ]
  },
  {
   "attachments": {},
   "cell_type": "markdown",
   "id": "0a37ed7d",
   "metadata": {
    "lines_to_next_cell": 2
   },
   "source": [
    "### Exercise 25\n",
    "Write a Python program that defines a float number. Convert the float number to an integer using the int() function and assign it to a variable.\n",
    "Print the type of the variable."
   ]
  },
  {
   "cell_type": "code",
   "execution_count": null,
   "id": "aadcf4d1",
   "metadata": {},
   "outputs": [],
   "source": [
    "float_number = 3.14\n",
    "converted_integer = int(float_number)\n",
    "print(\"Converted integer:\", converted_integer)\n",
    "print(\"Type of converted integer:\", type(converted_integer))"
   ]
  },
  {
   "attachments": {},
   "cell_type": "markdown",
   "id": "23c1927b",
   "metadata": {
    "lines_to_next_cell": 2
   },
   "source": [
    "### Exercise 26\n",
    "Create an empty list called my_list. Add the numbers 1, 2, 3, and 4 to the list. Remove the number 3 from the list.\n",
    "Print the final contents of the list."
   ]
  },
  {
   "cell_type": "code",
   "execution_count": null,
   "id": "3cd4acfd",
   "metadata": {},
   "outputs": [],
   "source": [
    "my_list = []\n",
    "my_list.extend([1, 2, 3, 4])\n",
    "my_list.remove(3)\n",
    "print(my_list)"
   ]
  },
  {
   "attachments": {},
   "cell_type": "markdown",
   "id": "2a756fc7",
   "metadata": {
    "lines_to_next_cell": 2
   },
   "source": [
    "### Exercise 27\n",
    "Create a tuple called my_tuple with the values 'apple', 'banana', 'cherry', and 'date'. Access the second element of the tuple and print it."
   ]
  },
  {
   "cell_type": "code",
   "execution_count": null,
   "id": "12e91685",
   "metadata": {},
   "outputs": [],
   "source": [
    "my_tuple = ('apple', 'banana', 'cherry', 'date')\n",
    "print(my_tuple[1])"
   ]
  },
  {
   "attachments": {},
   "cell_type": "markdown",
   "id": "f602da63",
   "metadata": {
    "lines_to_next_cell": 2
   },
   "source": [
    "### Exercise 28\n",
    "Create two sets: set1 with the values 1, 2, 3, and 4, and set2 with the values 3, 4, 5, and 6. Print the union of set1 and set2.\n",
    "Print the intersection of set1 and set2."
   ]
  },
  {
   "cell_type": "code",
   "execution_count": null,
   "id": "e445e18b",
   "metadata": {},
   "outputs": [],
   "source": [
    "set1 = {1, 2, 3, 4}\n",
    "set2 = {3, 4, 5, 6}\n",
    "print(set1.union(set2))\n",
    "print(set1.intersection(set2))"
   ]
  },
  {
   "attachments": {},
   "cell_type": "markdown",
   "id": "9c59e811",
   "metadata": {
    "lines_to_next_cell": 2
   },
   "source": [
    "### Exercise 29\n",
    "Create a dictionary called my_dict with the keys 'name', 'age', and 'city' and their corresponding values.Print the value associated\n",
    "with the key 'age'. Add a new key 'country' with the value 'USA' to the dictionary. Print the updated dictionary."
   ]
  },
  {
   "cell_type": "code",
   "execution_count": null,
   "id": "5295fb76",
   "metadata": {},
   "outputs": [],
   "source": [
    "my_dict = {'name': 'John', 'age': 25, 'city': 'New York'}\n",
    "print(my_dict['age'])\n",
    "my_dict['country'] = 'USA'\n",
    "print(my_dict)"
   ]
  },
  {
   "attachments": {},
   "cell_type": "markdown",
   "id": "fe367d6b",
   "metadata": {},
   "source": [
    "### Exercise 30 \n",
    "Create a dictionary called student_scores with the keys 'Alice', 'Bob', and 'Charlie' and their corresponding values as the scores (out of 100). Calculate the average score of the students and store it in a variable called average_score. Print the average score."
   ]
  },
  {
   "cell_type": "code",
   "execution_count": null,
   "id": "05d8c249",
   "metadata": {},
   "outputs": [],
   "source": [
    "student_scores = {'Alice': 85, 'Bob': 92, 'Charlie': 79}\n",
    "total_score = sum(student_scores.values())\n",
    "num_students = len(student_scores)\n",
    "average_score = total_score / num_students\n",
    "print(average_score)"
   ]
  }
 ],
 "metadata": {
  "jupytext": {
   "cell_metadata_filter": "-all",
   "main_language": "python",
   "notebook_metadata_filter": "-all"
  },
  "kernelspec": {
   "display_name": "Python 3",
   "language": "python",
   "name": "python3"
  },
  "language_info": {
   "codemirror_mode": {
    "name": "ipython",
    "version": 3
   },
   "file_extension": ".py",
   "mimetype": "text/x-python",
   "name": "python",
   "nbconvert_exporter": "python",
   "pygments_lexer": "ipython3",
   "version": "3.8.10"
  }
 },
 "nbformat": 4,
 "nbformat_minor": 5
}
