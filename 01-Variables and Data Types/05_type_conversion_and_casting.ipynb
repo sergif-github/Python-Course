{
 "cells": [
  {
   "cell_type": "markdown",
   "id": "cddca993",
   "metadata": {
    "lines_to_next_cell": 0
   },
   "source": [
    "# Module 1: Variables and Data Types\n",
    "\n",
    "## Part 5: Type Conversion and Casting\n",
    "\n",
    "In Python, you can convert one data type to another using type conversion or casting. Type conversion allows you to change the data\n",
    "type of a value, while casting explicitly specifies the desired data type.\n",
    "\n",
    "### 5.1 Implicit Type Conversion\n",
    "\n",
    "Python automatically performs implicit type conversion when it encounters expressions involving different data types. For example,\n",
    "when you perform arithmetic operations between different numeric types, Python will automatically convert the operands to a common type:"
   ]
  },
  {
   "cell_type": "code",
   "execution_count": null,
   "id": "968e2e22",
   "metadata": {},
   "outputs": [],
   "source": [
    "x = 10\n",
    "y = 3.5\n",
    "\n",
    "result = x + y  # Implicit conversion of int to float\n",
    "print(\"Result type:\", type(result))  # Output: Result type: <class 'float'>\n",
    "print(\"Result:\", result)  # Output: Result: 13.5"
   ]
  },
  {
   "cell_type": "markdown",
   "id": "1c9cd27c",
   "metadata": {
    "lines_to_next_cell": 0
   },
   "source": [
    "In this example, the integer x is implicitly converted to a float to perform the addition operation with y.\n",
    "\n",
    "### 5.2 Explicit Type Casting\n",
    "\n",
    "You can explicitly cast values from one data type to another using casting functions. Python provides several built-in functions for type\n",
    "casting, including:\n",
    "\n",
    "- int(): Converts a value to an integer\n",
    "- float(): Converts a value to a float\n",
    "- str(): Converts a value to a string\n",
    "- bool(): Converts a value to a Boolean\n",
    "\n",
    "For example:"
   ]
  },
  {
   "cell_type": "code",
   "execution_count": null,
   "id": "6aa26680",
   "metadata": {},
   "outputs": [],
   "source": [
    "x = 10.5\n",
    "y = int(x)  # Explicitly cast float to int\n",
    "\n",
    "print(\"Original value:\", x)  # Output: Original value: 10.5\n",
    "print(\"Casted value:\", y)  # Output: Casted value: 10"
   ]
  },
  {
   "cell_type": "markdown",
   "id": "5c06923c",
   "metadata": {},
   "source": [
    "In this example, the float value x is explicitly casted to an integer using the int() function.\n",
    "\n",
    "### 5.3 Summary\n",
    "\n",
    "In this part, you explored type conversion and casting in Python. Implicit type conversion allows Python to automatically convert\n",
    "values of different data types, while explicit type casting enables you to explicitly convert values using casting functions. \n",
    "Understanding type conversion and casting is important for manipulating and transforming data in your programs."
   ]
  }
 ],
 "metadata": {
  "jupytext": {
   "cell_metadata_filter": "-all",
   "main_language": "python",
   "notebook_metadata_filter": "-all"
  }
 },
 "nbformat": 4,
 "nbformat_minor": 5
}
