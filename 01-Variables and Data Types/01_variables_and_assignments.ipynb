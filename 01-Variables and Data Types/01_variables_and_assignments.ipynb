{
 "cells": [
  {
   "cell_type": "markdown",
   "id": "977964ae",
   "metadata": {},
   "source": [
    "# Module 1: Variables and Data Types\n",
    "\n",
    "## Part 1: Variables and Assignments\n",
    "\n",
    "In Python, variables are used to store data values. A variable is like a container that holds a value, which can be of different types such as numbers, \n",
    "strings, or other objects. Assigning a value to a variable is known as variable assignment.\n",
    "\n",
    "### 1.1 Variable Names\n",
    "\n",
    "When choosing variable names, there are a few rules to follow:\n",
    "\n",
    "- Variable names can only contain letters (a-z, A-Z), digits (0-9), and underscores (_). \n",
    "- Variable names cannot start with a digit.\n",
    "- Variable names are case-sensitive. For example, `myVariable` and `myvariable` are different variables.\n",
    "- Variable names should be descriptive and meaningful, helping to understand the purpose of the variable.\n",
    "\n",
    "Here are some valid variable names:"
   ]
  },
  {
   "cell_type": "code",
   "execution_count": null,
   "id": "4df8b932",
   "metadata": {},
   "outputs": [],
   "source": [
    "age = 25\n",
    "name = \"Alice\"\n",
    "is_student = True"
   ]
  },
  {
   "cell_type": "markdown",
   "id": "6f5f19bc",
   "metadata": {},
   "source": [
    "### 1.2 Variable Assignment\n",
    "\n",
    "In Python, you can assign a value to a variable using the = operator. The variable on the left side of the = sign is assigned the value on the right side. For example:"
   ]
  },
  {
   "cell_type": "code",
   "execution_count": null,
   "id": "42bcd7c9",
   "metadata": {},
   "outputs": [],
   "source": [
    "x = 10\n",
    "y = 5.5\n",
    "message = \"Hello, World!\""
   ]
  },
  {
   "cell_type": "markdown",
   "id": "56e90c13",
   "metadata": {
    "lines_to_next_cell": 0
   },
   "source": [
    "You can also assign multiple variables in a single line:"
   ]
  },
  {
   "cell_type": "code",
   "execution_count": null,
   "id": "140f7a9d",
   "metadata": {},
   "outputs": [],
   "source": [
    "a, b, c = 1, 2, 3"
   ]
  },
  {
   "cell_type": "markdown",
   "id": "5cc69b57",
   "metadata": {},
   "source": [
    "### 1.3 Variable Reassignment\n",
    "In Python, you can change the value of a variable by assigning a new value to it. This is known as variable reassignment. For example:"
   ]
  },
  {
   "cell_type": "code",
   "execution_count": null,
   "id": "c9379f7a",
   "metadata": {},
   "outputs": [],
   "source": [
    "x = 10\n",
    "print(x)  # Output: 10\n",
    "\n",
    "x = 20\n",
    "print(x)  # Output: 20"
   ]
  },
  {
   "cell_type": "markdown",
   "id": "a2213f19",
   "metadata": {},
   "source": [
    "When you reassign a variable, the new value overwrites the previous value stored in that variable.\n",
    "\n",
    "### 1.4 Printing Variables\n",
    "\n",
    "To display the value of a variable, you can use the print() function. This allows you to see the current value stored in a variable during program execution. For example:"
   ]
  },
  {
   "cell_type": "code",
   "execution_count": null,
   "id": "79dca10b",
   "metadata": {},
   "outputs": [],
   "source": [
    "name = \"Alice\"\n",
    "print(name)  # Output: Alice\n",
    "\n",
    "age = 25\n",
    "print(\"Age:\", age)  # Output: Age: 25\n",
    "The print() function can take one or more arguments, separated by commas. It converts each argument to a string and displays it on the console."
   ]
  },
  {
   "cell_type": "markdown",
   "id": "b2c51e3f",
   "metadata": {},
   "source": [
    "### 1.5 Summary\n",
    "\n",
    "In this part, you learned about variables, variable names, variable assignment, variable reassignment, and printing variables. \n",
    "Variables are fundamental in Python programming as they allow you to store and manipulate data dynamically."
   ]
  }
 ],
 "metadata": {
  "jupytext": {
   "cell_metadata_filter": "-all",
   "main_language": "python",
   "notebook_metadata_filter": "-all"
  }
 },
 "nbformat": 4,
 "nbformat_minor": 5
}
