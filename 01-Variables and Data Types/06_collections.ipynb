{
 "cells": [
  {
   "cell_type": "markdown",
   "id": "adc15652",
   "metadata": {},
   "source": [
    "# Module 1: Variables and Data Types\n",
    "\n",
    "## Part 6: Working with Collections\n",
    "\n",
    "In Python, collections are data structures used to store multiple values together. There are several built-in collection types that provide different functionalities for organizing and manipulating data.\n",
    "\n",
    "### 6.1 Lists\n",
    "\n",
    "A list is an ordered collection that can contain elements of different data types. Lists are mutable, meaning that you can modify their elements after they are created. Lists are defined by enclosing elements in square brackets (`[]`) and separating them with commas. For example:"
   ]
  },
  {
   "cell_type": "code",
   "execution_count": null,
   "id": "9da19d68",
   "metadata": {},
   "outputs": [],
   "source": [
    "fruits = ['apple', 'banana', 'cherry']\n",
    "numbers = [1, 2, 3, 4, 5]\n",
    "mixed = [1, 'apple', True]\n",
    "\n",
    "print(fruits)  # Output: ['apple', 'banana', 'cherry']\n",
    "print(numbers)  # Output: [1, 2, 3, 4, 5]\n",
    "print(mixed)  # Output: [1, 'apple', True]"
   ]
  },
  {
   "cell_type": "markdown",
   "id": "69675aac",
   "metadata": {},
   "source": [
    "Lists support various operations and methods for adding, removing, and modifying elements.\n",
    "\n",
    "### 6.2 Tuples\n",
    "\n",
    "A tuple is an ordered collection similar to a list, but tuples are immutable, meaning that their elements cannot be modified once they are created. Tuples are defined by enclosing elements in parentheses (()) and separating them with commas. For example:"
   ]
  },
  {
   "cell_type": "code",
   "execution_count": null,
   "id": "9de15a1d",
   "metadata": {},
   "outputs": [],
   "source": [
    "coordinates = (3, 4)\n",
    "person = ('John', 25, 'Engineer')\n",
    "\n",
    "print(coordinates)  # Output: (3, 4)\n",
    "print(person)  # Output: ('John', 25, 'Engineer')"
   ]
  },
  {
   "cell_type": "markdown",
   "id": "bb4d6643",
   "metadata": {},
   "source": [
    "Tuples are often used to represent a collection of related values that should not be modified.\n",
    "\n",
    "### 6.3 Sets\n",
    "\n",
    "A set is an unordered collection of unique elements. Sets are mutable, and you can add or remove elements from them. Sets are defined by enclosing elements in curly braces ({}) or using the set() constructor. For example:"
   ]
  },
  {
   "cell_type": "code",
   "execution_count": null,
   "id": "29b0f109",
   "metadata": {},
   "outputs": [],
   "source": [
    "fruits = {'apple', 'banana', 'cherry'}\n",
    "numbers = set([1, 2, 3, 4, 5])\n",
    "\n",
    "print(fruits)  # Output: {'apple', 'banana', 'cherry'}\n",
    "print(numbers)  # Output: {1, 2, 3, 4, 5}"
   ]
  },
  {
   "cell_type": "markdown",
   "id": "09e4d281",
   "metadata": {},
   "source": [
    "Sets are useful for operations such as finding unique elements, set operations (union, intersection, difference), and membership testing.\n",
    "\n",
    "### 6.4 Dictionaries\n",
    "A dictionary is an unordered collection of key-value pairs. Each value is associated with a unique key, allowing for efficient retrieval of values based on their keys. Dictionaries are defined by enclosing key-value pairs in curly braces ({}) or using the dict() constructor. For example:"
   ]
  },
  {
   "cell_type": "code",
   "execution_count": null,
   "id": "75bbf0cb",
   "metadata": {},
   "outputs": [],
   "source": [
    "person = {'name': 'John', 'age': 25, 'occupation': 'Engineer'}\n",
    "\n",
    "print(person)  # Output: {'name': 'John', 'age': 25, 'occupation': 'Engineer'}"
   ]
  },
  {
   "cell_type": "markdown",
   "id": "99a14a30",
   "metadata": {},
   "source": [
    "Dictionaries are commonly used for storing and retrieving data based on specific keys.\n",
    "\n",
    "### 6.5 Summary\n",
    "\n",
    "In this part, you explored different types of collections in Python, including lists, tuples, sets, and dictionaries. Each collection type has its own characteristics and use cases. Understanding collections is essential for organizing and manipulating data effectively in your programs."
   ]
  }
 ],
 "metadata": {
  "jupytext": {
   "cell_metadata_filter": "-all",
   "main_language": "python",
   "notebook_metadata_filter": "-all"
  }
 },
 "nbformat": 4,
 "nbformat_minor": 5
}
