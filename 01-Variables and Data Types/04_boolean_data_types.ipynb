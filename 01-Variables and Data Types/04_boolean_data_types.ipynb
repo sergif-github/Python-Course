{
 "cells": [
  {
   "cell_type": "markdown",
   "id": "e6d05bcc",
   "metadata": {},
   "source": [
    "# Module 1: Variables and Data Types\n",
    "\n",
    "## Part 4: Boolean Data Type\n",
    "\n",
    "In Python, the `bool` data type represents Boolean values, which can have two possible states: `True` or `False`. Booleans are often used in programming for logical operations, decision-making, and comparisons.\n",
    "\n",
    "### 4.1 Boolean Values\n",
    "\n",
    "The Boolean values `True` and `False` are keywords in Python and are used to represent the concept of truth or falsehood. For example:"
   ]
  },
  {
   "cell_type": "code",
   "execution_count": null,
   "id": "65a0b038",
   "metadata": {},
   "outputs": [],
   "source": [
    "is_raining = True\n",
    "is_sunny = False"
   ]
  },
  {
   "cell_type": "markdown",
   "id": "6d1c33a4",
   "metadata": {},
   "source": [
    "Boolean values are commonly used in conditional statements and logical operations to determine the flow of the program based on certain conditions.\n",
    "\n",
    "### 4.2 Comparison Operators\n",
    "\n",
    "Python provides various comparison operators that can be used to compare values and produce Boolean results. Some commonly used comparison operators include:\n",
    "\n",
    "- == (equal to)\n",
    "- != (not equal to)\n",
    "- \\> (greater than)\n",
    "- < (less than)\n",
    "- \\>= (greater than or equal to)\n",
    "- <= (less than or equal to)\n",
    "\n",
    "These operators compare two values and return True or False based on the comparison result. For example:"
   ]
  },
  {
   "cell_type": "code",
   "execution_count": null,
   "id": "adc9b5cf",
   "metadata": {},
   "outputs": [],
   "source": [
    "x = 10\n",
    "y = 5\n",
    "\n",
    "result1 = x > y  # True\n",
    "result2 = x == y  # False\n",
    "result3 = x != y  # True"
   ]
  },
  {
   "cell_type": "markdown",
   "id": "a8834213",
   "metadata": {},
   "source": [
    "### 4.3 Logical Operators\n",
    "\n",
    "Python also provides logical operators that can be used to combine multiple Boolean values or expressions. The three logical operators are:\n",
    "\n",
    "- and (logical AND)\n",
    "- or (logical OR)\n",
    "- not (logical NOT)\n",
    "\n",
    "These operators allow you to perform logical operations on Boolean values and produce Boolean results. For example:"
   ]
  },
  {
   "cell_type": "code",
   "execution_count": null,
   "id": "5ec2a6a9",
   "metadata": {},
   "outputs": [],
   "source": [
    "x = 10\n",
    "y = 5\n",
    "\n",
    "result1 = x > 0 and y > 0  # True\n",
    "result2 = x > 10 or y > 10  # False\n",
    "result3 = not(x > y)  # False"
   ]
  },
  {
   "cell_type": "markdown",
   "id": "89718c64",
   "metadata": {},
   "source": [
    "### 4.4 Summary\n",
    "\n",
    "In this part, you explored the Boolean data type in Python. Booleans represent truth or falsehood and are commonly used in conditional statements, logical operations, and comparisons. Understanding Boolean values and operators is essential for decision-making and controlling the flow of your programs."
   ]
  }
 ],
 "metadata": {
  "jupytext": {
   "cell_metadata_filter": "-all",
   "main_language": "python",
   "notebook_metadata_filter": "-all"
  }
 },
 "nbformat": 4,
 "nbformat_minor": 5
}
