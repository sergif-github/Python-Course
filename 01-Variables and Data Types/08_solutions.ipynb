{
 "cells": [
  {
   "cell_type": "markdown",
   "id": "3bedaa48",
   "metadata": {},
   "source": [
    "Module 1: Variables and Data Types"
   ]
  },
  {
   "cell_type": "markdown",
   "id": "0999ef62",
   "metadata": {},
   "source": [
    "Part 8: Solutions"
   ]
  },
  {
   "cell_type": "code",
   "execution_count": null,
   "id": "214dad98",
   "metadata": {
    "lines_to_next_cell": 2
   },
   "outputs": [],
   "source": [
    "# Exercise 1\n",
    "# Write a Python program that assigns a value of 5 to a variable `x` and prints its value.\n",
    "print(\"Exercise 1\")\n",
    "x = 5\n",
    "print(x)"
   ]
  },
  {
   "cell_type": "code",
   "execution_count": null,
   "id": "350fcc48",
   "metadata": {
    "lines_to_next_cell": 2
   },
   "outputs": [],
   "source": [
    "# Exercise 2\n",
    "# Write a Python program that assigns the values 10, 20, and 30 to variables `a`, `b`, and `c` respectively, all in a single line.\n",
    "# Print the values of `a`, `b`, and `c`.\n",
    "print(\"\\nExercise 2\")\n",
    "a, b, c = 10, 20, 30\n",
    "print(a)\n",
    "print(b)\n",
    "print(c)"
   ]
  },
  {
   "cell_type": "code",
   "execution_count": null,
   "id": "feb46928",
   "metadata": {
    "lines_to_next_cell": 2
   },
   "outputs": [],
   "source": [
    "# Exercise 3\n",
    "# Write a Python program that takes two numbers as input from the user and calculates their sum. Print the result.\n",
    "print(\"\\nExercise 3\")\n",
    "num1 = float(input(\"Enter the first number: \"))\n",
    "num2 = float(input(\"Enter the second number: \"))\n",
    "sum_result = num1 + num2\n",
    "print(\"The sum of\", num1, \"and\", num2, \"is\", sum_result)"
   ]
  },
  {
   "cell_type": "code",
   "execution_count": null,
   "id": "50cb68a3",
   "metadata": {
    "lines_to_next_cell": 2
   },
   "outputs": [],
   "source": [
    "# Exercise 4\n",
    "# Write a Python program that takes two numbers as input from the user and calculates their difference. Print the result.\n",
    "print(\"\\nExercise 4\")\n",
    "num1 = float(input(\"Enter the first number: \"))\n",
    "num2 = float(input(\"Enter the second number: \"))\n",
    "diff_result = num1 - num2\n",
    "print(\"The difference between\", num1, \"and\", num2, \"is\", diff_result)"
   ]
  },
  {
   "cell_type": "code",
   "execution_count": null,
   "id": "e03dde11",
   "metadata": {
    "lines_to_next_cell": 2
   },
   "outputs": [],
   "source": [
    "# Exercise 5\n",
    "# Write a Python program that takes two numbers as input from the user and calculates their product. Print the result.\n",
    "print(\"\\nExercise 5\")\n",
    "num1 = float(input(\"Enter the first number: \"))\n",
    "num2 = float(input(\"Enter the second number: \"))\n",
    "product_result = num1 * num2\n",
    "print(\"The product of\", num1, \"and\", num2, \"is\", product_result)"
   ]
  },
  {
   "cell_type": "code",
   "execution_count": null,
   "id": "e1549cee",
   "metadata": {
    "lines_to_next_cell": 2
   },
   "outputs": [],
   "source": [
    "# Exercise 6\n",
    "# Write a Python program that takes two numbers as input from the user and calculates their division. Print the result.\n",
    "print(\"\\nExercise 6\")\n",
    "num1 = float(input(\"Enter the first number: \"))\n",
    "num2 = float(input(\"Enter the second number: \"))\n",
    "division_result = num1 / num2\n",
    "print(\"The division of\", num1, \"and\", num2, \"is\", division_result)"
   ]
  },
  {
   "cell_type": "code",
   "execution_count": null,
   "id": "33923ea5",
   "metadata": {
    "lines_to_next_cell": 2
   },
   "outputs": [],
   "source": [
    "# Exercise 7\n",
    "# Write a Python program that prompts the user to enter their name and stores it in a variable called `name`. Print the value of `name`.\n",
    "print(\"\\nExercise 7\")\n",
    "name = input(\"Enter your name: \")\n",
    "print(name)"
   ]
  },
  {
   "cell_type": "code",
   "execution_count": null,
   "id": "2bff6c72",
   "metadata": {
    "lines_to_next_cell": 2
   },
   "outputs": [],
   "source": [
    "# Exercise 8\n",
    "# Write a Python program that prompts the user to enter their first name and last name separately. Concatenate the two strings\n",
    "# and print the full name.\n",
    "print(\"\\nExercise 8\")\n",
    "first_name = input(\"Enter your first name: \")\n",
    "last_name = input(\"Enter your last name: \")\n",
    "full_name = first_name + \" \" + last_name\n",
    "print(\"Full name:\", full_name)"
   ]
  },
  {
   "cell_type": "code",
   "execution_count": null,
   "id": "695f7ec7",
   "metadata": {
    "lines_to_next_cell": 2
   },
   "outputs": [],
   "source": [
    "# Exercise 9\n",
    "# Write a Python program that prompts the user to enter a sentence and calculates the length of the sentence. Print the length.\n",
    "print(\"\\nExercise 9\")\n",
    "sentence = input(\"Enter a sentence: \")\n",
    "length = len(sentence)\n",
    "print(\"Length:\", length)"
   ]
  },
  {
   "cell_type": "code",
   "execution_count": null,
   "id": "3d6ace7a",
   "metadata": {
    "lines_to_next_cell": 2
   },
   "outputs": [],
   "source": [
    "# Exercise 10\n",
    "# Write a Python program that prompts the user to enter a sentence and a word to search. Count the number of occurrences\n",
    "# of the word in the sentence and print the count.\n",
    "print(\"\\nExercise 10\")\n",
    "sentence = input(\"Enter a sentence: \")\n",
    "word = input(\"Enter a word to search: \")\n",
    "count = sentence.count(word)\n",
    "print(\"Number of occurrences:\", count)"
   ]
  },
  {
   "cell_type": "code",
   "execution_count": null,
   "id": "8c1166d4",
   "metadata": {
    "lines_to_next_cell": 2
   },
   "outputs": [],
   "source": [
    "# Exercise 11\n",
    "# Write a Python program that prompts the user to enter a word and stores it in a variable called `word`. Access the first character\n",
    "# of the word and print it.\n",
    "print(\"\\nExercise 11\")\n",
    "word = input(\"Enter a word: \")\n",
    "first_character = word[0]\n",
    "print(\"First character:\", first_character)"
   ]
  },
  {
   "cell_type": "code",
   "execution_count": null,
   "id": "e997a927",
   "metadata": {
    "lines_to_next_cell": 2
   },
   "outputs": [],
   "source": [
    "# Exercise 12\n",
    "# Write a Python program that prompts the user to enter a sentence and stores it in a variable called `sentence`. Use string slicing\n",
    "# to print the first three characters of the sentence.\n",
    "print(\"\\nExercise 12\")\n",
    "sentence = input(\"Enter a sentence: \")\n",
    "first_three_characters = sentence[:3]\n",
    "print(\"First three characters:\", first_three_characters)"
   ]
  },
  {
   "cell_type": "code",
   "execution_count": null,
   "id": "7b244b20",
   "metadata": {
    "lines_to_next_cell": 2
   },
   "outputs": [],
   "source": [
    "# Exercise 13\n",
    "# Write a Python program that prompts the user to enter a word. Use string slicing to extract the first three characters,\n",
    "# the last three characters, and a substring starting from the fourth character up to the end of the word. Print the extracted substrings.\n",
    "print(\"\\nExercise 13\")\n",
    "word = input(\"Enter a word: \")\n",
    "first_three = word[:3]\n",
    "last_three = word[-3:]\n",
    "substring = word[3:]\n",
    "print(\"First three characters:\", first_three)\n",
    "print(\"Last three characters:\", last_three)\n",
    "print(\"Substring from the fourth character:\", substring)"
   ]
  },
  {
   "cell_type": "code",
   "execution_count": null,
   "id": "570aacec",
   "metadata": {
    "lines_to_next_cell": 2
   },
   "outputs": [],
   "source": [
    "# Exercise 14\n",
    "# Write a Python program that prompts the user to enter a word. Reverse the word using string slicing and print the reversed word.\n",
    "print(\"\\nExercise 14\")\n",
    "word = input(\"Enter a word: \")\n",
    "reversed_word = word[::-1]\n",
    "print(\"Reversed word:\", reversed_word)"
   ]
  },
  {
   "cell_type": "code",
   "execution_count": null,
   "id": "000f21d5",
   "metadata": {
    "lines_to_next_cell": 2
   },
   "outputs": [],
   "source": [
    "# Exercise 15\n",
    "# Write a Python program that prompts the user to enter a word and stores it in a variable called `word`. Use the `upper()` method\n",
    "# to convert the word to uppercase and print the result.\n",
    "print(\"\\nExercise 15\")\n",
    "word = input(\"Enter a word: \")\n",
    "uppercased_word = word.upper()\n",
    "print(\"Uppercased word:\", uppercased_word)"
   ]
  },
  {
   "cell_type": "code",
   "execution_count": null,
   "id": "a5d573fb",
   "metadata": {
    "lines_to_next_cell": 2
   },
   "outputs": [],
   "source": [
    "# Exercise 16\n",
    "# Write a Python program that prompts the user to enter a sentence. Convert the sentence to lowercase and print the result.\n",
    "print(\"\\nExercise 16\")\n",
    "sentence = input(\"Enter a sentence: \")\n",
    "uppercase_sentence = sentence.lower()\n",
    "print(\"Uppercase sentence:\", uppercase_sentence)"
   ]
  },
  {
   "cell_type": "code",
   "execution_count": null,
   "id": "f2f3ca4e",
   "metadata": {
    "lines_to_next_cell": 2
   },
   "outputs": [],
   "source": [
    "# Exercise 17\n",
    "# Write a Python program that prompts the user to enter a sentence. Split the sentence into a list of words using the `split()` method.\n",
    "# Print the list of words.\n",
    "print(\"\\nExercise 17\")\n",
    "sentence = input(\"Enter a sentence: \")\n",
    "words = sentence.split()\n",
    "print(\"List of words:\", words)"
   ]
  },
  {
   "cell_type": "code",
   "execution_count": null,
   "id": "67eb135e",
   "metadata": {
    "lines_to_next_cell": 2
   },
   "outputs": [],
   "source": [
    "# Exercise 18\n",
    "# Write a Python program that defines two boolean variables `is_raining` and `is_sunny`. Assign appropriate values to these variables\n",
    "# based on the weather conditions. Print the values of the variables.\n",
    "print(\"\\nExercise 18\")\n",
    "is_raining = True\n",
    "is_sunny = False\n",
    "print(\"Is it raining?\", is_raining)\n",
    "print(\"Is it sunny?\", is_sunny)"
   ]
  },
  {
   "cell_type": "code",
   "execution_count": null,
   "id": "872762ca",
   "metadata": {
    "lines_to_next_cell": 2
   },
   "outputs": [],
   "source": [
    "# Exercise 19\n",
    "# Write a Python program that prompts the user to enter their age. Compare their age to a predefined adult age (e.g., 18) using\n",
    "# the greater than operator (`>`). Print whether the user is an adult or not based on the comparison result.\n",
    "print(\"\\nExercise 19\")\n",
    "age = int(input(\"Enter your age: \"))\n",
    "adult_age = 18\n",
    "is_adult = age > adult_age\n",
    "print(\"Is the user an adult?\", is_adult)"
   ]
  },
  {
   "cell_type": "code",
   "execution_count": null,
   "id": "734ae8df",
   "metadata": {
    "lines_to_next_cell": 2
   },
   "outputs": [],
   "source": [
    "# Exercise 20\n",
    "# Write a Python program that prompts the user to enter a number. Check if the number is a positive number greater than 10 using boolean\n",
    "# comparison (`>`) and logical operators (`and`). Print the result of the check.\n",
    "print(\"\\nExercise 20\")\n",
    "number = int(input(\"Enter a number: \"))\n",
    "is_positive_greater_than_10 = number > 10 and number > 0\n",
    "print(\"Is the number a positive number greater than 10?\", is_positive_greater_than_10)"
   ]
  },
  {
   "cell_type": "code",
   "execution_count": null,
   "id": "d096ea3a",
   "metadata": {
    "lines_to_next_cell": 2
   },
   "outputs": [],
   "source": [
    "# Exercise 21\n",
    "# Write a Python program that prompts the user to enter a number. Check if the number is divisible by both 2 and 3 using\n",
    "# the logical AND operator (`and`). Print the result of the check.\n",
    "print(\"\\nExercise 21\")\n",
    "number = int(input(\"Enter a number: \"))\n",
    "is_divisible = number % 2 == 0 and number % 3 == 0\n",
    "print(\"Is the number divisible by both 2 and 3?\", is_divisible)"
   ]
  },
  {
   "cell_type": "code",
   "execution_count": null,
   "id": "6e8fc394",
   "metadata": {
    "lines_to_next_cell": 2
   },
   "outputs": [],
   "source": [
    "# Exercise 22\n",
    "# Write a Python program that defines three boolean variables: `is_student`, `has_homework`, and `is_weekend`. Assign appropriate values\n",
    "# to these variables. Write a conditional statement using logical operators (`and`, `or`) to determine if the student has to do homework. Print the result.\n",
    "print(\"\\nExercise 22\")\n",
    "is_student = True\n",
    "has_homework = True\n",
    "is_weekend = False\n",
    "should_do_homework = is_student and has_homework and not is_weekend\n",
    "print(\"Should the student do homework?\", should_do_homework)"
   ]
  },
  {
   "cell_type": "code",
   "execution_count": null,
   "id": "f6fe57e9",
   "metadata": {
    "lines_to_next_cell": 2
   },
   "outputs": [],
   "source": [
    "# Exercise 23\n",
    "# Write a Python program that prompts the user to enter an integer. Convert the integer to a string using the `str()` function and assign it to a variable.\n",
    "# Print the type of the variable.\n",
    "print(\"\\nExercise 23\")\n",
    "integer_input = int(input(\"Enter an integer: \"))\n",
    "converted_string = str(integer_input)\n",
    "print(\"Converted string:\", converted_string)\n",
    "print(\"Type of converted string:\", type(converted_string))"
   ]
  },
  {
   "cell_type": "code",
   "execution_count": null,
   "id": "c94438ef",
   "metadata": {
    "lines_to_next_cell": 2
   },
   "outputs": [],
   "source": [
    "# Exercise 24\n",
    "# Write a Python program that prompts the user to enter a string containing a number. Convert the string to an integer using the `int()` function\n",
    "# and assign it to a variable. Print the type of the variable.\n",
    "print(\"\\nExercise 24\")\n",
    "string_input = input(\"Enter a string containing a number: \")\n",
    "converted_integer = int(string_input)\n",
    "print(\"Converted integer:\", converted_integer)\n",
    "print(\"Type of converted integer:\", type(converted_integer))"
   ]
  },
  {
   "cell_type": "code",
   "execution_count": null,
   "id": "f18f00d9",
   "metadata": {
    "lines_to_next_cell": 2
   },
   "outputs": [],
   "source": [
    "# Exercise 25\n",
    "# Write a Python program that defines a float number. Convert the float number to an integer using the `int()` function and assign it to a variable.\n",
    "# Print the type of the variable.\n",
    "print(\"\\nExercise 25\")\n",
    "float_number = 3.14\n",
    "converted_integer = int(float_number)\n",
    "print(\"Converted integer:\", converted_integer)\n",
    "print(\"Type of converted integer:\", type(converted_integer))"
   ]
  },
  {
   "cell_type": "code",
   "execution_count": null,
   "id": "574393ac",
   "metadata": {
    "lines_to_next_cell": 2
   },
   "outputs": [],
   "source": [
    "# Exercise 26\n",
    "# Create an empty list called my_list. Add the numbers 1, 2, 3, and 4 to the list. Remove the number 3 from the list.\n",
    "# Print the final contents of the list.\n",
    "print(\"\\nExercise 26\")\n",
    "my_list = []\n",
    "my_list.extend([1, 2, 3, 4])\n",
    "my_list.remove(3)\n",
    "print(my_list)"
   ]
  },
  {
   "cell_type": "code",
   "execution_count": null,
   "id": "bf6fc68e",
   "metadata": {
    "lines_to_next_cell": 2
   },
   "outputs": [],
   "source": [
    "# Exercise 27\n",
    "# Create a tuple called my_tuple with the values 'apple', 'banana', 'cherry', and 'date'. Access the second element of the tuple and print it.\n",
    "print(\"\\nExercise 27\")\n",
    "my_tuple = ('apple', 'banana', 'cherry', 'date')\n",
    "print(my_tuple[1])"
   ]
  },
  {
   "cell_type": "code",
   "execution_count": null,
   "id": "15ba1670",
   "metadata": {
    "lines_to_next_cell": 2
   },
   "outputs": [],
   "source": [
    "# Exercise 28\n",
    "# Create two sets: set1 with the values 1, 2, 3, and 4, and set2 with the values 3, 4, 5, and 6. Print the union of set1 and set2.\n",
    "# Print the intersection of set1 and set2.\n",
    "print(\"\\nExercise 28\")\n",
    "set1 = {1, 2, 3, 4}\n",
    "set2 = {3, 4, 5, 6}\n",
    "print(set1.union(set2))\n",
    "print(set1.intersection(set2))"
   ]
  },
  {
   "cell_type": "code",
   "execution_count": null,
   "id": "dd7202df",
   "metadata": {
    "lines_to_next_cell": 2
   },
   "outputs": [],
   "source": [
    "# Exercise 29\n",
    "# Create a dictionary called my_dict with the keys 'name', 'age', and 'city' and their corresponding values.Print the value associated\n",
    "# with the key 'age'. Add a new key 'country' with the value 'USA' to the dictionary. Print the updated dictionary.\n",
    "print(\"\\nExercise 29\")\n",
    "my_dict = {'name': 'John', 'age': 25, 'city': 'New York'}\n",
    "print(my_dict['age'])\n",
    "my_dict['country'] = 'USA'\n",
    "print(my_dict)"
   ]
  },
  {
   "cell_type": "code",
   "execution_count": null,
   "id": "f1fe4904",
   "metadata": {},
   "outputs": [],
   "source": [
    "# Exercise 30 Create a dictionary called student_scores with the keys 'Alice', 'Bob', and 'Charlie' and their corresponding values\n",
    "# as the scores (out of 100). Calculate the average score of the students and store it in a variable called average_score. Print the average score.\n",
    "print(\"\\nExercise 30\")\n",
    "student_scores = {'Alice': 85, 'Bob': 92, 'Charlie': 78}\n",
    "total_score = sum(student_scores.values())\n",
    "num_students = len(student_scores)\n",
    "average_score = total_score / num_students\n",
    "print(average_score)"
   ]
  }
 ],
 "metadata": {
  "jupytext": {
   "cell_metadata_filter": "-all",
   "main_language": "python",
   "notebook_metadata_filter": "-all"
  }
 },
 "nbformat": 4,
 "nbformat_minor": 5
}
