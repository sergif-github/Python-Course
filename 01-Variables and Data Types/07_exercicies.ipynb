{
 "cells": [
  {
   "cell_type": "markdown",
   "id": "b8d1c3ff",
   "metadata": {},
   "source": [
    "Module 1: Variables and Data Types"
   ]
  },
  {
   "cell_type": "markdown",
   "id": "6bf3ef6c",
   "metadata": {},
   "source": [
    "Part 8: Solutions"
   ]
  },
  {
   "cell_type": "markdown",
   "id": "94611874",
   "metadata": {
    "lines_to_next_cell": 2
   },
   "source": [
    "Exercise 1\n",
    "Write a Python program that assigns a value of 5 to a variable `x` and prints its value."
   ]
  },
  {
   "cell_type": "markdown",
   "id": "849a8e20",
   "metadata": {
    "lines_to_next_cell": 2
   },
   "source": [
    "Exercise 2\n",
    "Write a Python program that assigns the values 10, 20, and 30 to variables `a`, `b`, and `c` respectively, all in a single line.\n",
    "Print the values of `a`, `b`, and `c`."
   ]
  },
  {
   "cell_type": "markdown",
   "id": "9ede90fe",
   "metadata": {
    "lines_to_next_cell": 2
   },
   "source": [
    "Exercise 3\n",
    "Write a Python program that takes two numbers as input from the user and calculates their sum. Print the result."
   ]
  },
  {
   "cell_type": "markdown",
   "id": "f92465ea",
   "metadata": {
    "lines_to_next_cell": 2
   },
   "source": [
    "Exercise 4\n",
    "Write a Python program that takes two numbers as input from the user and calculates their difference. Print the result."
   ]
  },
  {
   "cell_type": "markdown",
   "id": "0a6d8c34",
   "metadata": {
    "lines_to_next_cell": 2
   },
   "source": [
    "Exercise 5\n",
    "Write a Python program that takes two numbers as input from the user and calculates their product. Print the result."
   ]
  },
  {
   "cell_type": "markdown",
   "id": "45b89af0",
   "metadata": {
    "lines_to_next_cell": 2
   },
   "source": [
    "Exercise 6\n",
    "Write a Python program that takes two numbers as input from the user and calculates their division. Print the result."
   ]
  },
  {
   "cell_type": "markdown",
   "id": "f0b430d3",
   "metadata": {
    "lines_to_next_cell": 2
   },
   "source": [
    "Exercise 7\n",
    "Write a Python program that prompts the user to enter their name and stores it in a variable called `name`. Print the value of `name`."
   ]
  },
  {
   "cell_type": "markdown",
   "id": "ff7cb1e1",
   "metadata": {
    "lines_to_next_cell": 2
   },
   "source": [
    "Exercise 8\n",
    "Write a Python program that prompts the user to enter their first name and last name separately. Concatenate the two strings\n",
    "and print the full name."
   ]
  },
  {
   "cell_type": "markdown",
   "id": "5c7d80cf",
   "metadata": {
    "lines_to_next_cell": 2
   },
   "source": [
    "Exercise 9\n",
    "Write a Python program that prompts the user to enter a sentence and calculates the length of the sentence. Print the length."
   ]
  },
  {
   "cell_type": "markdown",
   "id": "8baae4ed",
   "metadata": {
    "lines_to_next_cell": 2
   },
   "source": [
    "Exercise 10\n",
    "Write a Python program that prompts the user to enter a sentence and a word to search. Count the number of occurrences\n",
    "of the word in the sentence and print the count."
   ]
  },
  {
   "cell_type": "markdown",
   "id": "94faf88e",
   "metadata": {
    "lines_to_next_cell": 2
   },
   "source": [
    "Exercise 11\n",
    "Write a Python program that prompts the user to enter a word and stores it in a variable called `word`. Access the first character\n",
    "of the word and print it."
   ]
  },
  {
   "cell_type": "markdown",
   "id": "2831a998",
   "metadata": {
    "lines_to_next_cell": 2
   },
   "source": [
    "Exercise 12\n",
    "Write a Python program that prompts the user to enter a sentence and stores it in a variable called `sentence`. Use string slicing\n",
    "to print the first three characters of the sentence."
   ]
  },
  {
   "cell_type": "markdown",
   "id": "0b12268c",
   "metadata": {
    "lines_to_next_cell": 2
   },
   "source": [
    "Exercise 13\n",
    "Write a Python program that prompts the user to enter a word. Use string slicing to extract the first three characters,\n",
    "the last three characters, and a substring starting from the fourth character up to the end of the word. Print the extracted substrings."
   ]
  },
  {
   "cell_type": "markdown",
   "id": "871e61af",
   "metadata": {
    "lines_to_next_cell": 2
   },
   "source": [
    "Exercise 14\n",
    "Write a Python program that prompts the user to enter a word. Reverse the word using string slicing and print the reversed word."
   ]
  },
  {
   "cell_type": "markdown",
   "id": "448d34ba",
   "metadata": {
    "lines_to_next_cell": 2
   },
   "source": [
    "Exercise 15\n",
    "Write a Python program that prompts the user to enter a word and stores it in a variable called `word`. Use the `upper()` method\n",
    "to convert the word to uppercase and print the result."
   ]
  },
  {
   "cell_type": "markdown",
   "id": "6779b136",
   "metadata": {
    "lines_to_next_cell": 2
   },
   "source": [
    "Exercise 16\n",
    "Write a Python program that prompts the user to enter a sentence. Convert the sentence to lowercase and print the result."
   ]
  },
  {
   "cell_type": "markdown",
   "id": "2eead950",
   "metadata": {
    "lines_to_next_cell": 2
   },
   "source": [
    "Exercise 17\n",
    "Write a Python program that prompts the user to enter a sentence. Split the sentence into a list of words using the `split()` method.\n",
    "Print the list of words."
   ]
  },
  {
   "cell_type": "markdown",
   "id": "933907c9",
   "metadata": {
    "lines_to_next_cell": 2
   },
   "source": [
    "Exercise 18\n",
    "Write a Python program that defines two boolean variables `is_raining` and `is_sunny`. Assign appropriate values to these variables\n",
    "based on the weather conditions. Print the values of the variables."
   ]
  },
  {
   "cell_type": "markdown",
   "id": "7d12ecca",
   "metadata": {
    "lines_to_next_cell": 2
   },
   "source": [
    "Exercise 19\n",
    "Write a Python program that prompts the user to enter their age. Compare their age to a predefined adult age (e.g., 18) using\n",
    "the greater than operator (`>`). Print whether the user is an adult or not based on the comparison result."
   ]
  },
  {
   "cell_type": "markdown",
   "id": "adb75bdd",
   "metadata": {
    "lines_to_next_cell": 2
   },
   "source": [
    "Exercise 20\n",
    "Write a Python program that prompts the user to enter a number. Check if the number is a positive number greater than 10 using boolean\n",
    "comparison (`>`) and logical operators (`and`). Print the result of the check."
   ]
  },
  {
   "cell_type": "markdown",
   "id": "b29780a2",
   "metadata": {
    "lines_to_next_cell": 2
   },
   "source": [
    "Exercise 21\n",
    "Write a Python program that prompts the user to enter a number. Check if the number is divisible by both 2 and 3 using\n",
    "the logical AND operator (`and`). Print the result of the check."
   ]
  },
  {
   "cell_type": "markdown",
   "id": "7a8378fd",
   "metadata": {
    "lines_to_next_cell": 2
   },
   "source": [
    "Exercise 22\n",
    "Write a Python program that defines three boolean variables: `is_student`, `has_homework`, and `is_weekend`. Assign appropriate values\n",
    "to these variables. Write a conditional statement using logical operators (`and`, `or`) to determine if the student has to do homework. Print the result."
   ]
  },
  {
   "cell_type": "markdown",
   "id": "a3661c6b",
   "metadata": {
    "lines_to_next_cell": 2
   },
   "source": [
    "Exercise 23\n",
    "Write a Python program that prompts the user to enter an integer. Convert the integer to a string using the `str()` function and assign it to a variable.\n",
    "Print the type of the variable."
   ]
  },
  {
   "cell_type": "markdown",
   "id": "21e72adc",
   "metadata": {
    "lines_to_next_cell": 2
   },
   "source": [
    "Exercise 24\n",
    "Write a Python program that prompts the user to enter a string containing a number. Convert the string to an integer using the `int()` function\n",
    "and assign it to a variable. Print the type of the variable."
   ]
  },
  {
   "cell_type": "markdown",
   "id": "0a37ed7d",
   "metadata": {
    "lines_to_next_cell": 2
   },
   "source": [
    "Exercise 25\n",
    "Write a Python program that defines a float number. Convert the float number to an integer using the `int()` function and assign it to a variable.\n",
    "Print the type of the variable."
   ]
  },
  {
   "cell_type": "markdown",
   "id": "23c1927b",
   "metadata": {
    "lines_to_next_cell": 2
   },
   "source": [
    "Exercise 26\n",
    "Create an empty list called my_list. Add the numbers 1, 2, 3, and 4 to the list. Remove the number 3 from the list.\n",
    "Print the final contents of the list."
   ]
  },
  {
   "cell_type": "markdown",
   "id": "2a756fc7",
   "metadata": {
    "lines_to_next_cell": 2
   },
   "source": [
    "Exercise 27\n",
    "Create a tuple called my_tuple with the values 'apple', 'banana', 'cherry', and 'date'. Access the second element of the tuple and print it."
   ]
  },
  {
   "cell_type": "markdown",
   "id": "f602da63",
   "metadata": {
    "lines_to_next_cell": 2
   },
   "source": [
    "Exercise 28\n",
    "Create two sets: set1 with the values 1, 2, 3, and 4, and set2 with the values 3, 4, 5, and 6. Print the union of set1 and set2.\n",
    "Print the intersection of set1 and set2."
   ]
  },
  {
   "cell_type": "markdown",
   "id": "9c59e811",
   "metadata": {
    "lines_to_next_cell": 2
   },
   "source": [
    "Exercise 29\n",
    "Create a dictionary called my_dict with the keys 'name', 'age', and 'city' and their corresponding values.Print the value associated\n",
    "with the key 'age'. Add a new key 'country' with the value 'USA' to the dictionary. Print the updated dictionary."
   ]
  },
  {
   "cell_type": "markdown",
   "id": "fe367d6b",
   "metadata": {},
   "source": [
    "Exercise 30 Create a dictionary called student_scores with the keys 'Alice', 'Bob', and 'Charlie' and their corresponding values\n",
    "as the scores (out of 100). Calculate the average score of the students and store it in a variable called average_score. Print the average score."
   ]
  }
 ],
 "metadata": {
  "jupytext": {
   "cell_metadata_filter": "-all",
   "main_language": "python",
   "notebook_metadata_filter": "-all"
  }
 },
 "nbformat": 4,
 "nbformat_minor": 5
}
