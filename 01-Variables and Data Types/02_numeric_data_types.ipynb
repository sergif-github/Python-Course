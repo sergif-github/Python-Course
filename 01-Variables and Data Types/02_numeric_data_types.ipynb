{
 "cells": [
  {
   "cell_type": "markdown",
   "id": "06db9aa5",
   "metadata": {},
   "source": [
    "# Module 1: Variables and Data Types\n",
    "\n",
    "## Part 2: Numeric Data Types (int, float)\n",
    "\n",
    "In Python, there are two primary numeric data types: `int` and `float`. These data types are used to represent whole numbers and floating-point numbers, respectively.\n",
    "\n",
    "### 2.1 Integer (int) Data Type\n",
    "\n",
    "The `int` data type represents whole numbers without any fractional parts. It can be used to store positive and negative numbers, as well as zero. For example:"
   ]
  },
  {
   "cell_type": "code",
   "execution_count": null,
   "id": "347cac11",
   "metadata": {},
   "outputs": [],
   "source": [
    "age = 25\n",
    "quantity = -10\n",
    "population = 1000000"
   ]
  },
  {
   "cell_type": "markdown",
   "id": "be8a55d5",
   "metadata": {},
   "source": [
    "Python provides various arithmetic operations that can be performed on int values, such as addition, subtraction, multiplication, and division.\n",
    "These operations return results of type int when both operands are integers. For example:"
   ]
  },
  {
   "cell_type": "code",
   "execution_count": null,
   "id": "62fa1c6c",
   "metadata": {},
   "outputs": [],
   "source": [
    "x = 10\n",
    "y = 3\n",
    "\n",
    "sum = x + y\n",
    "difference = x - y\n",
    "product = x * y\n",
    "quotient = x / y\n",
    "\n",
    "print(\"Sum:\", sum)  # Output: Sum: 13\n",
    "print(\"Difference:\", difference)  # Output: Difference: 7\n",
    "print(\"Product:\", product)  # Output: Product: 30\n",
    "print(\"Quotient:\", quotient)  # Output: Quotient: 3.3333333333333335"
   ]
  },
  {
   "cell_type": "markdown",
   "id": "c25a18c2",
   "metadata": {},
   "source": [
    "### 2.2 Floating-Point (float) Data Type\n",
    "\n",
    "The float data type represents numbers with fractional parts. It can store both small and large floating-point numbers. For example:"
   ]
  },
  {
   "cell_type": "code",
   "execution_count": null,
   "id": "fc66eec2",
   "metadata": {},
   "outputs": [],
   "source": [
    "pi = 3.14159\n",
    "temperature = -10.5\n",
    "price = 19.99"
   ]
  },
  {
   "cell_type": "markdown",
   "id": "64ae2b52",
   "metadata": {},
   "source": [
    "Floating-point numbers can also be used in arithmetic operations:"
   ]
  },
  {
   "cell_type": "code",
   "execution_count": null,
   "id": "e008446d",
   "metadata": {},
   "outputs": [],
   "source": [
    "x = 5.0\n",
    "y = 2.0\n",
    "\n",
    "sum = x + y\n",
    "difference = x - y\n",
    "product = x * y\n",
    "quotient = x / y\n",
    "\n",
    "print(\"Sum:\", sum)  # Output: Sum: 7.0\n",
    "print(\"Difference:\", difference)  # Output: Difference: 3.0\n",
    "print(\"Product:\", product)  # Output: Product: 10.0\n",
    "print(\"Quotient:\", quotient)  # Output: Quotient: 2.5"
   ]
  },
  {
   "cell_type": "markdown",
   "id": "28ba86ce",
   "metadata": {},
   "source": [
    "It's important to note that when an int and a float are used in an arithmetic operation, the result will be a float:"
   ]
  },
  {
   "cell_type": "code",
   "execution_count": null,
   "id": "b27e5c66",
   "metadata": {},
   "outputs": [],
   "source": [
    "x = 10\n",
    "y = 3.0\n",
    "\n",
    "result = x / y\n",
    "\n",
    "print(\"Result:\", result)  # Output: Result: 3.3333333333333335"
   ]
  },
  {
   "cell_type": "markdown",
   "id": "8b7200df",
   "metadata": {},
   "source": [
    "### 2.3 Summary\n",
    "In this part, you explored the int and float data types in Python. These data types are used to represent whole numbers and floating-point numbers,\n",
    "respectively. They support various arithmetic operations and can be used in mathematical calculations."
   ]
  }
 ],
 "metadata": {
  "jupytext": {
   "cell_metadata_filter": "-all",
   "main_language": "python",
   "notebook_metadata_filter": "-all"
  }
 },
 "nbformat": 4,
 "nbformat_minor": 5
}
