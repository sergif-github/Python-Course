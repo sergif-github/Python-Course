{
 "cells": [
  {
   "attachments": {},
   "cell_type": "markdown",
   "metadata": {},
   "source": [
    "# Module 3: Control Flow Statements\n",
    "\n",
    "## Part 5: Exercises"
   ]
  },
  {
   "attachments": {},
   "cell_type": "markdown",
   "metadata": {},
   "source": [
    "### Exercise 1:\n",
    "Write a Python program that asks the user to enter their age. If the age is greater than or equal to 18, display \"You are eligible to vote.\" Otherwise, display \"You are not eligible to vote.\""
   ]
  },
  {
   "cell_type": "code",
   "execution_count": null,
   "metadata": {},
   "outputs": [],
   "source": []
  },
  {
   "attachments": {},
   "cell_type": "markdown",
   "metadata": {},
   "source": [
    "### Exercise 2:\n",
    "Write a Python program that asks the user to enter a number. If the number is positive, display \"The number is positive.\" If the number is negative, display \"The number is negative.\" If the number is zero, display \"The number is zero.\""
   ]
  },
  {
   "cell_type": "code",
   "execution_count": null,
   "metadata": {},
   "outputs": [],
   "source": []
  },
  {
   "attachments": {},
   "cell_type": "markdown",
   "metadata": {},
   "source": [
    "### Exercise 3:\n",
    "Write a Python program that asks the user to enter two numbers. Compare the numbers and display the larger number with the message \"The larger number is: [larger number]\".\n"
   ]
  },
  {
   "cell_type": "code",
   "execution_count": null,
   "metadata": {},
   "outputs": [],
   "source": []
  },
  {
   "attachments": {},
   "cell_type": "markdown",
   "metadata": {},
   "source": [
    "### Exercise 4:\n",
    "Write a Python program that asks the user to enter a grade (integer between 0 and 100). Use nested conditionals to determine the letter grade based on the following criteria:\n",
    "If the grade is 90 or above, display \"A\"\n",
    "If the grade is between 80 and 89, display \"B\"\n",
    "If the grade is between 70 and 79, display \"C\"\n",
    "If the grade is between 60 and 69, display \"D\"\n",
    "If the grade is below 60, display \"F\""
   ]
  },
  {
   "cell_type": "code",
   "execution_count": null,
   "metadata": {},
   "outputs": [],
   "source": []
  },
  {
   "attachments": {},
   "cell_type": "markdown",
   "metadata": {},
   "source": [
    "### Exercise 5:\n",
    "Write a Python program that asks the user to enter three numbers. Check if the three numbers form a valid triangle by using the triangle inequality theorem. If the numbers form a valid triangle, display \"Valid triangle.\" Otherwise, display \"Invalid triangle.\""
   ]
  },
  {
   "cell_type": "code",
   "execution_count": null,
   "metadata": {},
   "outputs": [],
   "source": []
  },
  {
   "attachments": {},
   "cell_type": "markdown",
   "metadata": {},
   "source": [
    "### Exercise 6:\n",
    "Write a Python program that asks the user to enter their age. Use the ternary operator to check if the age is greater than or equal to 18. If true, display \"You are an adult.\" If false, display \"You are a minor.\"\n"
   ]
  },
  {
   "cell_type": "code",
   "execution_count": null,
   "metadata": {},
   "outputs": [],
   "source": []
  },
  {
   "attachments": {},
   "cell_type": "markdown",
   "metadata": {},
   "source": [
    "### Exercise 7:\n",
    "Write a Python program that asks the user to enter a number. Check if the number is divisible by both 2 and 3 using logical operators in the conditional statement. If true, display \"The number is divisible by both 2 and 3.\" If false, display \"The number is not divisible by both 2 and 3.\""
   ]
  },
  {
   "cell_type": "code",
   "execution_count": null,
   "metadata": {},
   "outputs": [],
   "source": []
  },
  {
   "attachments": {},
   "cell_type": "markdown",
   "metadata": {},
   "source": [
    "### Exercise 8:\n",
    "Write a Python program that asks the user to enter a number. Check if the number is positive and even using logical operators in the conditional statement. If true, display \"The number is positive and even.\" If false, display \"The number is not positive and even.\""
   ]
  },
  {
   "cell_type": "code",
   "execution_count": null,
   "metadata": {},
   "outputs": [],
   "source": []
  },
  {
   "attachments": {},
   "cell_type": "markdown",
   "metadata": {},
   "source": [
    "### Exercise 9:\n",
    "Write a program that prompts the user to enter a number and displays whether it is positive or negative using the ternary operator."
   ]
  },
  {
   "cell_type": "code",
   "execution_count": null,
   "metadata": {},
   "outputs": [],
   "source": []
  },
  {
   "attachments": {},
   "cell_type": "markdown",
   "metadata": {},
   "source": [
    "### Exercise 10:\n",
    "Write a program that prompts the user to enter two numbers and displays the maximum of the two numbers using the ternary operator."
   ]
  },
  {
   "cell_type": "code",
   "execution_count": null,
   "metadata": {},
   "outputs": [],
   "source": []
  }
 ],
 "metadata": {
  "language_info": {
   "name": "python"
  },
  "orig_nbformat": 4
 },
 "nbformat": 4,
 "nbformat_minor": 2
}
