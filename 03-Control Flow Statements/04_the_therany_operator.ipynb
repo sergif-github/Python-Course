{
 "cells": [
  {
   "cell_type": "markdown",
   "id": "934d3db1",
   "metadata": {},
   "source": [
    "# Module 3: Conditional Statements\n",
    "\n",
    "## Part 4: Ternary Operator\n",
    "\n",
    "The ternary operator, also known as the conditional expression, provides a concise way to write simple conditional statements in Python. It allows you to evaluate a condition and return a value based on the result of the condition. The syntax of the ternary operator is as follows:"
   ]
  },
  {
   "cell_type": "code",
   "execution_count": null,
   "id": "dda9ab78",
   "metadata": {},
   "outputs": [],
   "source": [
    "value_if_true if condition else value_if_false"
   ]
  },
  {
   "cell_type": "markdown",
   "id": "e5a1e39e",
   "metadata": {},
   "source": [
    "Here's an example to illustrate the usage of the ternary operator:"
   ]
  },
  {
   "cell_type": "code",
   "execution_count": null,
   "id": "d2dd78d1",
   "metadata": {},
   "outputs": [],
   "source": [
    "num = 10\n",
    "\n",
    "result = \"Positive\" if num > 0 else \"Non-positive\"\n",
    "\n",
    "print(result)"
   ]
  },
  {
   "cell_type": "markdown",
   "id": "a6764e7a",
   "metadata": {},
   "source": [
    "In this example, the ternary operator is used to assign a value to the variable result based on the condition num > 0. If the condition is True, the value \"Positive\" is assigned to result; otherwise, the value \"Non-positive\" is assigned. The value of result is then printed, which will be either \"Positive\" or \"Non-positive\" depending on the value of num.\n",
    "\n",
    "The ternary operator can be used to simplify the code and make it more readable in cases where you need to assign a value based on a simple condition. However, it's important to use it judiciously and avoid nesting multiple ternary operators, as it can make the code less understandable.\n",
    "\n",
    "### Summary\n",
    "\n",
    "In this part, you learned about the ternary operator in Python. The ternary operator provides a concise way to write simple conditional statements and assign a value based on a condition. It can make the code more readable and compact in certain situations. However, it's important to use it sparingly and avoid excessive nesting to maintain code clarity."
   ]
  }
 ],
 "metadata": {
  "jupytext": {
   "cell_metadata_filter": "-all",
   "main_language": "python",
   "notebook_metadata_filter": "-all"
  }
 },
 "nbformat": 4,
 "nbformat_minor": 5
}
