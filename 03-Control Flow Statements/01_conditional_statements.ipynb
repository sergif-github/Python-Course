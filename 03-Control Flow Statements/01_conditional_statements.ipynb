{
 "cells": [
  {
   "cell_type": "markdown",
   "id": "546a039f",
   "metadata": {},
   "source": [
    "# Module 3: Conditional Statements\n",
    "\n",
    "## Part 1: Conditional Statements (if, else, elif)\n",
    "\n",
    "Conditional statements are used in Python to execute different blocks of code based on certain conditions. The most common conditional statements in Python are the `if`, `else`, and `elif` statements.\n",
    "\n",
    "### 1.1 The `if` Statement\n",
    "\n",
    "The `if` statement is used to check a condition and execute a block of code if the condition is true. Here's the basic syntax of the `if` statement:"
   ]
  },
  {
   "cell_type": "code",
   "execution_count": null,
   "id": "3d0e4dd4",
   "metadata": {},
   "outputs": [],
   "source": [
    "if condition:\n",
    "    # code to execute if the condition is true"
   ]
  },
  {
   "cell_type": "markdown",
   "id": "ea963d80",
   "metadata": {},
   "source": [
    "Example:"
   ]
  },
  {
   "cell_type": "code",
   "execution_count": null,
   "id": "807a1af0",
   "metadata": {},
   "outputs": [],
   "source": [
    "age = 20\n",
    "\n",
    "if age >= 18:\n",
    "    print(\"You are an adult.\")"
   ]
  },
  {
   "cell_type": "markdown",
   "id": "dc9433b1",
   "metadata": {},
   "source": [
    "In this example, the if statement checks if the age variable is greater than or equal to 18. If the condition is true, the code block inside the if statement is executed, and the message \"You are an adult.\" is printed.\n",
    "\n",
    "### 1.2 The else Statement\n",
    "\n",
    "The else statement is used to specify a block of code to be executed if the condition in the if statement is false. Here's the basic syntax of the else statement:"
   ]
  },
  {
   "cell_type": "code",
   "execution_count": null,
   "id": "c7cb6a4f",
   "metadata": {},
   "outputs": [],
   "source": [
    "if condition:\n",
    "    # code to execute if the condition is true\n",
    "else:\n",
    "    # code to execute if the condition is false"
   ]
  },
  {
   "cell_type": "markdown",
   "id": "6f01362f",
   "metadata": {},
   "source": [
    "Example:"
   ]
  },
  {
   "cell_type": "code",
   "execution_count": null,
   "id": "b2b4b803",
   "metadata": {},
   "outputs": [],
   "source": [
    "age = 15\n",
    "\n",
    "if age >= 18:\n",
    "    print(\"You are an adult.\")\n",
    "else:\n",
    "    print(\"You are a minor.\")"
   ]
  },
  {
   "cell_type": "markdown",
   "id": "9ccc51dd",
   "metadata": {},
   "source": [
    "In this example, if the condition age >= 18 is false, the code block inside the else statement is executed, and the message \"You are a minor.\" is printed.\n",
    "\n",
    "### 1.3 The elif Statement\n",
    "\n",
    "The elif statement is short for \"else if\" and is used to specify additional conditions to check if the preceding if statement is false. Here's the basic syntax of the elif statement:"
   ]
  },
  {
   "cell_type": "code",
   "execution_count": null,
   "id": "2429ef1e",
   "metadata": {},
   "outputs": [],
   "source": [
    "if condition1:\n",
    "    # code to execute if condition1 is true\n",
    "elif condition2:\n",
    "    # code to execute if condition2 is true\n",
    "else:\n",
    "    # code to execute if all conditions are false"
   ]
  },
  {
   "cell_type": "markdown",
   "id": "a29f9d74",
   "metadata": {},
   "source": [
    "Example:"
   ]
  },
  {
   "cell_type": "code",
   "execution_count": null,
   "id": "150dfb0c",
   "metadata": {},
   "outputs": [],
   "source": [
    "age = 25\n",
    "\n",
    "if age < 18:\n",
    "    print(\"You are a minor.\")\n",
    "elif age >= 18 and age < 65:\n",
    "    print(\"You are an adult.\")\n",
    "else:\n",
    "    print(\"You are a senior citizen.\")"
   ]
  },
  {
   "cell_type": "markdown",
   "id": "31171627",
   "metadata": {},
   "source": [
    "In this example, the elif statement checks if the age is between 18 and 65. If the first condition is false and the second condition is true, the code block inside the elif statement is executed, and the message \"You are an adult.\" is printed.\n",
    "\n",
    "### 1.4 Summary\n",
    "\n",
    "In this part, you learned about conditional statements in Python, including the if, else, and elif statements. Conditional statements allow you to execute different blocks of code based on certain conditions. Use the if statement to check a condition, the else statement to specify code for when the condition is false, and the elif statement to check additional conditions if the preceding if statement is false."
   ]
  }
 ],
 "metadata": {
  "jupytext": {
   "cell_metadata_filter": "-all",
   "main_language": "python",
   "notebook_metadata_filter": "-all"
  }
 },
 "nbformat": 4,
 "nbformat_minor": 5
}
