{
 "cells": [
  {
   "attachments": {},
   "cell_type": "markdown",
   "id": "8efb8f36",
   "metadata": {
    "lines_to_next_cell": 0
   },
   "source": [
    "# Module 12: Testing and Debugging\n",
    "\n",
    "## Part 1 Unit Testing with the unittest Module\n",
    "\n",
    "Unit testing is a software testing approach where individual components or units of code are tested to ensure their functionality in isolation.\n",
    "\n",
    "### 1.1 Unitest module\n",
    "\n",
    "Python provides the unittest module, which is a built-in testing framework that allows us to write and run unit tests for our code.\n",
    "Unit testing with the unittest module helps ensure that our code behaves as expected in different scenarios. By writing comprehensive tests, \n",
    "we can catch bugs early, prevent regressions, and build robust and reliable code. The unittest module provides various assertion methods, \n",
    "such as assertEqual(), assertTrue(), assertFalse(), and many more, to perform different types of checks during testing.\n",
    "\n",
    "To perform unit testing with the unittest module, follow these steps:\n",
    "\n",
    "#### Import the necessary modules and classes:"
   ]
  },
  {
   "cell_type": "code",
   "execution_count": null,
   "id": "86abf9da",
   "metadata": {},
   "outputs": [],
   "source": [
    "import unittest"
   ]
  },
  {
   "attachments": {},
   "cell_type": "markdown",
   "id": "0818d4a4",
   "metadata": {
    "lines_to_next_cell": 0
   },
   "source": [
    "#### Define a test class that inherits from unittest.TestCase:"
   ]
  },
  {
   "cell_type": "code",
   "execution_count": null,
   "id": "a5570b36",
   "metadata": {},
   "outputs": [],
   "source": [
    "class MyTestCase(unittest.TestCase):\n",
    "    pass"
   ]
  },
  {
   "attachments": {},
   "cell_type": "markdown",
   "id": "5969b4c7",
   "metadata": {
    "lines_to_next_cell": 0
   },
   "source": [
    "#### Write test methods within the test class. Each test method should start with the word \"test\":"
   ]
  },
  {
   "cell_type": "code",
   "execution_count": null,
   "id": "2f45079e",
   "metadata": {},
   "outputs": [],
   "source": [
    "def test_addition(self):\n",
    "    result = 2 + 2\n",
    "    self.assertEqual(result, 4)"
   ]
  },
  {
   "attachments": {},
   "cell_type": "markdown",
   "id": "61dbff9a",
   "metadata": {
    "lines_to_next_cell": 0
   },
   "source": [
    "#### Use assertion methods from the unittest.TestCase class to check the expected results:"
   ]
  },
  {
   "cell_type": "code",
   "execution_count": null,
   "id": "f366ff4f",
   "metadata": {},
   "outputs": [],
   "source": [
    "self.assertEqual(result, expected_result)\n",
    "self.assertTrue(condition)\n",
    "self.assertFalse(condition)"
   ]
  },
  {
   "attachments": {},
   "cell_type": "markdown",
   "id": "c4ab7068",
   "metadata": {
    "lines_to_next_cell": 0
   },
   "source": [
    "#### (Optional) Use the setUp() and tearDown() methods to set up any necessary resources before running each test and clean up afterward:"
   ]
  },
  {
   "cell_type": "code",
   "execution_count": null,
   "id": "12fee619",
   "metadata": {},
   "outputs": [],
   "source": [
    "def setUp(self):\n",
    "    # Set up resources\n",
    "\n",
    "def tearDown(self):\n",
    "    # Clean up resources"
   ]
  },
  {
   "attachments": {},
   "cell_type": "markdown",
   "id": "c14e6edf",
   "metadata": {
    "lines_to_next_cell": 0
   },
   "source": [
    "#### (Optional) Create a test suite to group related test cases:"
   ]
  },
  {
   "cell_type": "code",
   "execution_count": null,
   "id": "8614c93b",
   "metadata": {},
   "outputs": [],
   "source": [
    "def suite():\n",
    "    test_suite = unittest.TestSuite()\n",
    "    test_suite.addTest(MyTestCase('test_addition'))\n",
    "    return test_suite"
   ]
  },
  {
   "attachments": {},
   "cell_type": "markdown",
   "id": "8887c430",
   "metadata": {
    "lines_to_next_cell": 0
   },
   "source": [
    "##### (Optional) Use the unittest.TextTestRunner class to run the tests and display the results:"
   ]
  },
  {
   "cell_type": "code",
   "execution_count": null,
   "id": "68596f70",
   "metadata": {},
   "outputs": [],
   "source": [
    "if __name__ == '__main__':\n",
    "    runner = unittest.TextTestRunner()\n",
    "    runner.run(suite())"
   ]
  },
  {
   "attachments": {},
   "cell_type": "markdown",
   "id": "1642f2c0",
   "metadata": {},
   "source": [
    "Here's an example that demonstrates the usage of the unittest module:"
   ]
  },
  {
   "cell_type": "code",
   "execution_count": null,
   "id": "f3b5323b",
   "metadata": {},
   "outputs": [],
   "source": [
    "import unittest\n",
    "\n",
    "class MyTestCase(unittest.TestCase):\n",
    "    def test_addition(self):\n",
    "        result = 2 + 2\n",
    "        self.assertEqual(result, 4)\n",
    "\n",
    "    def test_subtraction(self):\n",
    "        result = 5 - 3\n",
    "        self.assertEqual(result, 2)\n",
    "\n",
    "if __name__ == '__main__':\n",
    "    unittest.main()"
   ]
  },
  {
   "attachments": {},
   "cell_type": "markdown",
   "id": "cdb5036d",
   "metadata": {},
   "source": [
    "In this example, we define a test class MyTestCase that inherits from unittest.TestCase. Inside the test class, we define two test methods: \n",
    "test_addition and test_subtraction. Each test method performs a specific calculation and uses an assertion method (self.assertEqual())\n",
    "to check the expected result.\n",
    "\n",
    "To run the tests, we use unittest.main() at the bottom of the script. This will discover and execute all the test methods defined in the test class.\n",
    "\n",
    "### 1.2 Summary\n",
    "\n",
    "We explored unit testing with the unittest module, which is Python's built-in testing framework. We learned how to define test classes,\n",
    "write test methods, and use assertion methods to verify the expected behavior of our code.\n",
    "\n",
    "Unit testing plays a crucial role in software development by helping us identify and fix issues early in the development process. \n",
    "It allows us to validate the correctness of our code, improve code quality, and build more reliable and maintainable software.\n",
    "\n",
    "Remember to write comprehensive test cases that cover different scenarios and edge cases. Regularly running unit tests as part of the development\n",
    "workflow helps ensure that code changes do not introduce new bugs or regressions."
   ]
  }
 ],
 "metadata": {
  "jupytext": {
   "cell_metadata_filter": "-all",
   "main_language": "python",
   "notebook_metadata_filter": "-all"
  },
  "language_info": {
   "name": "python"
  }
 },
 "nbformat": 4,
 "nbformat_minor": 5
}
