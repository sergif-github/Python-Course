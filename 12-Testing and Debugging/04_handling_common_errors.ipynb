{
 "cells": [
  {
   "cell_type": "markdown",
   "id": "c89c247f",
   "metadata": {},
   "source": [
    "# Module 12: Testing and Debugging\n",
    "\n",
    "## Part 4: Handling Common Errors\n",
    "\n",
    "When writing code, it's common to encounter errors and bugs. Understanding common errors and knowing how to effectively debug them is essential\n",
    "for maintaining the stability and correctness of your code. In this section, we will explore some common errors and introduce useful debugging\n",
    "tools to help you diagnose and fix issues more efficiently.\n",
    "\n",
    "### 4.1 Common Errors\n",
    "\n",
    "#### Syntax Errors: \n",
    "\n",
    "Syntax errors occur when the code violates the rules of the programming language. These errors prevent the code from running and are usually highlighted by the code editor or compiler. Examples include missing parentheses, incorrect indentation, or misspelled keywords.\n",
    "\n",
    "#### Name Errors:\n",
    "\n",
    "Name errors occur when you try to use a variable or function that hasn't been defined. This typically happens when you misspell a variable name or reference a variable outside of its scope.\n",
    "\n",
    "#### Type Errors: \n",
    "\n",
    "Type errors occur when you perform operations on incompatible data types. For example, trying to concatenate a string and an integer or calling a method that doesn't exist for a particular object.\n",
    "\n",
    "#### Index Errors: \n",
    "\n",
    "Index errors occur when you try to access an element at an invalid index of a sequence (e.g., a list or a string). This happens when you provide an index that is out of range, either too small or too large.\n",
    "\n",
    "#### Attribute Errors: \n",
    "\n",
    "Attribute errors occur when you try to access an attribute or method that doesn't exist for a given object. This can happen when you mistype an attribute name or when the object doesn't have the expected attribute.\n",
    "\n",
    "#### Key Errors: \n",
    "\n",
    "Key errors occur when you try to access a dictionary element using a key that doesn't exist in the dictionary.\n",
    "\n",
    "#### Value Errors: \n",
    "\n",
    "Value errors occur when you pass an argument with the correct type but an inappropriate value. For example, passing a negative number to a function that expects a positive value.\n",
    "\n",
    "#### Import Errors: \n",
    "\n",
    "Import errors occur when you try to import a module that doesn't exist or when there is an issue with the module's dependencies."
   ]
  }
 ],
 "metadata": {
  "jupytext": {
   "cell_metadata_filter": "-all",
   "main_language": "python",
   "notebook_metadata_filter": "-all"
  }
 },
 "nbformat": 4,
 "nbformat_minor": 5
}
