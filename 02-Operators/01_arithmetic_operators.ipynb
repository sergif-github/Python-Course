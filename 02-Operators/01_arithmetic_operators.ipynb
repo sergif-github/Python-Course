{
 "cells": [
  {
   "cell_type": "markdown",
   "id": "3a62cb14",
   "metadata": {},
   "source": [
    "# Module 2: Operators\n",
    "\n",
    "## Part 1: Arithmetic Operators\n",
    "\n",
    "Arithmetic operators are used to perform mathematical operations on numeric operands. \n",
    "\n",
    "### 1.1 Arithmetic operators\n",
    "\n",
    "Python provides several arithmetic operators for addition, subtraction, multiplication, division, and more.\n",
    "\n",
    "#### Addition Operator (+)\n",
    "\n",
    "The addition operator (`+`) is used to add two numbers together. For example:"
   ]
  },
  {
   "cell_type": "code",
   "execution_count": null,
   "id": "de5a1ba1",
   "metadata": {},
   "outputs": [],
   "source": [
    "x = 5\n",
    "y = 3\n",
    "\n",
    "result = x + y  # 5 + 3 = 8\n",
    "print(\"Result:\", result)  # Output: Result: 8"
   ]
  },
  {
   "cell_type": "markdown",
   "id": "016c2451",
   "metadata": {},
   "source": [
    "#### Subtraction Operator (-)\n",
    "\n",
    "The subtraction operator (-) is used to subtract one number from another. For example:"
   ]
  },
  {
   "cell_type": "code",
   "execution_count": null,
   "id": "42f8afe9",
   "metadata": {},
   "outputs": [],
   "source": [
    "x = 10\n",
    "y = 3\n",
    "\n",
    "result = x - y  # 10 - 3 = 7\n",
    "print(\"Result:\", result)  # Output: Result: 7"
   ]
  },
  {
   "cell_type": "markdown",
   "id": "078b0f41",
   "metadata": {},
   "source": [
    "#### Multiplication Operator (*)\n",
    "\n",
    "The multiplication operator (*) is used to multiply two numbers. For example:"
   ]
  },
  {
   "cell_type": "code",
   "execution_count": null,
   "id": "cbb84d78",
   "metadata": {},
   "outputs": [],
   "source": [
    "x = 4\n",
    "y = 5\n",
    "\n",
    "result = x * y  # 4 * 5 = 20\n",
    "print(\"Result:\", result)  # Output: Result: 20"
   ]
  },
  {
   "cell_type": "markdown",
   "id": "910cc58a",
   "metadata": {},
   "source": [
    "#### Division Operator (/)\n",
    "\n",
    "The division operator (/) is used to divide one number by another. In Python 3.x, the division operator always returns a float result, even if the operands are integers. For example:"
   ]
  },
  {
   "cell_type": "code",
   "execution_count": null,
   "id": "a2325afe",
   "metadata": {},
   "outputs": [],
   "source": [
    "x = 10\n",
    "y = 3\n",
    "\n",
    "result = x / y  # 10 / 3 = 3.3333333333333335\n",
    "print(\"Result:\", result)  # Output: Result: 3.3333333333333335"
   ]
  },
  {
   "cell_type": "markdown",
   "id": "5e7e0c25",
   "metadata": {},
   "source": [
    "#### Floor Division Operator (//)\n",
    "\n",
    "The floor division operator (//) is used to perform integer division. It returns the largest possible integer quotient without considering the remainder. For example:"
   ]
  },
  {
   "cell_type": "code",
   "execution_count": null,
   "id": "c836ef20",
   "metadata": {},
   "outputs": [],
   "source": [
    "x = 10\n",
    "y = 3\n",
    "\n",
    "result = x // y  # 10 // 3 = 3\n",
    "print(\"Result:\", result)  # Output: Result: 3"
   ]
  },
  {
   "cell_type": "markdown",
   "id": "98053ac6",
   "metadata": {},
   "source": [
    "#### Modulus Operator (%)\n",
    "\n",
    "The modulus operator (%) is used to find the remainder of the division between two numbers. For example:"
   ]
  },
  {
   "cell_type": "code",
   "execution_count": null,
   "id": "43115e74",
   "metadata": {},
   "outputs": [],
   "source": [
    "x = 10\n",
    "y = 3\n",
    "\n",
    "result = x % y  # 10 % 3 = 1\n",
    "print(\"Result:\", result)  # Output: Result: 1"
   ]
  },
  {
   "cell_type": "markdown",
   "id": "483b95cb",
   "metadata": {},
   "source": [
    "#### Exponentiation Operator (**)\n",
    "\n",
    "The exponentiation operator (**) is used to raise a number to the power of another number. For example:"
   ]
  },
  {
   "cell_type": "code",
   "execution_count": null,
   "id": "4cc77655",
   "metadata": {
    "lines_to_next_cell": 0
   },
   "outputs": [],
   "source": [
    "x = 2\n",
    "y = 3"
   ]
  },
  {
   "cell_type": "markdown",
   "id": "b859ba18",
   "metadata": {},
   "source": [
    "result = x ** y  # 2 ** 3 = 8\n",
    "print(\"Result:\", result)  # Output: Result: 8\n",
    "\n",
    "### 1.2 Summary\n",
    "\n",
    "In this part, you explored the arithmetic operators in Python, including addition, subtraction, multiplication, division, floor division, modulus, and exponentiation. These operators are essential for performing mathematical operations in your programs."
   ]
  }
 ],
 "metadata": {
  "jupytext": {
   "cell_metadata_filter": "-all",
   "main_language": "python",
   "notebook_metadata_filter": "-all"
  }
 },
 "nbformat": 4,
 "nbformat_minor": 5
}
