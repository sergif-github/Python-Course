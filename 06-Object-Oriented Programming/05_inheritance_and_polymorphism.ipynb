{
 "cells": [
  {
   "cell_type": "markdown",
   "id": "7b33c392",
   "metadata": {},
   "source": [
    "# Module 6: Object-Oriented Programming\n",
    "\n",
    "## Part 5: Inheritance and Polymorphism\n",
    "\n",
    "Inheritance and polymorphism are key concepts in object-oriented programming that allow for code reuse, extensibility, and flexibility.\n",
    "Let's explore these concepts in more detail:\n",
    "\n",
    "### 5.1 Inheritance\n",
    "\n",
    "Inheritance is a mechanism that allows a class to inherit the properties and methods of another class. The class that is being \n",
    "inherited from is called the **base class** or **superclass**, while the class that inherits from the base class is called the \n",
    "**derived class** or **subclass**. Inheritance promotes code reuse and allows the derived class to add or modify functionality \n",
    "from the base class."
   ]
  },
  {
   "cell_type": "code",
   "execution_count": null,
   "id": "a1426d63",
   "metadata": {},
   "outputs": [],
   "source": [
    "class Animal:\n",
    "    def __init__(self, name):\n",
    "        self.name = name\n",
    "\n",
    "    def speak(self):\n",
    "        raise NotImplementedError(\"Subclass must implement the speak method\")\n",
    "\n",
    "class Dog(Animal):\n",
    "    def speak(self):\n",
    "        return \"Woof!\"\n",
    "\n",
    "class Cat(Animal):\n",
    "    def speak(self):\n",
    "        return \"Meow!\"\n",
    "\n",
    "dog = Dog(\"Buddy\")\n",
    "cat = Cat(\"Whiskers\")\n",
    "\n",
    "print(dog.name)      # Output: Buddy\n",
    "print(dog.speak())   # Output: Woof!\n",
    "print(cat.name)      # Output: Whiskers\n",
    "print(cat.speak())   # Output: Meow!"
   ]
  },
  {
   "cell_type": "markdown",
   "id": "a46f11f1",
   "metadata": {},
   "source": [
    "In this example, the Animal class is the base class, and the Dog and Cat classes are derived from it. Both the Dog and Cat classes \n",
    "inherit the name attribute and the speak() method from the Animal class. However, each subclass provides its own implementation\n",
    "of the speak() method, resulting in different behaviors.\n",
    "\n",
    "### 5.2 Polymorphism\n",
    "\n",
    "Polymorphism refers to the ability of objects to take on multiple forms. In the context of inheritance, polymorphism allows objects \n",
    "of different classes that share a common base class to be treated as objects of the base class. This means that a function or method\n",
    "can work with objects of different types, as long as they are derived from the same base class."
   ]
  },
  {
   "cell_type": "code",
   "execution_count": null,
   "id": "98eac0da",
   "metadata": {},
   "outputs": [],
   "source": [
    "def make_speak(animal):\n",
    "    print(animal.speak())\n",
    "\n",
    "dog = Dog(\"Buddy\")\n",
    "cat = Cat(\"Whiskers\")\n",
    "\n",
    "make_speak(dog)     # Output: Woof!\n",
    "make_speak(cat)     # Output: Meow!"
   ]
  },
  {
   "cell_type": "markdown",
   "id": "44b4f53b",
   "metadata": {},
   "source": [
    "In this example, the make_speak() function can take both Dog and Cat objects as arguments because they are derived from the common\n",
    "base class Animal. This demonstrates polymorphism, where the same function can work with objects of different types as long as they\n",
    "adhere to a common interface.\n",
    "\n",
    "### 5.3 Summary\n",
    "\n",
    "In this part, you learned about inheritance and polymorphism in object-oriented programming. Inheritance allows a class to inherit\n",
    "properties and methods from a base class, promoting code reuse and extensibility. Polymorphism enables objects of different types \n",
    "but derived from a common base class to be treated interchangeably, providing flexibility and reusability."
   ]
  }
 ],
 "metadata": {
  "jupytext": {
   "cell_metadata_filter": "-all",
   "main_language": "python",
   "notebook_metadata_filter": "-all"
  }
 },
 "nbformat": 4,
 "nbformat_minor": 5
}
