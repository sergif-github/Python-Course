{
 "cells": [
  {
   "attachments": {},
   "cell_type": "markdown",
   "metadata": {},
   "source": [
    "# Module 6: Object-Oriented Programming\n",
    "\n",
    "# Part 5: Polymorphism\n",
    "\n",
    "Polymorphism is a powerful concept in Object-Oriented Programming (OOP) that allows objects of different classes to be treated as objects of a common base class. It enables the same code to be used with different types of objects, providing flexibility and code reusability.\n",
    "\n",
    "### 5.1 Introduction to Polymorphism\n"
   ]
  },
  {
   "cell_type": "code",
   "execution_count": 1,
   "metadata": {},
   "outputs": [
    {
     "name": "stdout",
     "output_type": "stream",
     "text": [
      "Dog barks!\n",
      "Cat meows!\n"
     ]
    }
   ],
   "source": [
    "# Parent class\n",
    "class Animal:\n",
    "    def sound(self):\n",
    "        pass\n",
    "\n",
    "# Child classes\n",
    "class Dog(Animal):\n",
    "    def sound(self):\n",
    "        print(\"Dog barks!\")\n",
    "\n",
    "class Cat(Animal):\n",
    "    def sound(self):\n",
    "        print(\"Cat meows!\")\n",
    "\n",
    "# Common function accepting Animal objects\n",
    "def make_sound(animal):\n",
    "    animal.sound()\n",
    "\n",
    "# Creating instances of different classes\n",
    "dog = Dog()\n",
    "cat = Cat()\n",
    "\n",
    "# Calling the common function with different objects\n",
    "make_sound(dog)  # Output: Dog barks!\n",
    "make_sound(cat)  # Output: Cat meows!"
   ]
  },
  {
   "attachments": {},
   "cell_type": "markdown",
   "metadata": {},
   "source": [
    "In this example, the Animal class is the base class, and the Dog and Cat classes are the child classes. Each child class overrides the sound method of the base class with its own implementation. The make_sound function accepts an Animal object as a parameter and calls the sound method, which exhibits polymorphic behavior. By passing different objects to the same function, we can achieve different actions based on the specific type of object.\n",
    "\n",
    "### 5.2 Method Overriding\n",
    "\n",
    "Polymorphism in OOP is often achieved through method overriding. Method overriding allows a child class to provide a different implementation of a method that is already defined in its parent class."
   ]
  },
  {
   "cell_type": "code",
   "execution_count": 2,
   "metadata": {},
   "outputs": [
    {
     "name": "stdout",
     "output_type": "stream",
     "text": [
      "20\n",
      "28.26\n"
     ]
    }
   ],
   "source": [
    "# Parent class\n",
    "class Shape:\n",
    "    def area(self):\n",
    "        pass\n",
    "\n",
    "# Child classes\n",
    "class Rectangle(Shape):\n",
    "    def __init__(self, length, width):\n",
    "        self.length = length\n",
    "        self.width = width\n",
    "\n",
    "    def area(self):\n",
    "        return self.length * self.width\n",
    "\n",
    "class Circle(Shape):\n",
    "    def __init__(self, radius):\n",
    "        self.radius = radius\n",
    "\n",
    "    def area(self):\n",
    "        return 3.14 * self.radius**2\n",
    "\n",
    "# Creating instances of different classes\n",
    "rectangle = Rectangle(4, 5)\n",
    "circle = Circle(3)\n",
    "\n",
    "# Calling the area method of different objects\n",
    "print(rectangle.area())  # Output: 20\n",
    "print(circle.area())  # Output: 28.26"
   ]
  },
  {
   "attachments": {},
   "cell_type": "markdown",
   "metadata": {},
   "source": [
    "In this example, the Shape class is the base class, and the Rectangle and Circle classes are the child classes. Each child class overrides the area method of the base class with its own implementation to calculate the area specific to that shape. By calling the area method on different objects, we get the respective areas based on the object's specific type.\n",
    "\n",
    "Polymorphism and method overriding allow for code flexibility, extensibility, and the ability to work with different object types interchangeably. Understanding polymorphism is essential for writing robust and adaptable code.\n",
    "\n",
    "### 5.3 Summary\n",
    "\n",
    "We explored the concept of polymorphism in Object-Oriented Programming (OOP). Polymorphism allows objects of different classes to be treated as objects of a common base class, enabling code reusability and flexibility. We learned about method overriding, where child classes provide their own implementation of a method defined in the parent class. Method overriding enables different objects to exhibit specific behaviors while being treated uniformly through a common interface. Understanding polymorphism is crucial for building adaptable and modular code structures."
   ]
  }
 ],
 "metadata": {
  "kernelspec": {
   "display_name": "Python 3",
   "language": "python",
   "name": "python3"
  },
  "language_info": {
   "codemirror_mode": {
    "name": "ipython",
    "version": 3
   },
   "file_extension": ".py",
   "mimetype": "text/x-python",
   "name": "python",
   "nbconvert_exporter": "python",
   "pygments_lexer": "ipython3",
   "version": "3.8.10"
  },
  "orig_nbformat": 4
 },
 "nbformat": 4,
 "nbformat_minor": 2
}
