{
 "cells": [
  {
   "cell_type": "markdown",
   "id": "1496dc16",
   "metadata": {},
   "source": [
    "# Module 6: Object-Oriented Programming\n",
    "\n",
    "## Part 1: Introduction to Classes and Objects\n",
    "\n",
    "Object-oriented programming (OOP) is a programming paradigm that organizes code into objects, which are instances of classes.\n",
    "Classes define the structure and behavior of objects, and objects are used to interact with and manipulate data. \n",
    "Let's explore the fundamentals of classes and objects in Python:\n",
    "\n",
    "### 1.1 Classes and Objects\n",
    "\n",
    "In Python, a class is a blueprint for creating objects. It defines the properties and methods that objects of that class \n",
    "will have. Objects, on the other hand, are instances of a class. They represent specific entities or concepts in your program.\n",
    "Here's an example:"
   ]
  },
  {
   "cell_type": "code",
   "execution_count": null,
   "id": "6b09b5f1",
   "metadata": {},
   "outputs": [],
   "source": [
    "class Car:\n",
    "    def __init__(self, brand, model):\n",
    "        self.brand = brand\n",
    "        self.model = model\n",
    "\n",
    "    def drive(self):\n",
    "        print(f\"The {self.brand} {self.model} is driving.\")\n",
    "\n",
    "car1 = Car(\"Toyota\", \"Camry\")\n",
    "car1.drive()"
   ]
  },
  {
   "cell_type": "markdown",
   "id": "4e8a0e74",
   "metadata": {},
   "source": [
    "In this example, we define a Car class with two properties: brand and model. The __init__() method is a special method \n",
    "called the constructor, which is executed when an object is created. It initializes the brand and model properties of \n",
    "the object using the values passed as arguments. The drive() method is a behavior associated with the Car class that allows\n",
    "the object to perform the action of driving. We create an instance of the Car class called car1, passing the brand \"Toyota\"\n",
    "and the model \"Camry\" as arguments. Finally, we call the drive() method on the car1 object, which prints the driving message.\n",
    "\n",
    "### 1.2 Encapsulation and Abstraction\n",
    "\n",
    "OOP provides two important principles: encapsulation and abstraction. Encapsulation refers to the bundling of data and methods within a class. It allows us to control the access to the internal state of an object. Abstraction, on the other hand, focuses on exposing only essential information and hiding unnecessary details. It allows us to create more understandable and maintainable code.\n",
    "\n",
    "### 1.3 Summary\n",
    "\n",
    "In this part, you learned the basics of classes and objects in Python. Classes serve as blueprints for creating objects, which are instances of those classes. Objects encapsulate data and behavior, allowing us to interact with and manipulate data in a structured way. OOP promotes encapsulation and abstraction, which improve code organization, readability, and maintainability."
   ]
  }
 ],
 "metadata": {
  "jupytext": {
   "cell_metadata_filter": "-all",
   "main_language": "python",
   "notebook_metadata_filter": "-all"
  }
 },
 "nbformat": 4,
 "nbformat_minor": 5
}
