{
 "cells": [
  {
   "cell_type": "markdown",
   "id": "ba61eb36",
   "metadata": {},
   "source": [
    "# Module 6: Object-Oriented Programming\n",
    "\n",
    "## Part 6: Special Python Methods (Dunder Methods)\n",
    "\n",
    "Special Python methods, also known as dunder methods (short for double underscore methods), are predefined methods in Python \n",
    "classes that allow customization of various operations and behaviors. These methods have a specific naming convention with \n",
    "double underscores at the beginning and end of their names. Let's explore some commonly used dunder methods:\n",
    "\n",
    "### 6.1 `__init__()`\n",
    "\n",
    "The `__init__()` method is used for initializing objects of a class. It is called automatically when a new object is created\n",
    "from the class and allows you to set initial attributes or perform any necessary setup."
   ]
  },
  {
   "cell_type": "code",
   "execution_count": null,
   "id": "8622f168",
   "metadata": {},
   "outputs": [],
   "source": [
    "class Point:\n",
    "    def __init__(self, x, y):\n",
    "        self.x = x\n",
    "        self.y = y\n",
    "\n",
    "point = Point(3, 4)"
   ]
  },
  {
   "cell_type": "markdown",
   "id": "8f27d20f",
   "metadata": {},
   "source": [
    "### 6.2 __str__()\n",
    "\n",
    "The __str__() method returns a string representation of an object. It is commonly used for providing a human-readable representation\n",
    "of the object's state. It is called by the str() built-in function or when an object is printed."
   ]
  },
  {
   "cell_type": "code",
   "execution_count": null,
   "id": "a7110ed3",
   "metadata": {},
   "outputs": [],
   "source": [
    "class Point:\n",
    "    def __init__(self, x, y):\n",
    "        self.x = x\n",
    "        self.y = y\n",
    "\n",
    "    def __str__(self):\n",
    "        return f\"Point({self.x}, {self.y})\"\n",
    "\n",
    "point = Point(3, 4)\n",
    "print(point)   # Output: Point(3, 4)"
   ]
  },
  {
   "cell_type": "markdown",
   "id": "6fd990e0",
   "metadata": {},
   "source": [
    "### 6.3 __repr__()\n",
    "\n",
    "The __repr__() method returns a string representation of an object that can be used to recreate the object. It is typically used\n",
    "for debugging and provides a more detailed representation compared to __str__(). It is called by the repr() built-in function."
   ]
  },
  {
   "cell_type": "code",
   "execution_count": null,
   "id": "dee67c02",
   "metadata": {},
   "outputs": [],
   "source": [
    "class Point:\n",
    "    def __init__(self, x, y):\n",
    "        self.x = x\n",
    "        self.y = y\n",
    "\n",
    "    def __repr__(self):\n",
    "        return f\"Point({self.x}, {self.y})\"\n",
    "\n",
    "point = Point(3, 4)\n",
    "print(repr(point))   # Output: Point(3, 4)"
   ]
  },
  {
   "cell_type": "markdown",
   "id": "b8c355d3",
   "metadata": {},
   "source": [
    "### 6.4 __len__()\n",
    "\n",
    "The __len__() method returns the length of an object. It is called by the len() built-in function and allows you to define \n",
    "the behavior of getting the length of your custom objects."
   ]
  },
  {
   "cell_type": "code",
   "execution_count": null,
   "id": "1302565b",
   "metadata": {},
   "outputs": [],
   "source": [
    "class MyList:\n",
    "    def __init__(self, items):\n",
    "        self.items = items\n",
    "\n",
    "    def __len__(self):\n",
    "        return len(self.items)\n",
    "\n",
    "my_list = MyList([1, 2, 3, 4, 5])\n",
    "print(len(my_list))   # Output: 5"
   ]
  },
  {
   "cell_type": "markdown",
   "id": "7c3f639d",
   "metadata": {},
   "source": [
    "### 6.5 __getitem__() and __setitem__()\n",
    "\n",
    "The __getitem__() and __setitem__() methods are used for accessing and modifying elements of an object using indexing syntax ([]).\n",
    "They allow you to define custom behavior for getting and setting values."
   ]
  },
  {
   "cell_type": "code",
   "execution_count": null,
   "id": "d10148c6",
   "metadata": {},
   "outputs": [],
   "source": [
    "class MyList:\n",
    "    def __init__(self, items):\n",
    "        self.items = items\n",
    "\n",
    "    def __getitem__(self, index):\n",
    "        return self.items[index]\n",
    "\n",
    "    def __setitem__(self, index, value):\n",
    "        self.items[index] = value\n",
    "\n",
    "my_list = MyList([1, 2, 3, 4, 5])\n",
    "print(my_list[2])     # Output: 3\n",
    "my_list[2] = 10\n",
    "print(my_list[2])     # Output: 10"
   ]
  },
  {
   "cell_type": "markdown",
   "id": "ad08f194",
   "metadata": {},
   "source": [
    "### 6.6 __eq__() and __ne__()\n",
    "\n",
    "The __eq__() and __ne__() methods are used for implementing equality and inequality comparisons between objects. They allow \n",
    "you to define custom comparison logic based on the object's attributes."
   ]
  },
  {
   "cell_type": "code",
   "execution_count": null,
   "id": "8d2c894b",
   "metadata": {},
   "outputs": [],
   "source": [
    "class Point:\n",
    "    def __init__(self, x, y):\n",
    "        self.x = x\n",
    "        self.y = y\n",
    "\n",
    "    def __eq__(self, other):\n",
    "        return self.x == other.x and self.y == other.y\n",
    "\n",
    "    def __ne__(self, other):\n",
    "        return not self.__eq__(other)\n",
    "\n",
    "point1 = Point(3, 4)\n",
    "point2 = Point(3, 4)\n",
    "print(point1 == point2)   # Output: True\n",
    "print(point1 != point2)   # Output: False"
   ]
  },
  {
   "cell_type": "markdown",
   "id": "8135dc26",
   "metadata": {},
   "source": [
    "### 6.7 Summary\n",
    "\n",
    "In this part, you learned about special Python methods, also known as dunder methods, which allow customization of various \n",
    "operations and behaviors in classes. These methods provide hooks into built-in functions and operators, allowing you to define\n",
    "custom behavior for object initialization, string representation, length, indexing, comparisons, and more."
   ]
  }
 ],
 "metadata": {
  "jupytext": {
   "cell_metadata_filter": "-all",
   "main_language": "python",
   "notebook_metadata_filter": "-all"
  }
 },
 "nbformat": 4,
 "nbformat_minor": 5
}
