{
 "cells": [
  {
   "cell_type": "markdown",
   "id": "6a30d460",
   "metadata": {},
   "source": [
    "# Module 6: Object-Oriented Programming\n",
    "\n",
    "## Part 3: Class Attributes and Instance Attributes\n",
    "\n",
    "In Python, classes can have attributes that are shared by all instances of the class (class attributes) and attributes that\n",
    "are unique to each instance (instance attributes). Understanding the difference between class attributes and instance \n",
    "attributes is crucial for effective object-oriented programming. Let's explore these concepts in more detail:\n",
    "\n",
    "### 3.1 Class Attributes\n",
    "\n",
    "Class attributes are defined within the class but outside of any methods. They are shared by all instances of the class. \n",
    "Here's an example:"
   ]
  },
  {
   "cell_type": "code",
   "execution_count": null,
   "id": "55b8abf4",
   "metadata": {},
   "outputs": [],
   "source": [
    "class Circle:\n",
    "    pi = 3.14159\n",
    "\n",
    "    def __init__(self, radius):\n",
    "        self.radius = radius\n",
    "\n",
    "    def calculate_area(self):\n",
    "        return self.pi * self.radius * self.radius\n",
    "\n",
    "circle1 = Circle(5)\n",
    "circle2 = Circle(3)\n",
    "\n",
    "print(circle1.pi)  # Output: 3.14159\n",
    "print(circle2.pi)  # Output: 3.14159"
   ]
  },
  {
   "cell_type": "markdown",
   "id": "799257bf",
   "metadata": {},
   "source": [
    "In this example, the pi attribute is a class attribute. It is defined directly within the Circle class. Both circle1 and circle2\n",
    "instances can access and use the same value of pi.\n",
    "\n",
    "### 3.2 Instance Attributes\n",
    "\n",
    "Instance attributes are unique to each instance of the class. They are defined within the __init__() method and are specific\n",
    "to the object being created. Here's an example:"
   ]
  },
  {
   "cell_type": "code",
   "execution_count": null,
   "id": "9cc3c284",
   "metadata": {},
   "outputs": [],
   "source": [
    "class Rectangle:\n",
    "    def __init__(self, width, height):\n",
    "        self.width = width\n",
    "        self.height = height\n",
    "\n",
    "    def calculate_area(self):\n",
    "        return self.width * self.height\n",
    "\n",
    "rectangle1 = Rectangle(4, 6)\n",
    "rectangle2 = Rectangle(3, 5)\n",
    "\n",
    "print(rectangle1.width)  # Output: 4\n",
    "print(rectangle2.width)  # Output: 3"
   ]
  },
  {
   "cell_type": "markdown",
   "id": "3ee54010",
   "metadata": {},
   "source": [
    "In this example, the width and height attributes are instance attributes. Each instance of the Rectangle class can have different \n",
    "values for these attributes.\n",
    "\n",
    "### 3.3 Accessing Attributes\n",
    "\n",
    "To access class attributes and instance attributes, you use dot notation. For class attributes, you can access them using \n",
    "the class name or any instance of the class. For instance attributes, you access them using the instance name. \n",
    "Here's an example:"
   ]
  },
  {
   "cell_type": "code",
   "execution_count": null,
   "id": "990a488e",
   "metadata": {},
   "outputs": [],
   "source": [
    "class Person:\n",
    "    species = \"Human\"\n",
    "\n",
    "    def __init__(self, name):\n",
    "        self.name = name\n",
    "\n",
    "person1 = Person(\"Alice\")\n",
    "person2 = Person(\"Bob\")\n",
    "\n",
    "print(Person.species)     # Output: Human\n",
    "print(person1.species)    # Output: Human\n",
    "print(person2.species)    # Output: Human\n",
    "print(person1.name)       # Output: Alice\n",
    "print(person2.name)       # Output: Bob"
   ]
  },
  {
   "cell_type": "markdown",
   "id": "c4bd2392",
   "metadata": {},
   "source": [
    "In this example, the species attribute is a class attribute, and the name attribute is an instance attribute. Both can be accessed \n",
    "using the class name or any instance of the class.\n",
    "\n",
    "### 3.4 Summary\n",
    "\n",
    "In this part, you learned about class attributes and instance attributes in Python. Class attributes are shared by all instances\n",
    "of the class, while instance attributes are unique to each instance. Understanding the distinction between these attributes \n",
    "is essential for building flexible and efficient object-oriented programs."
   ]
  }
 ],
 "metadata": {
  "jupytext": {
   "cell_metadata_filter": "-all",
   "main_language": "python",
   "notebook_metadata_filter": "-all"
  }
 },
 "nbformat": 4,
 "nbformat_minor": 5
}
