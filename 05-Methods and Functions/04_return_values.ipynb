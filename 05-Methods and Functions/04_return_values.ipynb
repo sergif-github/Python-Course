{
 "cells": [
  {
   "cell_type": "markdown",
   "id": "ac14e776",
   "metadata": {},
   "source": [
    "# Module 5: Methods and Functions\n",
    "\n",
    "## Part 4: Returning Values from Functions\n",
    "\n",
    "In Python, functions can return values to the caller using the `return` statement. Returning values from functions allows\n",
    "you to perform calculations or operations and pass the result back to the calling code. Let's explore how to return values\n",
    "from functions in Python:\n",
    "\n",
    "### 4.1 Return Statement\n",
    "\n",
    "The `return` statement is used to return a value from a function. When the `return` statement is encountered, the function\n",
    "execution stops, and the control is returned to the caller along with the specified value. Here's an example:"
   ]
  },
  {
   "cell_type": "code",
   "execution_count": null,
   "id": "d8175d03",
   "metadata": {},
   "outputs": [],
   "source": [
    "def add_numbers(a, b):\n",
    "    return a + b\n",
    "\n",
    "result = add_numbers(3, 4)\n",
    "print(result)"
   ]
  },
  {
   "cell_type": "markdown",
   "id": "2d1e2e00",
   "metadata": {},
   "source": [
    "In this example, the add_numbers() function takes two arguments a and b, performs the addition operation, and returns the\n",
    " result using the return statement. The returned value is stored in the variable result, and it is then printed.\n",
    "\n",
    "### 4.2 Multiple Return Values\n",
    "\n",
    "Functions in Python can also return multiple values using tuples. A tuple is an ordered collection of elements enclosed \n",
    "in parentheses. Here's an example:"
   ]
  },
  {
   "cell_type": "code",
   "execution_count": null,
   "id": "9987d480",
   "metadata": {},
   "outputs": [],
   "source": [
    "def calculate_stats(numbers):\n",
    "    count = len(numbers)\n",
    "    total = sum(numbers)\n",
    "    average = total / count\n",
    "    return count, total, average\n",
    "\n",
    "result = calculate_stats([1, 2, 3, 4, 5])\n",
    "print(result)"
   ]
  },
  {
   "cell_type": "markdown",
   "id": "2da0a5df",
   "metadata": {},
   "source": [
    "In this example, the calculate_stats() function takes a list of numbers as an argument, calculates the count, total, and\n",
    " average of the numbers, and returns them as a tuple. The returned tuple is stored in the variable result and printed.\n",
    "\n",
    "### 4.3 None and Empty Return\n",
    "\n",
    "If a function does not specify a return statement or uses the return statement without any value, it returns None.\n",
    "None is a special value in Python that represents the absence of a value. Here's an example:"
   ]
  },
  {
   "cell_type": "code",
   "execution_count": null,
   "id": "11c48464",
   "metadata": {},
   "outputs": [],
   "source": [
    "def say_hello():\n",
    "    print(\"Hello!\")\n",
    "\n",
    "result = say_hello()\n",
    "print(result)"
   ]
  },
  {
   "cell_type": "markdown",
   "id": "e8698778",
   "metadata": {},
   "source": [
    "In this example, the say_hello() function does not have a return statement. When the function is called, it prints \"Hello!\"\n",
    " but does not return any value. The variable result is assigned None, which is then printed.\n",
    "\n",
    "### 4.4 Summary\n",
    "\n",
    "In this part, you learned how to return values from functions in Python. The return statement is used to specify the value\n",
    "to be returned from a function. Functions can return a single value or multiple values using tuples. If a function does \n",
    "not specify a return statement or returns without a value, it returns None. Returning values from functions enables \n",
    "you nto pass data back to the calling code and use the results of calculations or operations."
   ]
  }
 ],
 "metadata": {
  "jupytext": {
   "cell_metadata_filter": "-all",
   "main_language": "python",
   "notebook_metadata_filter": "-all"
  }
 },
 "nbformat": 4,
 "nbformat_minor": 5
}
