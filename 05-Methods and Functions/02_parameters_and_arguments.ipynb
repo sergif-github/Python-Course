{
 "cells": [
  {
   "cell_type": "markdown",
   "id": "e467a65b",
   "metadata": {},
   "source": [
    "# Module 5: Methods and Functions\n",
    "\n",
    "## Part 2: Function Parameters and Arguments\n",
    "\n",
    "In Python, function parameters are placeholders for values that are passed into the function when it is called.\n",
    "They allow you to provide input to the function and make the function more flexible and reusable. Let's explore function\n",
    "parameters and arguments in more detail:\n",
    "\n",
    "### 2.1 Function Parameters\n",
    "\n",
    "Function parameters are defined inside the parentheses of a function's definition. They specify the expected inputs that \n",
    "the function will work with. Parameters act as variables within the function's body, allowing you to perform operations \n",
    "and calculations using these values. Here's an example:"
   ]
  },
  {
   "cell_type": "code",
   "execution_count": null,
   "id": "41ff10de",
   "metadata": {},
   "outputs": [],
   "source": [
    "def greet(name):\n",
    "    print(\"Hello,\", name, \"welcome!\")"
   ]
  },
  {
   "cell_type": "markdown",
   "id": "78ccba12",
   "metadata": {},
   "source": [
    "In this example, the greet() function has a single parameter name. The parameter name acts as a variable that can be used\n",
    "within the function's body.\n",
    "\n",
    "### 2.2 Function Arguments\n",
    "\n",
    "When you call a function, you provide values known as arguments that match the function's parameters. Arguments are the \n",
    "actual values that are passed into the function. Here's how you can call the greet() function and provide an argument for\n",
    "the name parameter:"
   ]
  },
  {
   "cell_type": "code",
   "execution_count": null,
   "id": "4146acab",
   "metadata": {},
   "outputs": [],
   "source": [
    "greet(\"John\")\n",
    "In this example, the string \"John\" is passed as an argument to the greet() function. The argument value is assigned to \n",
    "the name parameter within the function."
   ]
  },
  {
   "cell_type": "markdown",
   "id": "696f37f4",
   "metadata": {},
   "source": [
    "### 2.3 Default Parameters\n",
    "\n",
    "You can also specify default parameter values in a function's definition. Default parameters are used when no argument \n",
    "is provided for that parameter during function call. Here's an example:"
   ]
  },
  {
   "cell_type": "code",
   "execution_count": null,
   "id": "e5608a6c",
   "metadata": {},
   "outputs": [],
   "source": [
    "def greet(name=\"guest\"):\n",
    "    print(\"Hello,\", name, \"welcome!\")"
   ]
  },
  {
   "cell_type": "markdown",
   "id": "652026e9",
   "metadata": {},
   "source": [
    "In this example, the greet() function has a default parameter name set to \"guest\". If no argument is provided when calling\n",
    "the function, it will use the default value. However, if an argument is provided, it will override the default value.\n",
    "\n",
    "### 2.4 Multiple Parameters\n",
    "\n",
    "Functions can have multiple parameters, allowing you to work with multiple inputs. The parameters are separated by commas\n",
    "within the parentheses. Here's an example:"
   ]
  },
  {
   "cell_type": "code",
   "execution_count": null,
   "id": "fb1ffc1f",
   "metadata": {},
   "outputs": [],
   "source": [
    "def add_numbers(a, b):\n",
    "    return a + b"
   ]
  },
  {
   "cell_type": "markdown",
   "id": "5b90b17b",
   "metadata": {},
   "source": [
    "In this example, the add_numbers() function has two parameters, a and b. The function can accept two arguments that will\n",
    "be used to perform the addition operation.\n",
    "\n",
    "### 2.5 Summary\n",
    "\n",
    "In this part, you learned about function parameters and arguments in Python. Parameters are defined in a function's \n",
    "definition and act as placeholders for the values that will be passed into the function as arguments. You can specify default\n",
    "parameter values and have multiple parameters in a function. Understanding parameters and arguments allows you to create\n",
    "functions that can work with different inputs and make your code more flexible."
   ]
  }
 ],
 "metadata": {
  "jupytext": {
   "cell_metadata_filter": "-all",
   "main_language": "python",
   "notebook_metadata_filter": "-all"
  }
 },
 "nbformat": 4,
 "nbformat_minor": 5
}
