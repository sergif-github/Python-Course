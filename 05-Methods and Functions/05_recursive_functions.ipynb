{
 "cells": [
  {
   "cell_type": "markdown",
   "id": "20c4b7eb",
   "metadata": {},
   "source": [
    "# Module 5: Methods and Functions\n",
    "\n",
    "## Part 5: Recursive Functions\n",
    "\n",
    "In Python, a recursive function is a function that calls itself during its execution. This technique allows you to solve\n",
    "complex problems by breaking them down into smaller, more manageable subproblems. Let's explore recursive functions in Python:\n",
    "\n",
    "### 5.1 Recursive Function Structure\n",
    "\n",
    "A recursive function consists of two components: the base case and the recursive case. The base case defines the condition\n",
    "under which the function stops calling itself and returns a result. The recursive case defines the condition where\n",
    "the function calls itself to solve a smaller subproblem. Here's an example:"
   ]
  },
  {
   "cell_type": "code",
   "execution_count": null,
   "id": "c8bdcf8e",
   "metadata": {},
   "outputs": [],
   "source": [
    "def countdown(n):\n",
    "    if n <= 0:\n",
    "        print(\"Blastoff!\")\n",
    "    else:\n",
    "        print(n)\n",
    "        countdown(n - 1)\n",
    "\n",
    "countdown(5)"
   ]
  },
  {
   "cell_type": "markdown",
   "id": "4bbbf65e",
   "metadata": {},
   "source": [
    "In this example, the countdown() function is a recursive function that counts down from a given number n until it reaches \n",
    "'0'. The base case is when n is less than or equal to 0, in which case it prints \"Blastoff!\" and stops calling itself. \n",
    "The recursive case is when n is greater than 0, in which case it prints the current value of n and calls itself with n - 1.\n",
    "\n",
    "### 5.2 Recursive Function Benefits\n",
    "\n",
    "Recursive functions offer several benefits:\n",
    "\n",
    "- Simplicity: Recursive functions allow you to express complex problems in a concise and elegant manner by breaking them down\n",
    " into simpler subproblems.\n",
    "- Readability: Recursive functions often reflect the natural recursive structure of the problem, making the code easier to \n",
    "understand.\n",
    "- Modularity: Recursive functions can be used as building blocks to solve larger problems by calling themselves on smaller \n",
    "instances of the problem.\n",
    "\n",
    "### 5.3 Recursive Function Considerations\n",
    "\n",
    "When using recursive functions, it's important to consider the following:\n",
    "\n",
    "- Base Case: The base case is crucial to prevent infinite recursion. Make sure the base case is defined correctly and ensures\n",
    " that the function will eventually stop calling itself.\n",
    "- Recursive Case: Ensure that the recursive case progresses towards the base case. Each recursive call should be on a smaller\n",
    " instance of the problem to avoid infinite recursion.\n",
    "- Performance: Recursive functions can be less efficient than iterative solutions for certain problems due to the overhead of\n",
    " function calls. Use recursion when it provides a clear and elegant solution rather than focusing solely on performance.\n",
    " \n",
    "### 5.4 Summary\n",
    "\n",
    "In this part, you learned about recursive functions in Python. Recursive functions can call themselves during execution to \n",
    "solve complex problems by breaking them down into smaller subproblems. They consist of a base case that defines when the function stops calling itself, and a recursive case that calls itself on smaller instances of the problem. Recursive functions offer simplicity, readability, and modularity but require careful consideration of the base case, recursive case, and performance."
   ]
  }
 ],
 "metadata": {
  "jupytext": {
   "cell_metadata_filter": "-all",
   "main_language": "python",
   "notebook_metadata_filter": "-all"
  }
 },
 "nbformat": 4,
 "nbformat_minor": 5
}
