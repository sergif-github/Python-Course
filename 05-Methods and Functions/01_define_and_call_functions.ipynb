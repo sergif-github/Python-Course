{
 "cells": [
  {
   "cell_type": "markdown",
   "id": "bbfdf6d0",
   "metadata": {},
   "source": [
    "# Module 5: Methods and Functions\n",
    "\n",
    "## Part 1: Defining and Calling Functions## Module 5: Loops\n",
    "\n",
    "In Python, functions are reusable blocks of code that perform a specific task. They allow you to break down your program\n",
    "into smaller, more manageable pieces, making your code more organized and easier to understand. Let's explore how to define\n",
    "and call functions in Python:\n",
    "\n",
    "### 1.1 Defining a Function\n",
    "\n",
    "To define a function in Python, you use the `def` keyword followed by the function name, parentheses, and a colon. \n",
    "Any code indented under the function definition is part of the function's body. Here's an example of a simple function\n",
    "that greets the user:"
   ]
  },
  {
   "cell_type": "code",
   "execution_count": null,
   "id": "d72cefd7",
   "metadata": {},
   "outputs": [],
   "source": [
    "def greet():\n",
    "    print(\"Hello, welcome!\")"
   ]
  },
  {
   "cell_type": "markdown",
   "id": "ec97ee7c",
   "metadata": {},
   "source": [
    "In this example, the greet() function is defined without any parameters. The function body contains a single statement\n",
    "that prints a greeting message.\n",
    "\n",
    "### 1.2 Calling a Function\n",
    "\n",
    "Once a function is defined, you can call or invoke it to execute its code. To call a function, you simply write its name \n",
    "followed by parentheses. Here's how you can call the greet() function defined earlier:"
   ]
  },
  {
   "cell_type": "code",
   "execution_count": null,
   "id": "a5fefb4d",
   "metadata": {},
   "outputs": [],
   "source": [
    "greet()"
   ]
  },
  {
   "cell_type": "markdown",
   "id": "91b776d5",
   "metadata": {},
   "source": [
    "When you call the greet() function, the code inside the function's body is executed, and the output \"Hello, welcome!\" \n",
    "is displayed.\n",
    "\n",
    "### 1.3 Function Parameters\n",
    "\n",
    "Functions can also accept parameters, which are placeholders for values that are passed into the function when it is called.\n",
    "Parameters allow functions to work with different inputs and make the code more flexible and reusable. Here's an example\n",
    "of a function that takes a parameter:"
   ]
  },
  {
   "cell_type": "code",
   "execution_count": null,
   "id": "9b0a4004",
   "metadata": {},
   "outputs": [],
   "source": [
    "def greet(name):\n",
    "    print(\"Hello,\", name, \"welcome!\")"
   ]
  },
  {
   "cell_type": "markdown",
   "id": "6bd54288",
   "metadata": {},
   "source": [
    "In this example, the greet() function has a single parameter named name. When the function is called, you provide a value\n",
    "for the name parameter, which is then used inside the function to print the personalized greeting message.\n",
    "\n",
    "### 1.4 Return Statement\n",
    "Functions can also return values using the return statement. The return statement allows a function to compute a result\n",
    "and pass it back to the code that called the function. Here's an example:"
   ]
  },
  {
   "cell_type": "code",
   "execution_count": null,
   "id": "61810140",
   "metadata": {},
   "outputs": [],
   "source": [
    "def add_numbers(a, b):\n",
    "    return a + b"
   ]
  },
  {
   "cell_type": "markdown",
   "id": "50baa19e",
   "metadata": {},
   "source": [
    "In this example, the add_numbers() function takes two parameters a and b, and it returns their sum using the return statement.\n",
    "You can store the returned value in a variable or use it in any other part of your program.\n",
    "\n",
    "### 1.5 Summary\n",
    "\n",
    "In this part, you learned how to define and call functions in Python. Functions are reusable blocks of code that allow you\n",
    "to break down your program into smaller, more manageable pieces. You can define functions without parameters or with one\n",
    "or more parameters, and you can use the return statement to pass back a value from a function. Functions help make your\n",
    "code more organized, modular, and easier to understand."
   ]
  }
 ],
 "metadata": {
  "jupytext": {
   "cell_metadata_filter": "-all",
   "main_language": "python",
   "notebook_metadata_filter": "-all"
  }
 },
 "nbformat": 4,
 "nbformat_minor": 5
}
