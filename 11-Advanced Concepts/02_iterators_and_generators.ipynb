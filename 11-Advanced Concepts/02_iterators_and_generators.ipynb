{
 "cells": [
  {
   "cell_type": "markdown",
   "id": "edd970d0",
   "metadata": {},
   "source": [
    "# Module 11: Advanced Concepts\n",
    "\n",
    "## Part 2: Iterators and Generators\n",
    "\n",
    "In Python, iteration is a powerful concept that allows you to iterate over objects using the `for` loop.\n",
    "\n",
    "Iterators and generators are powerful concepts in Python that allow for efficient and memory-friendly handling of large\n",
    "datasets or infinite sequences of values.\n",
    "\n",
    "### 3.1 Iterators\n",
    "\n",
    "The iteration protocol consists of two methods: `__iter__()` and `__next__()`. By implementing these methods, you can make an object\n",
    "iterable and define how it behaves during iteration.\n",
    "\n",
    "An iterator is an object that implements the iterator protocol. It allows you to iterate over a collection of elements or values one at a time.\n",
    "\n",
    "- The `__iter__()` method is responsible for returning an iterator object. It is called when you start iterating over an object. \n",
    "- This method initializes any necessary state and returns an iterator object.\n",
    "\n",
    "- The `__next__()` method is called on the iterator object and is responsible for returning the next value in the iteration. \n",
    "- It should raise the `StopIteration` exception when there are no more values to be returned.\n",
    "\n",
    "By implementing the iteration protocol, you can create custom iterable objects and define their iteration behavior. \n",
    "This allows you to control how the objects are iterated over and what values are returned during each iteration.\n",
    "\n",
    "Understanding the iteration protocols is essential for building advanced iterable objects and working with custom iterators and generators in Python.\n",
    "\n",
    "Here's an example of creating a custom iterator for a list of numbers:"
   ]
  },
  {
   "cell_type": "code",
   "execution_count": null,
   "id": "59de46ec",
   "metadata": {},
   "outputs": [],
   "source": [
    "class NumberIterator:\n",
    "    def __init__(self, numbers):\n",
    "        self.numbers = numbers\n",
    "        self.index = 0\n",
    "\n",
    "    def __iter__(self):\n",
    "        return self\n",
    "\n",
    "    def __next__(self):\n",
    "        if self.index >= len(self.numbers):\n",
    "            raise StopIteration\n",
    "        value = self.numbers[self.index]\n",
    "        self.index += 1\n",
    "        return value\n",
    "\n",
    "numbers = [1, 2, 3, 4, 5]\n",
    "iterator = NumberIterator(numbers)\n",
    "\n",
    "for number in iterator:\n",
    "    print(number)"
   ]
  },
  {
   "cell_type": "markdown",
   "id": "6d08b10b",
   "metadata": {},
   "source": [
    "In this example, we define a NumberIterator class that takes a list of numbers as input. It implements the __iter__() method,\n",
    "which returns the iterator object itself, and the __next__() method, which retrieves the next value from the list. When there \n",
    "are no more values to iterate over, we raise a StopIteration exception. We can then use the NumberIterator object in a for loop to iterate over each number in the list.\n",
    "\n",
    "### 3.2 Generators\n",
    "\n",
    "Generators are a concise and elegant way to create iterators in Python. They are defined using the yield keyword, which allows\n",
    "you to pause and resume the execution of a function, returning a value each time.\n",
    "\n",
    "Here's an example of a generator function that generates a sequence of Fibonacci numbers:"
   ]
  },
  {
   "cell_type": "code",
   "execution_count": null,
   "id": "c6f4699c",
   "metadata": {},
   "outputs": [],
   "source": [
    "def fibonacci_generator():\n",
    "    a, b = 0, 1\n",
    "    while True:\n",
    "        yield a\n",
    "        a, b = b, a + b\n",
    "\n",
    "fibonacci = fibonacci_generator()\n",
    "\n",
    "for _ in range(10):\n",
    "    print(next(fibonacci))"
   ]
  },
  {
   "cell_type": "markdown",
   "id": "16c210fa",
   "metadata": {},
   "source": [
    "In this example, we define a fibonacci_generator function using the yield keyword. It initializes two variables a and b to\n",
    "the starting Fibonacci numbers. The function enters an infinite loop and yields the current Fibonacci number. It then updates \n",
    "the variables to the next Fibonacci numbers. We can use the generator in a for loop by calling the next() function on it, which\n",
    "retrieves the next value from the generator.\n",
    "\n",
    "Generators are memory-efficient because they generate values on-the-fly, only producing the next value when requested. This makes\n",
    "them particularly useful for working with large datasets or infinite sequences.\n",
    "\n",
    "### 3.3 Summary\n",
    "\n",
    "In this section, we explored the concepts of iterators and generators in Python.\n",
    "\n",
    "- Iterators allow you to iterate over a collection of elements or values one at a time. They implement the iterator protocol, \n",
    " which consists of the `__iter__()` and `__next__()` methods. Iterators provide a memory-efficient way of handling large datasets or sequences of values.\n",
    "\n",
    "- Generators are a concise and elegant way to create iterators. They are defined using the `yield` keyword, which allows you to pause\n",
    "and resume the execution of a function, returning a value each time. Generators are particularly useful when dealing with large \n",
    " datasets or infinite sequences, as they generate values on-the-fly.\n",
    "\n",
    "By understanding iterators and generators, you can enhance the efficiency and flexibility of your Python code, enabling you to work\n",
    "with large datasets or create custom sequence generators."
   ]
  }
 ],
 "metadata": {
  "jupytext": {
   "cell_metadata_filter": "-all",
   "main_language": "python",
   "notebook_metadata_filter": "-all"
  }
 },
 "nbformat": 4,
 "nbformat_minor": 5
}
