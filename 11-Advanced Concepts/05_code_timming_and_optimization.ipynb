{
 "cells": [
  {
   "cell_type": "markdown",
   "id": "a35f9256",
   "metadata": {},
   "source": [
    "# Module 11: Advanced Concepts\n",
    "\n",
    "## Part 5: Optimization\n",
    "\n",
    "Efficient code can greatly enhance the speed and responsiveness of our programs, resulting in improved user experience and reduced resource consumption.\n",
    "\n",
    "### 5.1 : Code Timing\n",
    "\n",
    "Measuring the execution time of our code is crucial for identifying bottlenecks and optimizing performance. Python provides several methods\n",
    "to measure execution time, including using the time module or the timeit module.\n",
    "\n",
    "To measure the execution time of a specific block of code, we can use the time module as follows:"
   ]
  },
  {
   "cell_type": "code",
   "execution_count": null,
   "id": "cdba6366",
   "metadata": {},
   "outputs": [],
   "source": [
    "import time\n",
    "\n",
    "start_time = time.time()\n",
    "\n",
    "# Code to be timed\n",
    "end_time = time.time()\n",
    "execution_time = end_time - start_time\n",
    "\n",
    "print(f\"Execution time: {execution_time} seconds\")"
   ]
  },
  {
   "cell_type": "markdown",
   "id": "108c0381",
   "metadata": {},
   "source": [
    "In this example, we record the start time using time.time() before executing our code and then calculate the end time after the code execution. \n",
    "By subtracting the start time from the end time, we obtain the execution time in seconds.\n",
    "\n",
    "Alternatively, we can use the timeit module, which provides a more precise way to measure execution time:"
   ]
  },
  {
   "cell_type": "code",
   "execution_count": null,
   "id": "9a13a4c7",
   "metadata": {},
   "outputs": [],
   "source": [
    "import timeit\n",
    "\n",
    "code_to_time = \"\"\"\n",
    "# Code to be timed\n",
    "\"\"\"\n",
    "\n",
    "execution_time = timeit.timeit(code_to_time, number=1)\n",
    "print(f\"Execution time: {execution_time} seconds\")"
   ]
  },
  {
   "cell_type": "markdown",
   "id": "76d8e413",
   "metadata": {},
   "source": [
    "In this example, we define the code to be timed as a string in the code_to_time variable. The timeit.timeit() function is then used to measure\n",
    "the execution time of the code. The number argument specifies the number of times the code should be executed to obtain an accurate timing result.\n",
    "\n",
    "### 5.2 Profiling Code\n",
    "\n",
    "Profiling is a technique used to analyze the performance of our code in more detail. It helps us identify areas of code that consume the most \n",
    "time and resources, allowing us to focus our optimization efforts on those sections.\n",
    "\n",
    "Python provides the cProfile module, which is a built-in profiler that can be used to profile our code. Here's an example of how to use cProfile:"
   ]
  },
  {
   "cell_type": "code",
   "execution_count": null,
   "id": "f8c54ac9",
   "metadata": {},
   "outputs": [],
   "source": [
    "import cProfile\n",
    "\n",
    "def my_function():\n",
    "    # Code to be profiled\n",
    "\n",
    "cProfile.run(\"my_function()\")"
   ]
  },
  {
   "cell_type": "markdown",
   "id": "780b25cd",
   "metadata": {},
   "source": [
    "In this example, we define a function called my_function() that contains the code we want to profile. We then use cProfile.run() to execute \n",
    "the function and generate the profiling results.\n",
    "\n",
    "The profiling results provide information such as the number of function calls, total time spent in each function, and the time spent in each\n",
    "line of code. This data helps us identify performance bottlenecks and optimize our code accordingly.\n",
    "\n",
    "### 5.3 Code Optimization\n",
    "\n",
    "One of the most effective ways to optimize code is by using efficient algorithms and data structures. By selecting the right algorithm and \n",
    "data structure for a given problem, we can significantly improve the performance of our code.\n",
    "\n",
    "Some common examples of efficient algorithms and data structures include:\n",
    "- Using hash tables (dictionaries) for fast key-value lookups.\n",
    "- Employing binary search for efficient searching in sorted lists or arrays.\n",
    "- Utilizing dynamic programming to avoid redundant computations in recursive problems.\n",
    "- Implementing data structures like heaps or priority queues for efficient element insertion and retrieval.\n",
    "- Understanding algorithmic complexity (Big O notation) is also important in assessing the efficiency of different algorithms and choosing \n",
    "the most appropriate one for our specific use case.\n",
    "\n",
    "Apart from algorithmic improvements, there are various coding techniques we can employ to optimize code efficiency:\n",
    "- Minimize unnecessary computations and avoid redundant calculations.\n",
    "- Utilize built-in functions and libraries instead of reinventing the wheel.\n",
    "- Optimize loops by reducing the number of iterations or utilizing vectorized operations.\n",
    "- Avoid excessive memory usage by optimizing data structures and using generators or iterators when appropriate.\n",
    "- Use efficient string manipulation techniques, such as joining instead of concatenating strings in loops.\n",
    "- Profile and analyze code to identify performance bottlenecks and focus optimization efforts on critical sections.\n",
    "\n",
    "It is important to note that code optimization should be done judiciously. Premature optimization can lead to complex and harder-to-maintain code,\n",
    "so it is recommended to focus on optimizing critical sections that have a significant impact on performance.\n",
    "\n",
    "### 5.4 Summary\n",
    "\n",
    "We explored code timing and optimization techniques in Python. We learned how to measure execution time using the time and timeit modules,\n",
    "and how to profile our code using the cProfile module. We also discussed the importance of using efficient algorithms and data structures, \n",
    "and various coding techniques to optimize code efficiency.\n",
    "\n",
    "By applying these techniques, we can improve the performance of our Python programs, making them faster, more responsive, and more resource-efficient.\n",
    "Remember to measure, analyze, and optimize code systematically to achieve the best results.\n",
    "\n",
    "Keep in mind that optimization should be done when necessary and based on accurate profiling data. Strive for a balance between code readability, \n",
    "maintainability, and performance, and focus optimization efforts on critical sections that have the most significant impact on overall performance."
   ]
  }
 ],
 "metadata": {
  "jupytext": {
   "cell_metadata_filter": "-all",
   "main_language": "python",
   "notebook_metadata_filter": "-all"
  }
 },
 "nbformat": 4,
 "nbformat_minor": 5
}
