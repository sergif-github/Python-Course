{
 "cells": [
  {
   "cell_type": "markdown",
   "id": "766c8f6f",
   "metadata": {},
   "source": [
    "# Module 11: Advanced Concepts\n",
    "\n",
    "## Part 1: Decorators (Function Decorators and Class Decorators)\n",
    "\n",
    "Decorators are a powerful feature in Python that allow you to modify the behavior of functions or classes without directly changing\n",
    "their source code. They provide a way to wrap or modify functions or classes dynamically at runtime.\n",
    "\n",
    "### 1.1 Function Decorators\n",
    "\n",
    "Function decorators are functions that take another function as input and extend or modify its behavior. They are denoted by the `@decorator_name`\n",
    "syntax placed above the function definition.\n",
    "\n",
    "Here's an example of a simple function decorator that logs the execution time of a function:"
   ]
  },
  {
   "cell_type": "code",
   "execution_count": null,
   "id": "63610ae1",
   "metadata": {},
   "outputs": [],
   "source": [
    "import time\n",
    "\n",
    "def timer_decorator(func):\n",
    "    def wrapper(*args, **kwargs):\n",
    "        start_time = time.time()\n",
    "        result = func(*args, **kwargs)\n",
    "        end_time = time.time()\n",
    "        execution_time = end_time - start_time\n",
    "        print(f\"Function {func.__name__} executed in {execution_time} seconds\")\n",
    "        return result\n",
    "    return wrapper\n",
    "\n",
    "@timer_decorator\n",
    "def calculate_sum(a, b):\n",
    "    time.sleep(1)\n",
    "    return a + b\n",
    "\n",
    "print(calculate_sum(5, 10))  # Output: 15"
   ]
  },
  {
   "cell_type": "markdown",
   "id": "07ef4504",
   "metadata": {},
   "source": [
    "In this example, we define a timer_decorator function that takes a function as input and returns a wrapper function. \n",
    "The wrapper function records the start and end time of the function execution, calculates the execution time, and prints it out. \n",
    "We then apply the timer_decorator to the calculate_sum function using the @ syntax, which means that whenever calculate_sum is called, \n",
    "it will be wrapped by the timer_decorator and the execution time will be printed.\n",
    "\n",
    "### 1.2 Class Decorators\n",
    "\n",
    "Similar to function decorators, class decorators modify the behavior of classes. They are denoted by the @decorator_name syntax \n",
    "placed above the class definition.\n",
    "\n",
    "Here's an example of a class decorator that adds a count attribute to a class, which keeps track of the number of instances created:"
   ]
  },
  {
   "cell_type": "code",
   "execution_count": null,
   "id": "f77a2b7a",
   "metadata": {},
   "outputs": [],
   "source": [
    "def count_instances(cls):\n",
    "    class NewClass(cls):\n",
    "        count = 0\n",
    "\n",
    "        def __new__(cls, *args, **kwargs):\n",
    "            instance = super().__new__(cls)\n",
    "            cls.count += 1\n",
    "            return instance\n",
    "\n",
    "    return NewClass\n",
    "\n",
    "@count_instances\n",
    "class MyClass:\n",
    "    pass\n",
    "\n",
    "print(MyClass.count)  # Output: 0\n",
    "my_obj1 = MyClass()\n",
    "print(MyClass.count)  # Output: 1\n",
    "my_obj2 = MyClass()\n",
    "print(MyClass.count)  # Output: 2"
   ]
  },
  {
   "cell_type": "markdown",
   "id": "7ede0732",
   "metadata": {},
   "source": [
    "In this example, we define a count_instances class decorator that returns a new class (NewClass) derived from the input class (cls). \n",
    "The NewClass adds a count attribute and overrides the __new__() method to increment the count whenever a new instance is created. \n",
    "We then apply the count_instances decorator to the MyClass class using the @ syntax. When we create instances of MyClass, \n",
    "the count attribute is incremented accordingly.\n",
    "\n",
    "### 1.3 Summary\n",
    "\n",
    "Decorators are a versatile feature in Python, allowing you to add functionality, modify behavior, or perform preprocessing/postprocessing \n",
    "tasks without modifying the original function or class code. They are widely used in various Python frameworks and libraries to enhance \n",
    "functionality or provide additional features."
   ]
  }
 ],
 "metadata": {
  "jupytext": {
   "cell_metadata_filter": "-all",
   "main_language": "python",
   "notebook_metadata_filter": "-all"
  }
 },
 "nbformat": 4,
 "nbformat_minor": 5
}
