{
 "cells": [
  {
   "attachments": {},
   "cell_type": "markdown",
   "id": "14c54ceb",
   "metadata": {},
   "source": [
    "# Module 10: Additional Python Modules and Libraries\n",
    "\n",
    "## Part 2: Mathematical Operations (math module)\n",
    "\n",
    "Python provides the math module for performing various mathematical operations and functions. This module extends Python's\n",
    "built-in mathematical capabilities and allows you to work with more advanced mathematical operations.\n",
    "\n",
    "### 1.2 Math module\n",
    "\n",
    "To use the math module, you need to import it. \n",
    "\n",
    "Here's an example:"
   ]
  },
  {
   "cell_type": "code",
   "execution_count": 10,
   "id": "89452a4c",
   "metadata": {},
   "outputs": [
    {
     "name": "stdout",
     "output_type": "stream",
     "text": [
      "Square root: 5.0\n",
      "Power: 8.0\n",
      "Ceiling value: 5\n",
      "Floor value: 4\n"
     ]
    }
   ],
   "source": [
    "import math\n",
    "\n",
    "num1 = 10\n",
    "num2 = 5\n",
    "\n",
    "# Perform more advanced mathematical operations\n",
    "square_root = math.sqrt(25)\n",
    "power = math.pow(2, 3)\n",
    "ceil_value = math.ceil(4.7)\n",
    "floor_value = math.floor(4.7)\n",
    "\n",
    "print(\"Square root:\", square_root)\n",
    "print(\"Power:\", power)\n",
    "print(\"Ceiling value:\", ceil_value)\n",
    "print(\"Floor value:\", floor_value)"
   ]
  },
  {
   "attachments": {},
   "cell_type": "markdown",
   "id": "d022d040",
   "metadata": {},
   "source": [
    "In this example, we import the math module and use it to perform various advanced mathematical operations like square root, power, ceiling value (round up to the nearest integer), and floor value (round down to the nearest integer).\n",
    "\n",
    "### Summary \n",
    "\n",
    "The math module provides many more mathematical functions, such as trigonometric functions, logarithmic functions, and exponential functions.\n",
    "You can refer to the official Python documentation for a comprehensive list of functions available in the math module."
   ]
  }
 ],
 "metadata": {
  "jupytext": {
   "cell_metadata_filter": "-all",
   "main_language": "python",
   "notebook_metadata_filter": "-all"
  },
  "kernelspec": {
   "display_name": "Python 3",
   "language": "python",
   "name": "python3"
  },
  "language_info": {
   "codemirror_mode": {
    "name": "ipython",
    "version": 3
   },
   "file_extension": ".py",
   "mimetype": "text/x-python",
   "name": "python",
   "nbconvert_exporter": "python",
   "pygments_lexer": "ipython3",
   "version": "3.8.10"
  }
 },
 "nbformat": 4,
 "nbformat_minor": 5
}
