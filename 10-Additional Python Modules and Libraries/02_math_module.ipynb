{
 "cells": [
  {
   "cell_type": "markdown",
   "id": "14c54ceb",
   "metadata": {},
   "source": [
    "# Module 10: Additional Python Modules and Libraries\n",
    "\n",
    "## Part 2: Mathematical Operations (math module)\n",
    "\n",
    "Python provides the `math` module for performing various mathematical operations and functions. This module extends Python's\n",
    "built-in mathematical capabilities and allows you to work with more advanced mathematical operations.\n",
    "\n",
    "### 1.2 Math module\n",
    "\n",
    "To use the `math` module, you need to import it. Here's an example:"
   ]
  },
  {
   "cell_type": "code",
   "execution_count": null,
   "id": "89452a4c",
   "metadata": {},
   "outputs": [],
   "source": [
    "import math\n",
    "\n",
    "# Perform basic mathematical operations\n",
    "num1 = 10\n",
    "num2 = 5\n",
    "\n",
    "sum_result = math.add(num1, num2)\n",
    "difference_result = math.subtract(num1, num2)\n",
    "product_result = math.multiply(num1, num2)\n",
    "quotient_result = math.divide(num1, num2)\n",
    "\n",
    "print(\"Sum:\", sum_result)\n",
    "print(\"Difference:\", difference_result)\n",
    "print(\"Product:\", product_result)\n",
    "print(\"Quotient:\", quotient_result)\n",
    "\n",
    "# Perform more advanced mathematical operations\n",
    "square_root = math.sqrt(25)\n",
    "power = math.pow(2, 3)\n",
    "absolute_value = math.abs(-10)\n",
    "ceil_value = math.ceil(4.7)\n",
    "floor_value = math.floor(4.7)\n",
    "\n",
    "print(\"Square root:\", square_root)\n",
    "print(\"Power:\", power)\n",
    "print(\"Absolute value:\", absolute_value)\n",
    "print(\"Ceiling value:\", ceil_value)\n",
    "print(\"Floor value:\", floor_value)"
   ]
  },
  {
   "cell_type": "markdown",
   "id": "d022d040",
   "metadata": {},
   "source": [
    "In this example, we import the math module and use it to perform various mathematical operations. Here's what each step does:\n",
    "- We perform basic mathematical operations like addition, subtraction, multiplication, and division using the appropriate functions\n",
    "provided by the math module.\n",
    "- We perform more advanced mathematical operations like square root, power, absolute value, ceiling value (round up to the nearest integer),\n",
    "and floor value (round down to the nearest integer).\n",
    "\n",
    "### Summary \n",
    "\n",
    "The math module provides many more mathematical functions, such as trigonometric functions, logarithmic functions, and exponential functions.\n",
    "You can refer to the official Python documentation for a comprehensive list of functions available in the math module."
   ]
  }
 ],
 "metadata": {
  "jupytext": {
   "cell_metadata_filter": "-all",
   "main_language": "python",
   "notebook_metadata_filter": "-all"
  }
 },
 "nbformat": 4,
 "nbformat_minor": 5
}
