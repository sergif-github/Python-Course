{
 "cells": [
  {
   "attachments": {},
   "cell_type": "markdown",
   "id": "55daa1bd",
   "metadata": {},
   "source": [
    "# Module 10: Additional Python Modules and Libraries\n",
    "\n",
    "## Part 5: Zip Files (zipfile module)\n",
    "\n",
    "The zipfile module in Python provides functionalities for creating, extracting, and manipulating zip files. Zip files are compressed\n",
    "archives that can contain one or more files and directories.\n",
    "\n",
    "### 5.1 Zipfile module\n",
    "\n",
    "To work with zip files in Python, you don't need to install any additional modules as the zipfile module is part of the standard library.\n",
    "\n",
    "Here's an example that demonstrates some basic operations with zip files:"
   ]
  },
  {
   "cell_type": "code",
   "execution_count": 1,
   "id": "1023bfc3",
   "metadata": {},
   "outputs": [
    {
     "ename": "FileNotFoundError",
     "evalue": "[WinError 2] El sistema no puede encontrar el archivo especificado: 'file1.txt'",
     "output_type": "error",
     "traceback": [
      "\u001b[1;31m---------------------------------------------------------------------------\u001b[0m",
      "\u001b[1;31mFileNotFoundError\u001b[0m                         Traceback (most recent call last)",
      "Cell \u001b[1;32mIn[1], line 6\u001b[0m\n\u001b[0;32m      3\u001b[0m \u001b[39m# Create a new zip file\u001b[39;00m\n\u001b[0;32m      4\u001b[0m \u001b[39mwith\u001b[39;00m zipfile\u001b[39m.\u001b[39mZipFile(\u001b[39m\"\u001b[39m\u001b[39marchive.zip\u001b[39m\u001b[39m\"\u001b[39m, \u001b[39m\"\u001b[39m\u001b[39mw\u001b[39m\u001b[39m\"\u001b[39m) \u001b[39mas\u001b[39;00m zip_file:\n\u001b[0;32m      5\u001b[0m     \u001b[39m# Add files to the zip file\u001b[39;00m\n\u001b[1;32m----> 6\u001b[0m     zip_file\u001b[39m.\u001b[39;49mwrite(\u001b[39m\"\u001b[39;49m\u001b[39mfile1.txt\u001b[39;49m\u001b[39m\"\u001b[39;49m)\n\u001b[0;32m      7\u001b[0m     zip_file\u001b[39m.\u001b[39mwrite(\u001b[39m\"\u001b[39m\u001b[39mfile2.txt\u001b[39m\u001b[39m\"\u001b[39m)\n\u001b[0;32m      8\u001b[0m     zip_file\u001b[39m.\u001b[39mwrite(\u001b[39m\"\u001b[39m\u001b[39mdirectory/file3.txt\u001b[39m\u001b[39m\"\u001b[39m)\n",
      "File \u001b[1;32mc:\\Users\\coronis\\AppData\\Local\\Programs\\Python\\Python38\\lib\\zipfile.py:1741\u001b[0m, in \u001b[0;36mZipFile.write\u001b[1;34m(self, filename, arcname, compress_type, compresslevel)\u001b[0m\n\u001b[0;32m   1736\u001b[0m \u001b[39mif\u001b[39;00m \u001b[39mself\u001b[39m\u001b[39m.\u001b[39m_writing:\n\u001b[0;32m   1737\u001b[0m     \u001b[39mraise\u001b[39;00m \u001b[39mValueError\u001b[39;00m(\n\u001b[0;32m   1738\u001b[0m         \u001b[39m\"\u001b[39m\u001b[39mCan\u001b[39m\u001b[39m'\u001b[39m\u001b[39mt write to ZIP archive while an open writing handle exists\u001b[39m\u001b[39m\"\u001b[39m\n\u001b[0;32m   1739\u001b[0m     )\n\u001b[1;32m-> 1741\u001b[0m zinfo \u001b[39m=\u001b[39m ZipInfo\u001b[39m.\u001b[39;49mfrom_file(filename, arcname,\n\u001b[0;32m   1742\u001b[0m                           strict_timestamps\u001b[39m=\u001b[39;49m\u001b[39mself\u001b[39;49m\u001b[39m.\u001b[39;49m_strict_timestamps)\n\u001b[0;32m   1744\u001b[0m \u001b[39mif\u001b[39;00m zinfo\u001b[39m.\u001b[39mis_dir():\n\u001b[0;32m   1745\u001b[0m     zinfo\u001b[39m.\u001b[39mcompress_size \u001b[39m=\u001b[39m \u001b[39m0\u001b[39m\n",
      "File \u001b[1;32mc:\\Users\\coronis\\AppData\\Local\\Programs\\Python\\Python38\\lib\\zipfile.py:523\u001b[0m, in \u001b[0;36mZipInfo.from_file\u001b[1;34m(cls, filename, arcname, strict_timestamps)\u001b[0m\n\u001b[0;32m    521\u001b[0m \u001b[39mif\u001b[39;00m \u001b[39misinstance\u001b[39m(filename, os\u001b[39m.\u001b[39mPathLike):\n\u001b[0;32m    522\u001b[0m     filename \u001b[39m=\u001b[39m os\u001b[39m.\u001b[39mfspath(filename)\n\u001b[1;32m--> 523\u001b[0m st \u001b[39m=\u001b[39m os\u001b[39m.\u001b[39;49mstat(filename)\n\u001b[0;32m    524\u001b[0m isdir \u001b[39m=\u001b[39m stat\u001b[39m.\u001b[39mS_ISDIR(st\u001b[39m.\u001b[39mst_mode)\n\u001b[0;32m    525\u001b[0m mtime \u001b[39m=\u001b[39m time\u001b[39m.\u001b[39mlocaltime(st\u001b[39m.\u001b[39mst_mtime)\n",
      "\u001b[1;31mFileNotFoundError\u001b[0m: [WinError 2] El sistema no puede encontrar el archivo especificado: 'file1.txt'"
     ]
    }
   ],
   "source": [
    "import zipfile\n",
    "\n",
    "# Create a new zip file\n",
    "with zipfile.ZipFile(\"archive.zip\", \"w\") as zip_file:\n",
    "    # Add files to the zip file\n",
    "    zip_file.write(\"file1.txt\")\n",
    "\n",
    "# Extract files from a zip file\n",
    "with zipfile.ZipFile(\"archive.zip\", \"r\") as zip_file:\n",
    "    zip_file.extractall(\"extracted_files\")\n",
    "\n",
    "# List files in a zip file\n",
    "with zipfile.ZipFile(\"archive.zip\", \"r\") as zip_file:\n",
    "    file_list = zip_file.namelist()\n",
    "    for file_name in file_list:\n",
    "        print(file_name)\n",
    "\n",
    "# Open and read a specific file from a zip file\n",
    "with zipfile.ZipFile(\"archive.zip\", \"r\") as zip_file:\n",
    "    with zip_file.open(\"file1.txt\") as file:\n",
    "        content = file.read()\n",
    "        print(content)"
   ]
  },
  {
   "attachments": {},
   "cell_type": "markdown",
   "id": "d90483a5",
   "metadata": {},
   "source": [
    "In this example, we import the zipfile module and use it to perform various operations on a zip file. Here's what each step does:\n",
    "- We create a new zip file using the ZipFile constructor with mode \"w\" (write).\n",
    "- We add files to the zip file using the write() method, specifying the file or directory to be added.\n",
    "- We extract files from the zip file using the extractall() method, specifying the target directory where the files should be extracted.\n",
    "- We list the files in the zip file using the namelist() method, which returns a list of file names.\n",
    "- We open and read a specific file from the zip file using the open() method, specifying the file name. We can then read the content\n",
    "of the file using the read() method.\n",
    "\n",
    "## 5.2 Summary\n",
    "\n",
    "The zipfile module provides additional functionalities for working with zip files, such as deleting files from a zip, adding files\n",
    "with different compression levels, and more. You can refer to the official Python documentation for detailed information on the zipfile module and its capabilities."
   ]
  }
 ],
 "metadata": {
  "jupytext": {
   "cell_metadata_filter": "-all",
   "main_language": "python",
   "notebook_metadata_filter": "-all"
  },
  "kernelspec": {
   "display_name": "Python 3",
   "language": "python",
   "name": "python3"
  },
  "language_info": {
   "codemirror_mode": {
    "name": "ipython",
    "version": 3
   },
   "file_extension": ".py",
   "mimetype": "text/x-python",
   "name": "python",
   "nbconvert_exporter": "python",
   "pygments_lexer": "ipython3",
   "version": "3.8.10"
  }
 },
 "nbformat": 4,
 "nbformat_minor": 5
}
