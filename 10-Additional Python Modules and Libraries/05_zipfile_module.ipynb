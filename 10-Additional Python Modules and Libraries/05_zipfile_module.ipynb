{
 "cells": [
  {
   "cell_type": "markdown",
   "id": "55daa1bd",
   "metadata": {},
   "source": [
    "# Module 10: Additional Python Modules and Libraries\n",
    "\n",
    "## Part 5: Zip Files (zipfile module)\n",
    "\n",
    "The `zipfile` module in Python provides functionalities for creating, extracting, and manipulating zip files. Zip files are compressed\n",
    "archives that can contain one or more files and directories.\n",
    "\n",
    "### 5.1 Zipfile module\n",
    "\n",
    "To work with zip files in Python, you don't need to install any additional modules as the `zipfile` module is part of the standard library.\n",
    "\n",
    "Here's an example that demonstrates some basic operations with zip files:"
   ]
  },
  {
   "cell_type": "code",
   "execution_count": null,
   "id": "1023bfc3",
   "metadata": {},
   "outputs": [],
   "source": [
    "import zipfile\n",
    "\n",
    "# Create a new zip file\n",
    "with zipfile.ZipFile(\"archive.zip\", \"w\") as zip_file:\n",
    "    # Add files to the zip file\n",
    "    zip_file.write(\"file1.txt\")\n",
    "    zip_file.write(\"file2.txt\")\n",
    "    zip_file.write(\"directory/file3.txt\")\n",
    "\n",
    "# Extract files from a zip file\n",
    "with zipfile.ZipFile(\"archive.zip\", \"r\") as zip_file:\n",
    "    zip_file.extractall(\"extracted_files\")\n",
    "\n",
    "# List files in a zip file\n",
    "with zipfile.ZipFile(\"archive.zip\", \"r\") as zip_file:\n",
    "    file_list = zip_file.namelist()\n",
    "    for file_name in file_list:\n",
    "        print(file_name)\n",
    "\n",
    "# Open and read a specific file from a zip file\n",
    "with zipfile.ZipFile(\"archive.zip\", \"r\") as zip_file:\n",
    "    with zip_file.open(\"file1.txt\") as file:\n",
    "        content = file.read()\n",
    "        print(content)"
   ]
  },
  {
   "cell_type": "markdown",
   "id": "d90483a5",
   "metadata": {},
   "source": [
    "In this example, we import the zipfile module and use it to perform various operations on a zip file. Here's what each step does:\n",
    "- We create a new zip file using the ZipFile constructor with mode \"w\" (write).\n",
    "- We add files to the zip file using the write() method, specifying the file or directory to be added.\n",
    "- We extract files from the zip file using the extractall() method, specifying the target directory where the files should be extracted.\n",
    "- We list the files in the zip file using the namelist() method, which returns a list of file names.\n",
    "- We open and read a specific file from the zip file using the open() method, specifying the file name. We can then read the content\n",
    "of the file using the read() method.\n",
    "\n",
    "## 5.2 Summary\n",
    "\n",
    "The zipfile module provides additional functionalities for working with zip files, such as deleting files from a zip, adding files\n",
    "with different compression levels, and more. You can refer to the official Python documentation for detailed information on the zipfile module and its capabilities."
   ]
  }
 ],
 "metadata": {
  "jupytext": {
   "cell_metadata_filter": "-all",
   "main_language": "python",
   "notebook_metadata_filter": "-all"
  }
 },
 "nbformat": 4,
 "nbformat_minor": 5
}
