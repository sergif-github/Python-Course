{
 "cells": [
  {
   "attachments": {},
   "cell_type": "markdown",
   "id": "730b351b",
   "metadata": {},
   "source": [
    "# Module 10: Additional Python Modules and Libraries\n",
    "\n",
    "## Part 4: Working with Images (Pillow module)\n",
    "\n",
    "The Pillow module is a powerful library for working with images in Python. It provides a wide range of image processing capabilities,\n",
    "such as opening, manipulating, and saving images in various formats.\n",
    "\n",
    "### 4.1 Pillow module\n",
    "\n",
    "To use the Pillow module, you need to install it first. You can install it using pip with the following command:\n",
    "\n",
    "```pip install pillow```\n",
    "\n",
    "Once Pillow is installed, you can import it and start working with images. \n",
    "\n",
    "Here's an example that demonstrates some basic image operations:"
   ]
  },
  {
   "cell_type": "code",
   "execution_count": 1,
   "id": "bb25931e",
   "metadata": {},
   "outputs": [
    {
     "name": "stdout",
     "output_type": "stream",
     "text": [
      "Image Format: JPEG\n",
      "Image Size: (1601, 664)\n",
      "Image Mode: RGB\n"
     ]
    }
   ],
   "source": [
    "from PIL import Image\n",
    "\n",
    "# Open an image file\n",
    "image = Image.open(\"image.jpg\")\n",
    "\n",
    "# Display basic information about the image\n",
    "print(\"Image Format:\", image.format)\n",
    "print(\"Image Size:\", image.size)\n",
    "print(\"Image Mode:\", image.mode)\n",
    "\n",
    "# Show the image\n",
    "image.show()\n",
    "\n",
    "# Resize the image\n",
    "resized_image = image.resize((800, 600))\n",
    "resized_image.show()\n",
    "\n",
    "# Convert the image to grayscale\n",
    "grayscale_image = image.convert(\"L\")\n",
    "grayscale_image.show()\n",
    "\n",
    "# Rotate the image by 90 degrees\n",
    "rotated_image = image.rotate(90)\n",
    "rotated_image.show()\n",
    "\n",
    "# Save the modified image\n",
    "resized_image.save(\"resized_image.jpg\")\n",
    "grayscale_image.save(\"grayscale_image.jpg\")\n",
    "rotated_image.save(\"rotated_image.jpg\")"
   ]
  },
  {
   "attachments": {},
   "cell_type": "markdown",
   "id": "e57079fc",
   "metadata": {},
   "source": [
    "In this example, we import the Image module from the PIL package and use it to perform various operations on an image file. \n",
    "\n",
    "Here's what each step does:\n",
    "- We open an image file using the open() function and store it in the image variable.\n",
    "- We display basic information about the image, such as its format, size, and mode.\n",
    "- We show the image using the show() method, which opens a viewer to display the image.\n",
    "- We resize the image using the resize() method, which takes the desired width and height as parameters.\n",
    "- We convert the image to grayscale using the convert() method and the \"L\" mode.\n",
    "- We rotate the image by 90 degrees using the rotate() method.\n",
    "- We save the modified images using the save() method, specifying the file name and desired format.\n",
    "\n",
    "### 4.2 Summary \n",
    " \n",
    "The Pillow module provides a rich set of functions and methods for advanced image manipulation, including cropping, filtering, blending, and more.\n",
    "You can refer to the official Pillow documentation for a comprehensive list of capabilities and usage examples."
   ]
  }
 ],
 "metadata": {
  "jupytext": {
   "cell_metadata_filter": "-all",
   "main_language": "python",
   "notebook_metadata_filter": "-all"
  },
  "kernelspec": {
   "display_name": "Python 3",
   "language": "python",
   "name": "python3"
  },
  "language_info": {
   "codemirror_mode": {
    "name": "ipython",
    "version": 3
   },
   "file_extension": ".py",
   "mimetype": "text/x-python",
   "name": "python",
   "nbconvert_exporter": "python",
   "pygments_lexer": "ipython3",
   "version": "3.8.10"
  }
 },
 "nbformat": 4,
 "nbformat_minor": 5
}
