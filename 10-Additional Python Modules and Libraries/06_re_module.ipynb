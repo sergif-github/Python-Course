{
 "cells": [
  {
   "attachments": {},
   "cell_type": "markdown",
   "id": "4aa85836",
   "metadata": {},
   "source": [
    "# Module 10: Advanced Concepts\n",
    "\n",
    "## Part 6: Regular Expressions (re module)\n",
    "\n",
    "Regular expressions (regex) are powerful tools for pattern matching and text manipulation. \n",
    "The re module in Python provides functions and methods for working with regular expressions.\n",
    "\n",
    "### 6.1 Creating a Regular Expression Pattern\n",
    "\n",
    "To use regular expressions in Python, you start by creating a regular expression pattern using special syntax. \n",
    "The pattern defines a sequence of characters that need to be matched or searched for within a larger string.\n",
    "\n",
    "Here's an example:\n",
    "\n",
    "```python\n",
    "import re\n",
    "pattern = r\"ab+c\"\n",
    "```\n",
    "\n",
    "In this example, the pattern variable is assigned the value \"ab+c\". This is a regular expression pattern that specifies a sequence\n",
    "of characters to search for. In this case, the pattern \"ab+c\" represents the following:\n",
    "\n",
    "- The character 'a' followed by the character 'b'\n",
    "- The character 'b' must occur one or more times (the '+' symbol)\n",
    "- Any character can appear after the sequence 'ab'\n",
    "\n",
    "This pattern would match strings such as \"abc\", \"abbc\", \"abbbc\", and so on.\n",
    "\n",
    "### 6.2 Matching Patterns\n",
    "\n",
    "The re module provides several functions for matching patterns within strings. The most commonly used functions are re.match(), \n",
    "re.search(), and re.findall(). \n",
    "\n",
    "Here's how they work:\n",
    "- re.match(pattern, string)\n",
    "\n",
    "  Attempts to match the pattern at the beginning of the string. Returns a match object if successful, or None otherwise.\n",
    "- re.search(pattern, string)\n",
    "\n",
    "    Searches the string for a match to the pattern. Returns a match object if found, or None otherwise.\n",
    "- re.findall(pattern, string)\n",
    "\n",
    "  Returns all non-overlapping matches of the pattern in the string as a list of strings.\n",
    "\n",
    "Here's an example that demonstrates these functions:"
   ]
  },
  {
   "cell_type": "code",
   "execution_count": 2,
   "id": "e7a5f8b3",
   "metadata": {},
   "outputs": [
    {
     "name": "stdout",
     "output_type": "stream",
     "text": [
      "Match found: abc\n",
      "Match found: abc\n",
      "Matches found: ['abc']\n"
     ]
    }
   ],
   "source": [
    "import re\n",
    "\n",
    "pattern = r\"abc\"\n",
    "string = \"abcdefg\"\n",
    "\n",
    "match = re.match(pattern, string)\n",
    "if match:\n",
    "    print(\"Match found:\", match.group())\n",
    "else:\n",
    "    print(\"No match\")\n",
    "\n",
    "match = re.search(pattern, string)\n",
    "if match:\n",
    "    print(\"Match found:\", match.group())\n",
    "else:\n",
    "    print(\"No match\")\n",
    "\n",
    "matches = re.findall(pattern, string)\n",
    "if matches:\n",
    "    print(\"Matches found:\", matches)\n",
    "else:\n",
    "    print(\"No matches\")"
   ]
  },
  {
   "attachments": {},
   "cell_type": "markdown",
   "id": "7c862a57",
   "metadata": {},
   "source": [
    "In this example, the pattern abc is matched against the string \"abcdefg\".\n",
    "\n",
    "The re.match() function fails to find a match because the pattern is not at the beginning of the string. \n",
    "\n",
    "The re.search() function successfully finds a match.\n",
    "\n",
    "The re.findall() function returns a list of all occurrences of the pattern in the string.\n",
    "\n",
    "### 6.3 Using Regular Expression Flags\n",
    "\n",
    "Regular expressions in Python support optional flags that modify the behavior of the pattern matching. Flags are specified as an additional\n",
    "argument to the re functions. \n",
    "\n",
    "Some commonly used flags include:\n",
    "- re.IGNORECASE (or re.I)\n",
    "\n",
    "    Ignores case when matching.\n",
    "- re.MULTILINE (or re.M)\n",
    "\n",
    "    Allows matching across multiple lines.\n",
    "- re.DOTALL (or re.S)\n",
    "\n",
    "  Allows the dot . character to match any character, including newline characters.\n",
    "\n",
    "Here's an example that demonstrates the use of flags:"
   ]
  },
  {
   "cell_type": "code",
   "execution_count": 3,
   "id": "ae64b74e",
   "metadata": {},
   "outputs": [
    {
     "name": "stdout",
     "output_type": "stream",
     "text": [
      "Match found: ABC\n"
     ]
    }
   ],
   "source": [
    "import re\n",
    "\n",
    "pattern = r\"abc\"\n",
    "string = \"ABCDEF\\nabcdefg\"\n",
    "\n",
    "match = re.search(pattern, string, re.IGNORECASE)\n",
    "if match:\n",
    "    print(\"Match found:\", match.group())\n",
    "else:\n",
    "    print(\"No match\")"
   ]
  },
  {
   "attachments": {},
   "cell_type": "markdown",
   "id": "356ce9fd",
   "metadata": {},
   "source": [
    "In this example, the re.IGNORECASE flag is used to perform a case-insensitive search. As a result, the pattern abc is successfully\n",
    "matched against the uppercase and lowercase occurrences in the string.\n",
    "\n",
    "### 6.4 Summary\n",
    "\n",
    "Regular expressions provide a flexible and powerful way to search, match, and manipulate text based on specific patterns. \n",
    "They are widely used in various applications, including text processing, data validation, and web scraping."
   ]
  }
 ],
 "metadata": {
  "jupytext": {
   "cell_metadata_filter": "-all",
   "main_language": "python",
   "notebook_metadata_filter": "-all"
  },
  "kernelspec": {
   "display_name": "Python 3",
   "language": "python",
   "name": "python3"
  },
  "language_info": {
   "codemirror_mode": {
    "name": "ipython",
    "version": 3
   },
   "file_extension": ".py",
   "mimetype": "text/x-python",
   "name": "python",
   "nbconvert_exporter": "python",
   "pygments_lexer": "ipython3",
   "version": "3.8.10"
  }
 },
 "nbformat": 4,
 "nbformat_minor": 5
}
