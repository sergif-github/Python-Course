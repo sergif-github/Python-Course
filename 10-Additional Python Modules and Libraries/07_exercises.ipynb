{
 "cells": [
  {
   "attachments": {},
   "cell_type": "markdown",
   "metadata": {},
   "source": [
    "# Module 10: Additional Python Modulesand Libraries\n",
    "\n",
    "## Part 7: Exercises\n",
    "\n",
    "### Exercise 1\n",
    "Generate a random number, calculate its square root using the math module, and display the execution time."
   ]
  },
  {
   "cell_type": "code",
   "execution_count": 3,
   "metadata": {},
   "outputs": [
    {
     "name": "stdout",
     "output_type": "stream",
     "text": [
      "Random number: 49\n",
      "Square root: 7.0\n",
      "Execution time: 0.0 milliseconds\n"
     ]
    }
   ],
   "source": []
  },
  {
   "attachments": {},
   "cell_type": "markdown",
   "metadata": {},
   "source": [
    "### Exercise 2\n",
    "Open an image and create a zipfile containing the image converted to grayscale."
   ]
  },
  {
   "cell_type": "code",
   "execution_count": 4,
   "metadata": {},
   "outputs": [
    {
     "name": "stdout",
     "output_type": "stream",
     "text": [
      "The image has been converted to grayscale, saved, and added to the zip file: images.zip\n"
     ]
    }
   ],
   "source": []
  },
  {
   "attachments": {},
   "cell_type": "markdown",
   "metadata": {},
   "source": [
    "### Exercise 3\n",
    "Create a patern to list all files containing \"_\" characters."
   ]
  },
  {
   "cell_type": "code",
   "execution_count": 16,
   "metadata": {},
   "outputs": [
    {
     "name": "stdout",
     "output_type": "stream",
     "text": [
      "01_datetime_module.ipynb\n",
      "02_math_module.ipynb\n",
      "03_random_module.ipynb\n",
      "04_pillow_module.ipynb\n",
      "05_zipfile_module.ipynb\n",
      "06_re_module.ipynb\n",
      "07_exercises.ipynb\n",
      "08_solutions.ipynb\n"
     ]
    }
   ],
   "source": []
  }
 ],
 "metadata": {
  "kernelspec": {
   "display_name": "Python 3",
   "language": "python",
   "name": "python3"
  },
  "language_info": {
   "codemirror_mode": {
    "name": "ipython",
    "version": 3
   },
   "file_extension": ".py",
   "mimetype": "text/x-python",
   "name": "python",
   "nbconvert_exporter": "python",
   "pygments_lexer": "ipython3",
   "version": "3.8.10"
  },
  "orig_nbformat": 4
 },
 "nbformat": 4,
 "nbformat_minor": 2
}
