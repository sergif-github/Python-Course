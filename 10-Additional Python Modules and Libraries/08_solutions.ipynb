{
 "cells": [
  {
   "attachments": {},
   "cell_type": "markdown",
   "metadata": {},
   "source": [
    "# Module 10: Additional Python Modulesand Libraries\n",
    "\n",
    "## Part 8: Solutions\n",
    "\n",
    "### Exercise 1\n",
    "Generate a random number, calculate its square root using the math module, and display the execution time."
   ]
  },
  {
   "cell_type": "code",
   "execution_count": 3,
   "metadata": {},
   "outputs": [
    {
     "name": "stdout",
     "output_type": "stream",
     "text": [
      "Random number: 49\n",
      "Square root: 7.0\n",
      "Execution time: 0.0 milliseconds\n"
     ]
    }
   ],
   "source": [
    "import math\n",
    "import random\n",
    "from datetime import datetime\n",
    "\n",
    "# Start time\n",
    "start_time = datetime.now()\n",
    "\n",
    "# Generate a random number between 1 and 100\n",
    "random_number = random.randint(1, 100)\n",
    "print(\"Random number:\", random_number)\n",
    "\n",
    "# Calculate the square root of the random number using the math module\n",
    "square_root = math.sqrt(random_number)\n",
    "print(\"Square root:\", square_root)\n",
    "\n",
    "# End time\n",
    "end_time = datetime.now()\n",
    "\n",
    "# Compute the execution time\n",
    "execution_time = end_time - start_time\n",
    "\n",
    "# Extract milliseconds from the execution time\n",
    "milliseconds = execution_time.total_seconds() * 1000\n",
    "\n",
    "print(\"Execution time:\", milliseconds, \"milliseconds\")"
   ]
  },
  {
   "attachments": {},
   "cell_type": "markdown",
   "metadata": {},
   "source": [
    "### Exercise 2\n",
    "Open an image and create a zipfile containing the image converted to grayscale."
   ]
  },
  {
   "cell_type": "code",
   "execution_count": 4,
   "metadata": {},
   "outputs": [
    {
     "name": "stdout",
     "output_type": "stream",
     "text": [
      "The image has been converted to grayscale, saved, and added to the zip file: images.zip\n"
     ]
    }
   ],
   "source": [
    "import os\n",
    "from PIL import Image\n",
    "import zipfile\n",
    "\n",
    "# Open the image file\n",
    "image_path = \"image.jpg\"\n",
    "image = Image.open(image_path)\n",
    "\n",
    "# Convert the image to grayscale\n",
    "grayscale_image = image.convert(\"L\")\n",
    "\n",
    "# Save the grayscale image\n",
    "grayscale_image_path = \"grayscale_image.jpg\"\n",
    "grayscale_image.save(grayscale_image_path)\n",
    "\n",
    "# Create a zip file\n",
    "zip_filename = \"images.zip\"\n",
    "with zipfile.ZipFile(zip_filename, \"w\") as zip_file:\n",
    "    # Add the grayscale image to the zip file\n",
    "    zip_file.write(grayscale_image_path)\n",
    "\n",
    "# Remove the grayscale image file\n",
    "os.remove(grayscale_image_path)\n",
    "\n",
    "# Close the image\n",
    "image.close()"
   ]
  },
  {
   "attachments": {},
   "cell_type": "markdown",
   "metadata": {},
   "source": [
    "### Exercise 3\n",
    "Create a patern to list all files containing \"_\" characters."
   ]
  },
  {
   "cell_type": "code",
   "execution_count": 16,
   "metadata": {},
   "outputs": [
    {
     "name": "stdout",
     "output_type": "stream",
     "text": [
      "01_datetime_module.ipynb\n",
      "02_math_module.ipynb\n",
      "03_random_module.ipynb\n",
      "04_pillow_module.ipynb\n",
      "05_zipfile_module.ipynb\n",
      "06_re_module.ipynb\n",
      "07_exercises.ipynb\n",
      "08_solutions.ipynb\n"
     ]
    }
   ],
   "source": [
    "import os\n",
    "import re\n",
    "\n",
    "directory = \"./\"\n",
    "\n",
    "# Compile the regular expression pattern\n",
    "pattern = re.compile(r\".*_.*\")\n",
    "\n",
    "# Iterate over the files in the directory\n",
    "for filename in os.listdir(directory):\n",
    "    filepath = os.path.join(directory, filename)\n",
    "    \n",
    "    # Check if the file is a regular file and matches the pattern\n",
    "    if os.path.isfile(filepath) and pattern.match(filename):\n",
    "        print(filename)"
   ]
  }
 ],
 "metadata": {
  "kernelspec": {
   "display_name": "Python 3",
   "language": "python",
   "name": "python3"
  },
  "language_info": {
   "codemirror_mode": {
    "name": "ipython",
    "version": 3
   },
   "file_extension": ".py",
   "mimetype": "text/x-python",
   "name": "python",
   "nbconvert_exporter": "python",
   "pygments_lexer": "ipython3",
   "version": "3.8.10"
  },
  "orig_nbformat": 4
 },
 "nbformat": 4,
 "nbformat_minor": 2
}
