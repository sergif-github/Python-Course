{
 "cells": [
  {
   "cell_type": "markdown",
   "id": "10b4c796",
   "metadata": {},
   "source": [
    "# Module 10: Additional Python Modules and Libraries\n",
    "\n",
    "## Part 1: Dates and Times Manipulation (datetime module)\n",
    "\n",
    "Working with dates and times is a common task in many Python applications. The `datetime` module provides classes and functions\n",
    "for manipulating dates, times, and timestamps in Python.\n",
    "\n",
    "### 1.1 Datetime module\n",
    "\n",
    "To work with dates and times, you need to import the `datetime` module. Here's an example:"
   ]
  },
  {
   "cell_type": "code",
   "execution_count": null,
   "id": "ac8c6ce0",
   "metadata": {},
   "outputs": [],
   "source": [
    "import datetime\n",
    "\n",
    "# Get the current date and time\n",
    "current_datetime = datetime.datetime.now()\n",
    "print(\"Current datetime:\", current_datetime)\n",
    "\n",
    "# Create a specific date\n",
    "specific_date = datetime.datetime(2023, 6, 15)\n",
    "print(\"Specific date:\", specific_date)\n",
    "\n",
    "# Extract components from a datetime object\n",
    "year = specific_date.year\n",
    "month = specific_date.month\n",
    "day = specific_date.day\n",
    "hour = specific_date.hour\n",
    "minute = specific_date.minute\n",
    "second = specific_date.second\n",
    "\n",
    "print(\"Year:\", year)\n",
    "print(\"Month:\", month)\n",
    "print(\"Day:\", day)\n",
    "print(\"Hour:\", hour)\n",
    "print(\"Minute:\", minute)\n",
    "print(\"Second:\", second)\n",
    "\n",
    "# Perform arithmetic operations with datetime objects\n",
    "tomorrow = current_datetime + datetime.timedelta(days=1)\n",
    "print(\"Tomorrow:\", tomorrow)\n",
    "\n",
    "# Format datetime as a string\n",
    "formatted_date = specific_date.strftime(\"%Y-%m-%d %H:%M:%S\")\n",
    "print(\"Formatted date:\", formatted_date)"
   ]
  },
  {
   "cell_type": "markdown",
   "id": "8c9f5eea",
   "metadata": {},
   "source": [
    "In this example, we import the datetime module and use it to perform various operations. Here's what each step does:\n",
    "- We use the datetime.now() function to get the current date and time.\n",
    "- We create a specific date by calling datetime.datetime() with the year, month, and day as arguments.\n",
    "- We extract the individual components of a datetime object using attributes like year, month, day, hour, minute, and second.\n",
    "- We perform arithmetic operations with datetime objects using the timedelta function, which allows us to add or subtract time intervals.\n",
    "- We format a datetime object as a string using the strftime() method and a formatting string.\n",
    "\n",
    "### 1.2 Summary\n",
    "\n",
    "The datetime module provides many more functionalities for working with dates and times, including comparing dates, parsing \n",
    "strings into datetime objects, and working with time zones. You can refer to the official Python documentation for more information\n",
    "on the datetime module."
   ]
  }
 ],
 "metadata": {
  "jupytext": {
   "cell_metadata_filter": "-all",
   "main_language": "python",
   "notebook_metadata_filter": "-all"
  }
 },
 "nbformat": 4,
 "nbformat_minor": 5
}
