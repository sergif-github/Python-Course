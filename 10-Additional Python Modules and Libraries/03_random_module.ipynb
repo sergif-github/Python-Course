{
 "cells": [
  {
   "cell_type": "markdown",
   "id": "73350fc4",
   "metadata": {},
   "source": [
    "# Module 10: Additional Python Modules and Libraries\n",
    "\n",
    "## Part 3: Generating Random Numbers (random module)\n",
    "\n",
    "Python provides the `random` module, which allows you to generate random numbers and perform various randomization operations. \n",
    "This module is useful in applications that require randomization, such as games, simulations, and statistical analysis.\n",
    "\n",
    "### 3.1 Random module\n",
    "\n",
    "To use the `random` module, you need to import it. Here's an example:"
   ]
  },
  {
   "cell_type": "code",
   "execution_count": null,
   "id": "db82b195",
   "metadata": {},
   "outputs": [],
   "source": [
    "import random\n",
    "\n",
    "# Generate a random integer within a specific range\n",
    "random_integer = random.randint(1, 10)\n",
    "print(\"Random Integer:\", random_integer)\n",
    "\n",
    "# Generate a random floating-point number between 0 and 1\n",
    "random_float = random.random()\n",
    "print(\"Random Float:\", random_float)\n",
    "\n",
    "# Generate a random floating-point number within a specific range\n",
    "random_range = random.uniform(0.5, 2.5)\n",
    "print(\"Random Range:\", random_range)\n",
    "\n",
    "# Select a random element from a sequence\n",
    "fruits = [\"apple\", \"banana\", \"orange\", \"mango\"]\n",
    "random_fruit = random.choice(fruits)\n",
    "print(\"Random Fruit:\", random_fruit)\n",
    "\n",
    "# Shuffle the elements of a sequence randomly\n",
    "random.shuffle(fruits)\n",
    "print(\"Shuffled Fruits:\", fruits)"
   ]
  },
  {
   "cell_type": "markdown",
   "id": "dc787b41",
   "metadata": {},
   "source": [
    "In this example, we import the random module and use it to perform various randomization operations. Here's what each step does:\n",
    "- We generate a random integer using the randint() function, which takes a lower bound and an upper bound and returns a random integer within that range.\n",
    "- We generate a random floating-point number between 0 and 1 using the random() function.\n",
    "- We generate a random floating-point number within a specific range using the uniform() function, which takes a lower bound \n",
    "and an upper bound and returns a random float within that range.\n",
    "- We select a random element from a sequence using the choice() function, which takes a sequence and returns a random element from it.\n",
    "- We shuffle the elements of a sequence randomly using the shuffle() function, which takes a sequence and shuffles its elements randomly.\n",
    "\n",
    "### 3.2 Summary\n",
    "\n",
    "The random module provides many more functions for generating random numbers and performing randomization operations. You can refer \n",
    "to the official Python documentation for a comprehensive list of functions available in the random module."
   ]
  }
 ],
 "metadata": {
  "jupytext": {
   "cell_metadata_filter": "-all",
   "main_language": "python",
   "notebook_metadata_filter": "-all"
  }
 },
 "nbformat": 4,
 "nbformat_minor": 5
}
