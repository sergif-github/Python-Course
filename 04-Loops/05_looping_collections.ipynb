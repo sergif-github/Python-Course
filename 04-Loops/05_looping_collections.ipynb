{
 "cells": [
  {
   "attachments": {},
   "cell_type": "markdown",
   "id": "85c7e007",
   "metadata": {},
   "source": [
    "# Module 4: Loops\n",
    "\n",
    "## Part 5: Looping Through Collections\n",
    "\n",
    "In Python, you can use loops to iterate through collections such as lists, tuples, strings, and dictionaries. This allows you to access and process each element or key-value pair within the collection. \n",
    "\n",
    "Let's explore how to loop through different types of collections:\n",
    "\n",
    "### 5.1. Looping Through Lists and Tuples\n",
    "\n",
    "To loop through a list or tuple, you can use the for loop in conjunction with the collection name. \n",
    "\n",
    "Here's an example:"
   ]
  },
  {
   "cell_type": "code",
   "execution_count": 1,
   "id": "d19abf53",
   "metadata": {},
   "outputs": [
    {
     "name": "stdout",
     "output_type": "stream",
     "text": [
      "apple\n",
      "banana\n",
      "cherry\n",
      "Loop finished\n"
     ]
    }
   ],
   "source": [
    "fruits = [\"apple\", \"banana\", \"cherry\"]\n",
    "\n",
    "for fruit in fruits:\n",
    "    print(fruit)\n",
    "\n",
    "print(\"Loop finished\")"
   ]
  },
  {
   "attachments": {},
   "cell_type": "markdown",
   "id": "d9f5b52c",
   "metadata": {},
   "source": [
    "In this example, the for loop iterates over each element in the fruits list. The variable fruit takes on the value of each element in turn,\n",
    "and the print statement displays the value. After iterating over all the elements, the message \"Loop finished\" is printed.\n",
    "\n",
    "### 5.2. Looping Through Strings\n",
    "Strings in Python are iterable, so you can also loop through each character in a string using a for loop. \n",
    "\n",
    "Here's an example:"
   ]
  },
  {
   "cell_type": "code",
   "execution_count": 2,
   "id": "fbecd130",
   "metadata": {},
   "outputs": [
    {
     "name": "stdout",
     "output_type": "stream",
     "text": [
      "H\n",
      "e\n",
      "l\n",
      "l\n",
      "o\n",
      ",\n",
      " \n",
      "W\n",
      "o\n",
      "r\n",
      "l\n",
      "d\n",
      "!\n",
      "Loop finished\n"
     ]
    }
   ],
   "source": [
    "message = \"Hello, World!\"\n",
    "\n",
    "for char in message:\n",
    "    print(char)\n",
    "\n",
    "print(\"Loop finished\")"
   ]
  },
  {
   "attachments": {},
   "cell_type": "markdown",
   "id": "d689c05f",
   "metadata": {},
   "source": [
    "In this example, the for loop iterates over each character in the message string. The variable char takes on the value of each character in turn,\n",
    "and the print statement displays the character. After iterating over all the characters, the message \"Loop finished\" is printed.\n",
    "\n",
    "### 5.3. Looping Through Dictionaries\n",
    "When looping through a dictionary, you can access both the keys and values using the items() method. \n",
    "\n",
    "Here's an example:"
   ]
  },
  {
   "cell_type": "code",
   "execution_count": 3,
   "id": "d21afb25",
   "metadata": {},
   "outputs": [
    {
     "name": "stdout",
     "output_type": "stream",
     "text": [
      "John scored 85\n",
      "Alice scored 92\n",
      "Bob scored 78\n",
      "Loop finished\n"
     ]
    }
   ],
   "source": [
    "student_scores = {\"John\": 85, \"Alice\": 92, \"Bob\": 78}\n",
    "\n",
    "for name, score in student_scores.items():\n",
    "    print(name, \"scored\", score)\n",
    "\n",
    "print(\"Loop finished\")"
   ]
  },
  {
   "attachments": {},
   "cell_type": "markdown",
   "id": "46d57356",
   "metadata": {},
   "source": [
    "In this example, the for loop iterates over the key-value pairs in the student_scores dictionary. The variables name and score take on the key\n",
    "and value of each pair, respectively, and the print statement displays the name and score. After iterating over all the key-value pairs, the message\n",
    "\"Loop finished\" is printed.\n",
    "\n",
    "### 5.4 Summary\n",
    "\n",
    "In this part, you learned how to loop through different types of collections in Python. Use the for loop to iterate over lists, tuples, strings,\n",
    "and dictionaries. Customize the loop based on the specific requirements of your program, and access the elements or key-value pairs within the collection as needed."
   ]
  }
 ],
 "metadata": {
  "jupytext": {
   "cell_metadata_filter": "-all",
   "main_language": "python",
   "notebook_metadata_filter": "-all"
  },
  "kernelspec": {
   "display_name": "Python 3",
   "language": "python",
   "name": "python3"
  },
  "language_info": {
   "codemirror_mode": {
    "name": "ipython",
    "version": 3
   },
   "file_extension": ".py",
   "mimetype": "text/x-python",
   "name": "python",
   "nbconvert_exporter": "python",
   "pygments_lexer": "ipython3",
   "version": "3.8.10"
  }
 },
 "nbformat": 4,
 "nbformat_minor": 5
}
