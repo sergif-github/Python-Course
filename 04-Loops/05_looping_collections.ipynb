{
 "cells": [
  {
   "cell_type": "markdown",
   "id": "85c7e007",
   "metadata": {},
   "source": [
    "# Module 4: Loops\n",
    "\n",
    "## Part 5: Looping Through Collections\n",
    "\n",
    "In Python, you can use loops to iterate through collections such as lists, tuples, strings, and dictionaries. This allows you to access \n",
    "and process each element or key-value pair within the collection. Let's explore how to loop through different types of collections:\n",
    "\n",
    "### 5.1. Looping Through Lists and Tuples\n",
    "\n",
    "To loop through a list or tuple, you can use the `for` loop in conjunction with the collection name. Here's an example:"
   ]
  },
  {
   "cell_type": "code",
   "execution_count": null,
   "id": "d19abf53",
   "metadata": {},
   "outputs": [],
   "source": [
    "fruits = [\"apple\", \"banana\", \"cherry\"]\n",
    "\n",
    "for fruit in fruits:\n",
    "    print(fruit)\n",
    "\n",
    "print(\"Loop finished\")"
   ]
  },
  {
   "cell_type": "markdown",
   "id": "d9f5b52c",
   "metadata": {},
   "source": [
    "In this example, the for loop iterates over each element in the fruits list. The variable fruit takes on the value of each element in turn,\n",
    "and the print statement displays the value. After iterating over all the elements, the message \"Loop finished\" is printed.\n",
    "\n",
    "### 5.2. Looping Through Strings\n",
    "Strings in Python are iterable, so you can also loop through each character in a string using a for loop. Here's an example:"
   ]
  },
  {
   "cell_type": "code",
   "execution_count": null,
   "id": "fbecd130",
   "metadata": {},
   "outputs": [],
   "source": [
    "message = \"Hello, World!\"\n",
    "\n",
    "for char in message:\n",
    "    print(char)\n",
    "\n",
    "print(\"Loop finished\")"
   ]
  },
  {
   "cell_type": "markdown",
   "id": "d689c05f",
   "metadata": {},
   "source": [
    "In this example, the for loop iterates over each character in the message string. The variable char takes on the value of each character in turn,\n",
    "and the print statement displays the character. After iterating over all the characters, the message \"Loop finished\" is printed.\n",
    "\n",
    "### 5.3. Looping Through Dictionaries\n",
    "When looping through a dictionary, you can access both the keys and values using the items() method. Here's an example:"
   ]
  },
  {
   "cell_type": "code",
   "execution_count": null,
   "id": "d21afb25",
   "metadata": {},
   "outputs": [],
   "source": [
    "student_scores = {\"John\": 85, \"Alice\": 92, \"Bob\": 78}\n",
    "\n",
    "for name, score in student_scores.items():\n",
    "    print(name, \"scored\", score)\n",
    "\n",
    "print(\"Loop finished\")"
   ]
  },
  {
   "cell_type": "markdown",
   "id": "46d57356",
   "metadata": {},
   "source": [
    "In this example, the for loop iterates over the key-value pairs in the student_scores dictionary. The variables name and score take on the key\n",
    "and value of each pair, respectively, and the print statement displays the name and score. After iterating over all the key-value pairs, the message\n",
    "\"Loop finished\" is printed.\n",
    "\n",
    "### 5.4 Summary\n",
    "\n",
    "In this part, you learned how to loop through different types of collections in Python. Use the for loop to iterate over lists, tuples, strings,\n",
    "and dictionaries. Customize the loop based on the specific requirements of your program, and access the elements or key-value pairs within the collection as needed."
   ]
  }
 ],
 "metadata": {
  "jupytext": {
   "cell_metadata_filter": "-all",
   "main_language": "python",
   "notebook_metadata_filter": "-all"
  }
 },
 "nbformat": 4,
 "nbformat_minor": 5
}
