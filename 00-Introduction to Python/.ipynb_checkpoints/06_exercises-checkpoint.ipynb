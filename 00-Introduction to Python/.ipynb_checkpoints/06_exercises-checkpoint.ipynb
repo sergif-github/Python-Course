{
 "cells": [
  {
   "cell_type": "markdown",
   "id": "2bb744d8",
   "metadata": {},
   "source": [
    "Module 0: Introduction to Python"
   ]
  },
  {
   "cell_type": "markdown",
   "id": "b46f4558",
   "metadata": {},
   "source": [
    "Part 6: Exercises"
   ]
  },
  {
   "cell_type": "markdown",
   "id": "00521e37",
   "metadata": {
    "lines_to_next_cell": 2
   },
   "source": [
    "Exercise 1\n",
    "Write a Python program to display \"Hello, Python!\" as the output."
   ]
  },
  {
   "cell_type": "markdown",
   "id": "6419e077",
   "metadata": {
    "lines_to_next_cell": 2
   },
   "source": [
    "Exercise 2\n",
    "Write a Python program that prompts the user to enter two numbers and prints their sum."
   ]
  },
  {
   "cell_type": "markdown",
   "id": "651d6996",
   "metadata": {
    "lines_to_next_cell": 2
   },
   "source": [
    "Exercise 3\n",
    "Write a Python program that prompts the user to enter their name and prints a welcome message."
   ]
  },
  {
   "cell_type": "markdown",
   "id": "d5e830b5",
   "metadata": {},
   "source": [
    "Exercise 4\n",
    "Write a Python program that prompts the user to enter three words and prints them in reverse order, separated by a space."
   ]
  },
  {
   "cell_type": "code",
   "execution_count": null,
   "id": "e295a531",
   "metadata": {
    "lines_to_next_cell": 2
   },
   "outputs": [],
   "source": []
  }
 ],
 "metadata": {
  "jupytext": {
   "cell_metadata_filter": "-all",
   "main_language": "python",
   "notebook_metadata_filter": "-all"
  }
 },
 "nbformat": 4,
 "nbformat_minor": 5
}
