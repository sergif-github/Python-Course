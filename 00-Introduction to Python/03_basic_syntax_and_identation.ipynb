{
 "cells": [
  {
   "cell_type": "markdown",
   "id": "e7249158",
   "metadata": {
    "lines_to_next_cell": 0
   },
   "source": [
    "# Module 0: Introduction to Python\n",
    "\n",
    "## Part 3: Basic Syntax and Indentation\n",
    "\n",
    "Python follows a simple and readable syntax that uses indentation to define the structure of code blocks. \n",
    "Understanding the basic syntax rules and proper indentation is crucial for writing correct and maintainable Python programs.\n",
    "\n",
    "### 3.1. Statements and Lines\n",
    "\n",
    "In Python, statements are instructions or commands that perform specific actions. Each statement typically occupies a single line,\n",
    "but you can extend a statement across multiple lines using line continuation techniques.\n",
    "\n",
    "A line of code in Python is terminated by a newline character. However, you can use a backslash () at the end of a line\n",
    "to indicate that the statement continues on the next line.\n",
    "\n",
    "For example:"
   ]
  },
  {
   "cell_type": "code",
   "execution_count": null,
   "id": "bc2bdb8f",
   "metadata": {},
   "outputs": [],
   "source": [
    "print(\"Hello,\")\n",
    "print(\"World!\")\n",
    "\n",
    "Output:\n",
    "Hello,\n",
    "World!"
   ]
  },
  {
   "cell_type": "markdown",
   "id": "228289ca",
   "metadata": {
    "lines_to_next_cell": 0
   },
   "source": [
    "### 3.2. Indentation\n",
    "\n",
    "In Python, indentation plays a crucial role in defining the structure and scope of code blocks. Unlike other programming languages\n",
    "that use braces or keywords, Python uses consistent indentation to indicate the beginning and end of blocks.\n",
    "Indentation is typically done using spaces or tabs, but it's essential to be consistent throughout your code. \n",
    "The standard recommendation is to use four spaces for each indentation level.\n",
    "\n",
    "For example:"
   ]
  },
  {
   "cell_type": "code",
   "execution_count": null,
   "id": "b0a87b79",
   "metadata": {},
   "outputs": [],
   "source": [
    "if condition:\n",
    "    # Indented block of code\n",
    "    statement1\n",
    "    statement2\n",
    "else:\n",
    "    # Another indented block of code\n",
    "    statement3\n",
    "    statement4"
   ]
  },
  {
   "cell_type": "markdown",
   "id": "95da32f3",
   "metadata": {
    "lines_to_next_cell": 0
   },
   "source": [
    "Proper indentation is crucial for code readability and ensures that the program logic is correctly interpreted by the Python interpreter.\n",
    "\n",
    "### 3.2. Blank Lines\n",
    "\n",
    "Blank lines, i.e., empty lines, are ignored by the Python interpreter and can be used to improve code readability by separating\n",
    "code sections or logical blocks. You can use blank lines to enhance the visual structure and organization of your code.\n",
    "\n",
    "### 3.3. Code Blocks and Control Flow\n",
    "\n",
    "Control flow statements like if, for, while, and function definitions create code blocks. These code blocks are defined by their\n",
    "indentation level. All statements within a code block must be indented at the same level.\n",
    "For example:"
   ]
  },
  {
   "cell_type": "code",
   "execution_count": null,
   "id": "8c8f21e6",
   "metadata": {},
   "outputs": [],
   "source": [
    "if condition:\n",
    "    # Code block 1\n",
    "    statement1\n",
    "    statement2\n",
    "else:\n",
    "    # Code block 2\n",
    "    statement3\n",
    "    statement4"
   ]
  },
  {
   "cell_type": "markdown",
   "id": "5f22c75a",
   "metadata": {},
   "source": [
    "### 3.4 Summary\n",
    "\n",
    "Indentation defines the hierarchy and nesting of code blocks. It's important to ensure proper indentation to avoid syntax\n",
    "errors and accurately represent the desired program logic.\n",
    "\n",
    "Understanding and adhering to the basic syntax rules and indentation principles in Python is fundamental for writing clear,\n",
    "readable, and error-free code. It promotes consistency and helps others understand and maintain your code."
   ]
  }
 ],
 "metadata": {
  "jupytext": {
   "cell_metadata_filter": "-all",
   "main_language": "python",
   "notebook_metadata_filter": "-all"
  }
 },
 "nbformat": 4,
 "nbformat_minor": 5
}
