{
 "cells": [
  {
   "cell_type": "markdown",
   "id": "1fad0cb3",
   "metadata": {
    "lines_to_next_cell": 0
   },
   "source": [
    "# Module 0: Introduction to Python\n",
    "\n",
    "## Part 4: Printing and commenting code\n",
    "\n",
    "### 4.1. Printing output with print()\n",
    "\n",
    "In Python, the print() function is used to display output on the console or terminal. It allows you to print text, variables,\n",
    "and expressions. The output is typically displayed as a new line, but you can customize the behavior using different arguments.\n",
    "\n",
    "To print a simple text message, you can pass the message as a string to the print() function:"
   ]
  },
  {
   "cell_type": "code",
   "execution_count": null,
   "id": "4f56f962",
   "metadata": {},
   "outputs": [],
   "source": [
    "print(\"Hello, World!\")\n",
    "\n",
    "Output:\n",
    "Hello, World!\n",
    "You can also print the values of variables by including them as arguments in the print() function:"
   ]
  },
  {
   "cell_type": "code",
   "execution_count": null,
   "id": "d7e66fbf",
   "metadata": {},
   "outputs": [],
   "source": [
    "name = \"Alice\"\n",
    "age = 25\n",
    "print(\"Name:\", name)\n",
    "print(\"Age:\", age)\n",
    "\n",
    "Output:\n",
    "Name: Alice\n",
    "Age: 25"
   ]
  },
  {
   "cell_type": "markdown",
   "id": "eab0b6e5",
   "metadata": {},
   "source": [
    "You can concatenate multiple values or variables using the + operator or format the output using string formatting techniques. \n",
    "These methods allow you to create dynamic output based on the values of variables:"
   ]
  },
  {
   "cell_type": "code",
   "execution_count": null,
   "id": "852eaf5a",
   "metadata": {},
   "outputs": [],
   "source": [
    "x = 10\n",
    "y = 5\n",
    "print(\"The sum of\", x, \"and\", y, \"is\", x + y)\n",
    "print(\"The product of {} and {} is {}\".format(x, y, x * y))\n",
    "\n",
    "Output:\n",
    "The sum of 10 and 5 is 15\n",
    "The product of 10 and 5 is 50"
   ]
  },
  {
   "cell_type": "markdown",
   "id": "8cdea4e9",
   "metadata": {},
   "source": [
    "### 4.2. Commenting Code\n",
    "\n",
    "Comments in Python are used to provide additional information, explanations, or disable specific lines of code. \n",
    "They are ignored by the Python interpreter and are intended for human readers.\n",
    "\n",
    "To add a single-line comment, you can use the # symbol. Everything after the # symbol on that line is considered a comment:"
   ]
  },
  {
   "cell_type": "code",
   "execution_count": null,
   "id": "4d03ccc6",
   "metadata": {},
   "outputs": [],
   "source": [
    "# This is a single-line comment\n",
    "print(\"Hello, World!\")  # This line prints the greeting"
   ]
  },
  {
   "cell_type": "markdown",
   "id": "22559f1c",
   "metadata": {},
   "source": [
    "For multi-line comments, you can enclose the text within triple quotes (\"\"\" or '''). This is often used for docstrings, \n",
    "which provide documentation for functions, classes, or modules:"
   ]
  },
  {
   "cell_type": "code",
   "execution_count": null,
   "id": "cab0aa19",
   "metadata": {},
   "outputs": [],
   "source": [
    "\"\"\"\n",
    "This is a multi-line comment.\n",
    "It can span multiple lines.\n",
    "\"\"\"\n",
    "def greet(name):\n",
    "    \"\"\"This function greets the user by name.\"\"\"\n",
    "    print(\"Hello,\", name)\n",
    "\n",
    "greet(\"Alice\")\n",
    "\n",
    "Output:\n",
    "Hello, Alice"
   ]
  },
  {
   "cell_type": "markdown",
   "id": "7e59de1f",
   "metadata": {},
   "source": [
    "### 4.3 Summary\n",
    "\n",
    "Comments are essential for code documentation, explaining complex logic, or temporarily disabling code during development or debugging.\n",
    "\n",
    "By utilizing the print() function and adding comments, you can effectively display output and provide clarity and context within your Python code."
   ]
  }
 ],
 "metadata": {
  "jupytext": {
   "cell_metadata_filter": "-all",
   "main_language": "python",
   "notebook_metadata_filter": "-all"
  }
 },
 "nbformat": 4,
 "nbformat_minor": 5
}
