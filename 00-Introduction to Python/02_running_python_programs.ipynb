{
 "cells": [
  {
   "cell_type": "markdown",
   "id": "6a9bd5fb",
   "metadata": {},
   "source": [
    "# Module 0: Introduction to Python\n",
    "\n",
    "## Part 2: Running Python Programs\n",
    "\n",
    "In this section, you will learn different ways to run Python programs and execute your Python code. \n",
    "We will explore various methods and tools that allow you to execute Python scripts and interact with your programs.\n",
    "By the end of this section, you will have a solid understanding of the different methods available to execute Python code,\n",
    "from the interactive mode to running scripts and utilizing IDEs or online interpreters. You will be able to choose the appropriate method based on your specific needs and preferences.\n",
    "\n",
    "### 2.1. Running Python in Interactive Mode\n",
    "\n",
    "Python provides an interactive mode, commonly referred to as a Python shell or REPL (Read-Eval-Print Loop), \n",
    "which allows you to execute Python code line by line and see the immediate results. This mode is useful for testing code\n",
    "snippets, experimenting with language features, and performing quick calculations.\n",
    "\n",
    "#### 2.1.1 Launching the Python Shell\n",
    "\n",
    "To launch the Python shell, open a command prompt or terminal and enter the python command. \n",
    "This will start the Python interpreter and display a prompt indicating that you can enter Python code. \n",
    "Depending on your system, you may need to use python3 instead of python to launch the Python 3 interpreter.\n",
    "`python`\n",
    "`python3`\n",
    "\n",
    "#### 2.1.2 Executing Python Statements Interactively\n",
    "\n",
    "Once the Python shell is launched, you can start entering Python statements and expressions, and the interpreter will \n",
    "execute them immediately. For example, you can try entering simple mathematical expressions:"
   ]
  },
  {
   "cell_type": "code",
   "execution_count": null,
   "id": "d89cfe0f",
   "metadata": {},
   "outputs": [],
   "source": [
    ">>> 2 + 3\n",
    "5"
   ]
  },
  {
   "cell_type": "code",
   "execution_count": null,
   "id": "565b6900",
   "metadata": {},
   "outputs": [],
   "source": [
    ">>> 10 / 2\n",
    "5.0"
   ]
  },
  {
   "cell_type": "markdown",
   "id": "b8a4fc89",
   "metadata": {
    "lines_to_next_cell": 0
   },
   "source": [
    "You can also define variables, create functions, and execute more complex code:"
   ]
  },
  {
   "cell_type": "code",
   "execution_count": null,
   "id": "2001d293",
   "metadata": {
    "lines_to_next_cell": 0
   },
   "outputs": [],
   "source": [
    ">>> x = 5\n",
    ">>> y = 2 * x + 3\n",
    ">>> y\n",
    "13"
   ]
  },
  {
   "cell_type": "code",
   "execution_count": null,
   "id": "e9b02e3e",
   "metadata": {},
   "outputs": [],
   "source": [
    ">>> def square(n):\n",
    "...     return n ** 2\n",
    "...\n",
    ">>> square(4)\n",
    "16"
   ]
  },
  {
   "cell_type": "markdown",
   "id": "b0f1f704",
   "metadata": {
    "lines_to_next_cell": 0
   },
   "source": [
    "#### 2.1.3 Exiting the Python Shell\n",
    "\n",
    "To exit the Python shell, you can use the exit() function or press the appropriate key combination for your operating \n",
    "system (such as Ctrl+Z or Ctrl+D)."
   ]
  },
  {
   "cell_type": "code",
   "execution_count": null,
   "id": "70694708",
   "metadata": {
    "lines_to_next_cell": 0
   },
   "outputs": [],
   "source": [
    ">>> exit()"
   ]
  },
  {
   "cell_type": "code",
   "execution_count": null,
   "id": "b1ede749",
   "metadata": {},
   "outputs": [],
   "source": [
    ">>> quit()"
   ]
  },
  {
   "cell_type": "markdown",
   "id": "6f705c96",
   "metadata": {
    "lines_to_next_cell": 0
   },
   "source": [
    "By running Python in interactive mode, you have a convenient way to test code, experiment with different ideas, \n",
    "and get immediate feedback. It's a valuable tool for learning and exploring Python's features and capabilities\n",
    "\n",
    "### 2.2. Running Python Scripts\n",
    "\n",
    "Python scripts are saved as text files with the .py extension and can be executed using various methods. \n",
    "Running Python scripts allows you to execute a series of Python statements or functions stored in a file.\n",
    "\n",
    "#### 2.2.1 Creating a Python Script\n",
    "To create a Python script, you can use any text editor or integrated development environment (IDE) of your choice. \n",
    "Open a new file and save it with a .py extension. For example, you can create a file named my_script.py.\n",
    "\n",
    "#### 2.2.2 Executing Python Scripts from the Command Line\n",
    "Once you have created your Python script, you can execute it from the command line by invoking the Python interpreter \n",
    "followed by the name of the script file. Open a command prompt or terminal, navigate to the directory where your script\n",
    "is located, and use the following command:\n",
    "```shell\n",
    "python my_script.py\n",
    "```\n",
    "\n",
    "The Python interpreter will read the contents of the script file, execute the statements sequentially, and display the output \n",
    "or perform any desired actions.\n",
    "\n",
    "#### 2.2.3 Passing Command-Line Arguments to a Python Script\n",
    "You can also pass command-line arguments to your Python script when executing it. Command-line arguments allow you to provide\n",
    "inputs or options to your script dynamically. To access the command-line arguments within your script, you can use the sys module,\n",
    "specifically the sys.argv list.\n",
    "\n",
    "For example, consider a script named greet.py that takes a name as a command-line argument and prints a personalized greeting:"
   ]
  },
  {
   "cell_type": "code",
   "execution_count": null,
   "id": "ba50fb65",
   "metadata": {},
   "outputs": [],
   "source": [
    "import sys\n",
    "name = sys.argv[1]\n",
    "print(f\"Hello, {name}!\")"
   ]
  },
  {
   "cell_type": "markdown",
   "id": "4f50f7fa",
   "metadata": {},
   "source": [
    "To execute this script and pass the name \"John\" as an argument, use the following command:\n",
    "```shell\n",
    "python greet.py John\n",
    "```\n",
    "\n",
    "The script will output:\n",
    "Hello, John!\n",
    "\n",
    "By running Python scripts, you can automate tasks, build applications, and create reusable code. It provides a way to execute\n",
    "a sequence of Python statements stored in a file and enables the development of more complex and extensive Python programs."
   ]
  }
 ],
 "metadata": {
  "jupytext": {
   "cell_metadata_filter": "-all",
   "main_language": "python",
   "notebook_metadata_filter": "-all"
  }
 },
 "nbformat": 4,
 "nbformat_minor": 5
}
