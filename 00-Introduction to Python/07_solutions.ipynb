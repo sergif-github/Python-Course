{
 "cells": [
  {
   "cell_type": "markdown",
   "id": "aac7448c",
   "metadata": {},
   "source": [
    "Module 0: Introduction to Python"
   ]
  },
  {
   "cell_type": "markdown",
   "id": "16ad23ba",
   "metadata": {},
   "source": [
    "Part 7: Solutions"
   ]
  },
  {
   "cell_type": "code",
   "execution_count": null,
   "id": "6e7b36a3",
   "metadata": {
    "lines_to_next_cell": 2
   },
   "outputs": [],
   "source": [
    "# Exercise 1\n",
    "# Write a Python program to display \"Hello, Python!\" as the output.\n",
    "print(\"Exercise 1\")\n",
    "print(\"Hello, Python!\")"
   ]
  },
  {
   "cell_type": "code",
   "execution_count": null,
   "id": "3d0678cf",
   "metadata": {
    "lines_to_next_cell": 2
   },
   "outputs": [],
   "source": [
    "# Exercise 2\n",
    "# Write a Python program that prompts the user to enter two numbers and prints their sum.\n",
    "print(\"\\nExercise 2\")\n",
    "num1 = input(\"Enter the first number: \")\n",
    "num2 = input(\"Enter the second number: \")\n",
    "print(\"The first number is:\", num1)\n",
    "print(\"The second number is:\", num2)"
   ]
  },
  {
   "cell_type": "code",
   "execution_count": null,
   "id": "9a0eb958",
   "metadata": {
    "lines_to_next_cell": 2
   },
   "outputs": [],
   "source": [
    "# Exercise 3\n",
    "# Write a Python program that prompts the user to enter their name and prints a welcome message.\n",
    "print(\"\\nExercise 3\")\n",
    "name = input(\"Enter your name: \")\n",
    "message = \"Hello, \" + name + \"! Welcome to the Python world!\"\n",
    "print(message)"
   ]
  },
  {
   "cell_type": "code",
   "execution_count": null,
   "id": "f3ad4cc7",
   "metadata": {},
   "outputs": [],
   "source": [
    "# Exercise 4\n",
    "# Write a Python program that prompts the user to enter three words and prints them in reverse order, separated by a space.\n",
    "print(\"\\nExercise 4\")\n",
    "word1 = input(\"Enter the first word: \")\n",
    "word2 = input(\"Enter the second word: \")\n",
    "word3 = input(\"Enter the third word: \")\n",
    "print(word3, word2, word1)"
   ]
  }
 ],
 "metadata": {
  "jupytext": {
   "cell_metadata_filter": "-all",
   "main_language": "python",
   "notebook_metadata_filter": "-all"
  }
 },
 "nbformat": 4,
 "nbformat_minor": 5
}
