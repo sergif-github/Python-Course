{
 "cells": [
  {
   "cell_type": "markdown",
   "id": "fda2e53c",
   "metadata": {},
   "source": [
    "# Module 7: Exception Handling\n",
    "\n",
    "## Part 3: Catching Specific Exceptions\n",
    "\n",
    "In Python, you can catch and handle specific exceptions by specifying the exception type in the `except` block. This allows you\n",
    "to customize the error handling for different types of exceptions that may occur in your code.\n",
    "\n",
    "### 3.1 Catching a Specific Exception\n",
    "\n",
    "To catch a specific exception, you specify the exception type after the `except` keyword. If the raised exception matches the\n",
    "specified type, the corresponding `except` block is executed. Here's the syntax:"
   ]
  },
  {
   "cell_type": "code",
   "execution_count": null,
   "id": "b1ab64e4",
   "metadata": {},
   "outputs": [],
   "source": [
    "try:\n",
    "    # Code that might raise an exception\n",
    "    # ...\n",
    "except ExceptionType:\n",
    "    # Exception handling code for the specific exception\n",
    "    # ..."
   ]
  },
  {
   "cell_type": "markdown",
   "id": "36e5c169",
   "metadata": {},
   "source": [
    "For example, if you want to handle a ValueError, you can write the following code:"
   ]
  },
  {
   "cell_type": "code",
   "execution_count": null,
   "id": "22d6c40a",
   "metadata": {},
   "outputs": [],
   "source": [
    "try:\n",
    "    age = int(input(\"Enter your age: \"))\n",
    "except ValueError:\n",
    "    print(\"Invalid age. Please enter a valid integer.\")"
   ]
  },
  {
   "cell_type": "markdown",
   "id": "02d23ea3",
   "metadata": {},
   "source": [
    "In the above example, if the user enters a non-integer value for the age, a ValueError will be raised, and the corresponding except\n",
    "ValueError block will be executed, displaying the error message.\n",
    "\n",
    "### 3.2 Catching Multiple Specific Exceptions\n",
    "\n",
    "You can handle multiple specific exceptions by using multiple except blocks. Each except block can handle a specific type of exception. \n",
    "The first except block that matches the raised exception type will be executed, and subsequent except blocks will be skipped. Here's an example:"
   ]
  },
  {
   "cell_type": "code",
   "execution_count": null,
   "id": "999a185c",
   "metadata": {},
   "outputs": [],
   "source": [
    "try:\n",
    "    # Code that might raise an exception\n",
    "    # ...\n",
    "except ValueError:\n",
    "    # Exception handling code for ValueError\n",
    "    # ...\n",
    "except TypeError:\n",
    "    # Exception handling code for TypeError\n",
    "    # ..."
   ]
  },
  {
   "cell_type": "markdown",
   "id": "40bff1d4",
   "metadata": {},
   "source": [
    "In the above example, if a ValueError occurs, the first except ValueError block will be executed. If a TypeError occurs, the second \n",
    "except TypeError block will be executed.\n",
    "\n",
    "### 3.3 Catching Multiple Specific Exceptions with a Single Except Block\n",
    "\n",
    "If you want to handle multiple exceptions with the same handling code, you can specify multiple exception types within a single\n",
    "except block. This can be useful when you want to provide the same error handling logic for different types of exceptions. \n",
    "Here's an example:"
   ]
  },
  {
   "cell_type": "code",
   "execution_count": null,
   "id": "63974309",
   "metadata": {},
   "outputs": [],
   "source": [
    "try:\n",
    "    # Code that might raise an exception\n",
    "    # ...\n",
    "except (ValueError, TypeError):\n",
    "    # Exception handling code for ValueError and TypeError\n",
    "    # ..."
   ]
  },
  {
   "cell_type": "markdown",
   "id": "8c5fd8e5",
   "metadata": {},
   "source": [
    "In the above example, if either a ValueError or a TypeError occurs, the except (ValueError, TypeError) block will be executed.\n",
    "\n",
    "### 3.4 Handling Specific Exceptions in a Hierarchical Manner\n",
    "\n",
    "When handling specific exceptions, it's important to consider the exception hierarchy. Python has a built-in hierarchy of exceptions,\n",
    " where some exceptions are subclasses of others. You can handle exceptions in a hierarchical manner by starting with the most specific\n",
    "  exceptions and moving towards more general ones.\n",
    "\n",
    "For example, if you want to handle a specific exception like FileNotFoundError and its parent exception IOError, you can write \n",
    "the code as follows:"
   ]
  },
  {
   "cell_type": "code",
   "execution_count": null,
   "id": "9a85145a",
   "metadata": {},
   "outputs": [],
   "source": [
    "try:\n",
    "    # Code that might raise an exception\n",
    "    # ...\n",
    "except FileNotFoundError:\n",
    "    # Exception handling code for FileNotFoundError\n",
    "    # ...\n",
    "except IOError:\n",
    "    # Exception handling code for IOError\n",
    "    # ..."
   ]
  },
  {
   "cell_type": "markdown",
   "id": "483267de",
   "metadata": {},
   "source": [
    "In the above example, if a FileNotFoundError occurs, the first except FileNotFoundError block will be executed. If an IOError\n",
    "occurs that is not a FileNotFoundError, the second except IOError block will be executed.\n",
    "\n",
    "### 3.5 Catching All Other Exceptions\n",
    "\n",
    "To handle all other exceptions that are not explicitly caught by specific except blocks, you can use a generic except block \n",
    "without specifying the exception type. However, it is generally recommended to catch specific exceptions whenever possible \n",
    "to provide more meaningful error handling. Here's an example of a generic except block:"
   ]
  },
  {
   "cell_type": "code",
   "execution_count": null,
   "id": "0a192cde",
   "metadata": {},
   "outputs": [],
   "source": [
    "try:\n",
    "    # Code that might raise an exception\n",
    "    # ...\n",
    "except:\n",
    "    # Generic exception handling code\n",
    "    # ..."
   ]
  },
  {
   "cell_type": "markdown",
   "id": "dd7b3ba4",
   "metadata": {},
   "source": [
    "In the above example, if any exception occurs that is not caught by previous except blocks, the generic except block will be executed.\n",
    "\n",
    "### 3.5 Summary\n",
    "\n",
    "Catching specific exceptions allows you to handle different types of exceptions differently in your code. By specifying \n",
    "the exception type in the except block, you can provide customized error handling for specific scenarios. You can catch a single\n",
    "specific exception, handle multiple specific exceptions, or handle multiple exceptions with a single except block. \n",
    "It's important to consider the exception hierarchy and handle exceptions in a hierarchical manner to ensure that exceptions \n",
    "are handled appropriately."
   ]
  }
 ],
 "metadata": {
  "jupytext": {
   "cell_metadata_filter": "-all",
   "main_language": "python",
   "notebook_metadata_filter": "-all"
  }
 },
 "nbformat": 4,
 "nbformat_minor": 5
}
