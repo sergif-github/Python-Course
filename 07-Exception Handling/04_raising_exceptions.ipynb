{
 "cells": [
  {
   "cell_type": "markdown",
   "id": "76dfedc1",
   "metadata": {},
   "source": [
    "# Module 7: Exception Handling\n",
    "\n",
    "## Part 4: Raising Exceptions\n",
    "\n",
    "In Python, you can raise exceptions explicitly to indicate that an error or exceptional condition has occurred during the execution\n",
    "of your code. This can be useful when you want to handle specific situations or enforce certain conditions.\n",
    "\n",
    "### 4.1 Raising Exceptions\n",
    "\n",
    "To raise an exception, you use the `raise` statement followed by an instance of an exception class or an exception object. \n",
    "Here's the basic syntax:"
   ]
  },
  {
   "cell_type": "code",
   "execution_count": null,
   "id": "c8dfc254",
   "metadata": {},
   "outputs": [],
   "source": [
    "raise ExceptionType(\"Error message\")"
   ]
  },
  {
   "cell_type": "markdown",
   "id": "80c0c124",
   "metadata": {},
   "source": [
    "For example, to raise a ValueError exception with a custom error message, you can write:"
   ]
  },
  {
   "cell_type": "code",
   "execution_count": null,
   "id": "860b1780",
   "metadata": {},
   "outputs": [],
   "source": [
    "raise ValueError(\"Invalid input. Please enter a positive number.\")"
   ]
  },
  {
   "cell_type": "markdown",
   "id": "72d11ccb",
   "metadata": {},
   "source": [
    "When an exception is raised, the program flow is interrupted, and the raised exception is propagated up the call stack until \n",
    "it is caught by an appropriate except block.\n",
    "\n",
    "### 4.2 Custom Exceptions\n",
    "\n",
    "In addition to built-in exceptions, you can also create your own custom exception classes to represent specific types of \n",
    "errors or exceptional conditions in your code. Custom exceptions can provide more meaningful error messages and allow you to \n",
    "handle specific situations with greater control.\n",
    "\n",
    "To create a custom exception, you typically define a new class that inherits from the Exception class or one of its subclasses. \n",
    "Here's an example:"
   ]
  },
  {
   "cell_type": "code",
   "execution_count": null,
   "id": "b2ce7289",
   "metadata": {},
   "outputs": [],
   "source": [
    "class CustomException(Exception):\n",
    "    pass"
   ]
  },
  {
   "cell_type": "markdown",
   "id": "05dc0056",
   "metadata": {},
   "source": [
    "You can then raise instances of your custom exception class using the same raise statement:"
   ]
  },
  {
   "cell_type": "code",
   "execution_count": null,
   "id": "50c01874",
   "metadata": {},
   "outputs": [],
   "source": [
    "raise CustomException(\"Custom error message\")"
   ]
  },
  {
   "cell_type": "markdown",
   "id": "744708ea",
   "metadata": {},
   "source": [
    "By raising a custom exception, you can signal specific errors or exceptional conditions in your code and handle them appropriately.\n",
    "\n",
    "### 4.3 Raising Exceptions in Conditional Statements\n",
    "\n",
    "Raising exceptions can be particularly useful when certain conditions are not met in your code. For example, you can raise an exception\n",
    "if a function receives invalid input or encounters an unexpected situation. By raising an exception, you can notify the caller \n",
    "of the function or the surrounding code that an error has occurred.\n",
    "\n",
    "Here's an example that demonstrates raising an exception in a conditional statement:"
   ]
  },
  {
   "cell_type": "code",
   "execution_count": null,
   "id": "1866bdc0",
   "metadata": {},
   "outputs": [],
   "source": [
    "def divide(x, y):\n",
    "    if y == 0:\n",
    "        raise ValueError(\"Cannot divide by zero\")\n",
    "    return x / y"
   ]
  },
  {
   "cell_type": "markdown",
   "id": "3401ace1",
   "metadata": {},
   "source": [
    "In the above example, if the y value is 0, a ValueError exception is raised with the corresponding error message. This ensures that\n",
    "the function does not perform an invalid division operation.\n",
    "\n",
    "### 4.4 Summary\n",
    "\n",
    "Raising exceptions allows you to explicitly indicate errors or exceptional conditions in your code. By raising built-in or custom\n",
    "exceptions, you can handle specific situations, enforce conditions, and provide meaningful error messages. When an exception is raised,\n",
    "the program flow is interrupted and the raised exception is propagated up the call stack until it is caught by an appropriate except block."
   ]
  }
 ],
 "metadata": {
  "jupytext": {
   "cell_metadata_filter": "-all",
   "main_language": "python",
   "notebook_metadata_filter": "-all"
  }
 },
 "nbformat": 4,
 "nbformat_minor": 5
}
