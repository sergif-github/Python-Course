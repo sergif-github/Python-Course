{
 "cells": [
  {
   "cell_type": "markdown",
   "id": "21775a1c",
   "metadata": {},
   "source": [
    "# Module 7: Exception Handling\n",
    "\n",
    "## Part 2: Handling Exceptions Using try-except Blocks\n",
    "\n",
    "In Python, you can handle exceptions using the `try-except` block. This construct allows you to catch and handle specific exceptions\n",
    "that may occur during the execution of your code. By handling exceptions, you can prevent your program from crashing and provide \n",
    "alternative actions or error messages to users.\n",
    "\n",
    "### 2.1 Syntax of the try-except Block\n",
    "\n",
    "The `try-except` block consists of the `try` block, where you place the code that might raise an exception, and one or more `except` \n",
    "blocks that define how to handle specific exceptions. Here's the basic syntax:"
   ]
  },
  {
   "cell_type": "code",
   "execution_count": null,
   "id": "4b4c7d15",
   "metadata": {},
   "outputs": [],
   "source": [
    "try:\n",
    "    # Code that might raise an exception\n",
    "    # ...\n",
    "except ExceptionType:\n",
    "    # Exception handling code\n",
    "    # ..."
   ]
  },
  {
   "cell_type": "markdown",
   "id": "781c8768",
   "metadata": {},
   "source": [
    "In the except block, you specify the type of exception you want to handle by mentioning the ExceptionType. If an exception of that \n",
    "type occurs in the try block, the corresponding except block is executed. You can have multiple except blocks to handle different types \n",
    "of exceptions.\n",
    "\n",
    "### 2.2 Handling Multiple Exceptions\n",
    "\n",
    "You can handle multiple exceptions by using multiple except blocks. Each except block can handle a specific type of exception. \n",
    "The first except block that matches the raised exception type will be executed, and subsequent except blocks will be skipped."
   ]
  },
  {
   "cell_type": "code",
   "execution_count": null,
   "id": "29deb283",
   "metadata": {},
   "outputs": [],
   "source": [
    "try:\n",
    "    # Code that might raise an exception\n",
    "    # ...\n",
    "except ExceptionType1:\n",
    "    # Exception handling code for ExceptionType1\n",
    "    # ...\n",
    "except ExceptionType2:\n",
    "    # Exception handling code for ExceptionType2\n",
    "    # ..."
   ]
  },
  {
   "cell_type": "markdown",
   "id": "25ff23ce",
   "metadata": {},
   "source": [
    "### 2.3 Handling Multiple Exceptions with a Single Except Block\n",
    "\n",
    "If you want to handle multiple exceptions with the same handling code, you can specify multiple exception types within a single except\n",
    "block. This is useful when you want to provide the same error handling logic for different types of exceptions."
   ]
  },
  {
   "cell_type": "code",
   "execution_count": null,
   "id": "a57f68ab",
   "metadata": {},
   "outputs": [],
   "source": [
    "try:\n",
    "    # Code that might raise an exception\n",
    "    # ...\n",
    "except (ExceptionType1, ExceptionType2):\n",
    "    # Exception handling code for ExceptionType1 and ExceptionType2\n",
    "    # ..."
   ]
  },
  {
   "cell_type": "markdown",
   "id": "0eb15b1d",
   "metadata": {},
   "source": [
    "### 2.4 Handling All Exceptions\n",
    "\n",
    "You can also use a generic except block to handle any type of exception. This can be useful when you want to catch all exceptions\n",
    " and provide a common error handling routine."
   ]
  },
  {
   "cell_type": "code",
   "execution_count": null,
   "id": "a31ed270",
   "metadata": {},
   "outputs": [],
   "source": [
    "try:\n",
    "    # Code that might raise an exception\n",
    "    # ...\n",
    "except:\n",
    "    # Exception handling code for any type of exception\n",
    "    # ..."
   ]
  },
  {
   "cell_type": "markdown",
   "id": "8f828f2f",
   "metadata": {},
   "source": [
    "### 2.5 The else Block\n",
    "\n",
    "In addition to the try and except blocks, you can include an optional else block after all the except blocks. The code inside the\n",
    "else block is executed if no exceptions occur in the try block. It is often used to perform cleanup or additional actions that \n",
    "should only happen when no exceptions are raised."
   ]
  },
  {
   "cell_type": "code",
   "execution_count": null,
   "id": "97fbda44",
   "metadata": {},
   "outputs": [],
   "source": [
    "try:\n",
    "    # Code that might raise an exception\n",
    "    # ...\n",
    "except ExceptionType:\n",
    "    # Exception handling code\n",
    "    # ...\n",
    "else:\n",
    "    # Code that executes if no exceptions occur\n",
    "    # ..."
   ]
  },
  {
   "cell_type": "markdown",
   "id": "8ff6a100",
   "metadata": {},
   "source": [
    "### 2.6 The finally Block\n",
    "\n",
    "Another optional block that can be used with the try-except block is the finally block. The code inside the finally block is \n",
    "always executed, regardless of whether an exception was raised or not. It is commonly used to release resources, close files, \n",
    "or perform other cleanup actions."
   ]
  },
  {
   "cell_type": "code",
   "execution_count": null,
   "id": "f2e6fdbe",
   "metadata": {},
   "outputs": [],
   "source": [
    "try:\n",
    "    # Code that might raise an exception\n",
    "    # ...\n",
    "except ExceptionType:\n",
    "    # Exception handling code\n",
    "    # ...\n",
    "finally:\n",
    "    # Code that always executes\n",
    "    # ..."
   ]
  },
  {
   "cell_type": "markdown",
   "id": "8ec11174",
   "metadata": {},
   "source": [
    "### 2.7 Summary\n",
    "\n",
    "Handling exceptions using the try-except block is a powerful technique in Python to deal with potential errors and ensure the\n",
    "smooth execution of your code. By catching and handling exceptions, you can provide better error messages, recover from unexpected situations, and prevent your program from crashing. With the else and finally blocks, you have additional flexibility to perform cleanup actions and handle various scenarios in your code."
   ]
  }
 ],
 "metadata": {
  "jupytext": {
   "cell_metadata_filter": "-all",
   "main_language": "python",
   "notebook_metadata_filter": "-all"
  }
 },
 "nbformat": 4,
 "nbformat_minor": 5
}
